{
 "cells": [
  {
   "cell_type": "code",
   "execution_count": 24,
   "id": "f2fe03e6",
   "metadata": {},
   "outputs": [],
   "source": [
    "import pandas as pd\n",
    "import numpy as np\n",
    "import matplotlib.pyplot as plt\n",
    "from collections import Counter\n",
    "import seaborn as sns\n",
    "import matplotlib.font_manager as fm"
   ]
  },
  {
   "cell_type": "code",
   "execution_count": 25,
   "id": "fcadd57c",
   "metadata": {},
   "outputs": [],
   "source": [
    "df = pd.read_csv('D:/data/2021빅콘수산시장/train.csv',encoding = 'cp949')"
   ]
  },
  {
   "cell_type": "markdown",
   "id": "6710de8c",
   "metadata": {},
   "source": [
    "# 전처리"
   ]
  },
  {
   "cell_type": "code",
   "execution_count": 26,
   "id": "793a3805",
   "metadata": {},
   "outputs": [
    {
     "data": {
      "text/plain": [
       "array(['수산물'], dtype=object)"
      ]
     },
     "execution_count": 26,
     "metadata": {},
     "output_type": "execute_result"
    }
   ],
   "source": [
    "df['P_TYPE'].unique()"
   ]
  },
  {
   "cell_type": "code",
   "execution_count": 27,
   "id": "2b6cd19b",
   "metadata": {},
   "outputs": [
    {
     "data": {
      "text/plain": [
       "Counter({'판매용': 39278,\n",
       "         '외화획득용 원료': 911,\n",
       "         '자사제품제조용': 1726,\n",
       "         '합작': 144,\n",
       "         '반송품(기타)': 14})"
      ]
     },
     "execution_count": 27,
     "metadata": {},
     "output_type": "execute_result"
    }
   ],
   "source": [
    "Counter(df['P_PURPOSE'])  # p_purpose 확인"
   ]
  },
  {
   "cell_type": "code",
   "execution_count": 28,
   "id": "bd351348",
   "metadata": {},
   "outputs": [
    {
     "data": {
      "text/plain": [
       "Counter({True: 37634, False: 4439})"
      ]
     },
     "execution_count": 28,
     "metadata": {},
     "output_type": "execute_result"
    }
   ],
   "source": [
    "Counter(df['CTRY_1'] == df['CTRY_2'])   # ctry1과 ctry_2 동일한게 있는지 확인 수출 수입 같은 곳 확인"
   ]
  },
  {
   "cell_type": "code",
   "execution_count": 29,
   "id": "0c85c663",
   "metadata": {},
   "outputs": [
    {
     "data": {
      "text/plain": [
       "Counter({'냉동': 13568,\n",
       "         '냉동,절단': 547,\n",
       "         '건조,자숙': 284,\n",
       "         '냉동,살,자숙': 1431,\n",
       "         '냉동,살': 1044,\n",
       "         '냉장,살': 64,\n",
       "         '염장,살': 41,\n",
       "         '냉동,한쪽껍질붙은': 56,\n",
       "         '활': 8280,\n",
       "         '냉장': 4682,\n",
       "         '냉동,목살': 898,\n",
       "         '냉동,목살,횟감': 194,\n",
       "         '염장': 609,\n",
       "         '냉동,알': 528,\n",
       "         '냉동,필렛(F),횟감': 998,\n",
       "         '냉동,포장횟감,필렛(F)': 189,\n",
       "         '냉동,동체': 657,\n",
       "         '냉동,창난': 75,\n",
       "         '냉동,살,포장횟감': 329,\n",
       "         '냉동,자숙,포장횟감': 93,\n",
       "         '건조': 940,\n",
       "         '냉동,다리,포장횟감': 76,\n",
       "         '냉장,필렛(F)': 544,\n",
       "         '냉동,자숙,한쪽껍질붙은': 80,\n",
       "         '냉동,필렛(F)': 950,\n",
       "         '냉동,살,자숙,포장횟감': 362,\n",
       "         '냉장,횟감': 434,\n",
       "         '냉동,다리': 440,\n",
       "         '냉동,슬라이스(S),포장횟감': 213,\n",
       "         '냉장,포장횟감,필렛(F)': 216,\n",
       "         '냉동,동체,자숙': 366,\n",
       "         '냉동,지느러미': 419,\n",
       "         '냉장,필렛(F),횟감': 325,\n",
       "         '냉동,곤이': 360,\n",
       "         '냉동,머리': 194,\n",
       "         '자숙,건조': 1,\n",
       "         '냉동,슬라이스(S),자숙,포장횟감': 108,\n",
       "         '냉동,슬라이스(S)': 23,\n",
       "         '냉동,자숙': 407,\n",
       "         '냉동,자숙,절단': 188,\n",
       "         '냉동,간': 7,\n",
       "         '건조,알,캐비아대용': 15,\n",
       "         '냉동,볼살': 66,\n",
       "         '냉동,볼살,횟감': 44,\n",
       "         '냉동,개아지살,살': 109,\n",
       "         '냉동,내장': 17,\n",
       "         '냉동,턱살': 49,\n",
       "         '냉동,집게다리': 22,\n",
       "         '냉동,외투막,살': 27,\n",
       "         '냉동,다리,자숙': 55,\n",
       "         '냉동,지느러미,자숙': 55,\n",
       "         '냉동,머리살,횟감': 15,\n",
       "         '건조,필렛(F)': 41,\n",
       "         '절단,건조': 13,\n",
       "         '냉동,개아지살,살,포장횟감': 2,\n",
       "         '건조,살,자숙': 26,\n",
       "         '냉동,턱살,횟감': 31,\n",
       "         '냉동,알,캐비아대용': 32,\n",
       "         '냉동,살,슬라이스(S),포장횟감': 4,\n",
       "         '냉동,머리살': 32,\n",
       "         '냉동,자숙,절단,횟감': 1,\n",
       "         '염장,알,캐비아대용': 11,\n",
       "         '건조,훈제': 10,\n",
       "         '냉동,동체,포장횟감': 14,\n",
       "         '냉동,횟감': 5,\n",
       "         '냉동,개아지살,살,횟감': 6,\n",
       "         '냉장,개아지살,살': 8,\n",
       "         '냉동,슬라이스(S),자숙': 7,\n",
       "         '냉동,난포선': 3,\n",
       "         '냉동,동체,자숙,포장횟감': 8,\n",
       "         '냉동,머리_외화획득용': 33,\n",
       "         '냉장,간': 1,\n",
       "         '줄기,염장': 5,\n",
       "         '건조,껍질': 63,\n",
       "         '냉동,다리,자숙,포장횟감': 3,\n",
       "         '냉동,꼬리_외화획득용': 17,\n",
       "         '냉동,눈살': 2,\n",
       "         '건조,지느러미,자숙': 1})"
      ]
     },
     "execution_count": 29,
     "metadata": {},
     "output_type": "execute_result"
    }
   ],
   "source": [
    "Counter(df['P_IMPORT_TYPE']) #  수입 종류 많네 "
   ]
  },
  {
   "cell_type": "code",
   "execution_count": 30,
   "id": "5e5147a9",
   "metadata": {},
   "outputs": [],
   "source": [
    "df['P_PRICE'] = df['P_PRICE'].apply(lambda x : x.replace(',',''))  # price에 쉼표 제거"
   ]
  },
  {
   "cell_type": "code",
   "execution_count": 31,
   "id": "32fa845f",
   "metadata": {},
   "outputs": [],
   "source": [
    "df['P_PRICE'] = pd.to_numeric(df['P_PRICE'])  # 숫자로 인식하게 만들기 "
   ]
  },
  {
   "cell_type": "code",
   "execution_count": 32,
   "id": "8a269b16",
   "metadata": {},
   "outputs": [
    {
     "data": {
      "text/plain": [
       "<AxesSubplot:>"
      ]
     },
     "execution_count": 32,
     "metadata": {},
     "output_type": "execute_result"
    },
    {
     "data": {
      "image/png": "[encoded data removed]",
      "text/plain": [
       "<Figure size 432x288 with 1 Axes>"
      ]
     },
     "metadata": {
      "needs_background": "light"
     },
     "output_type": "display_data"
    }
   ],
   "source": [
    "df['P_PRICE'].plot(kind = 'box')"
   ]
  },
  {
   "cell_type": "code",
   "execution_count": 33,
   "id": "b54cc896",
   "metadata": {},
   "outputs": [
    {
     "name": "stdout",
     "output_type": "stream",
     "text": [
      "9.54536733772249\n",
      "5.17\n",
      "1521.84\n"
     ]
    }
   ],
   "source": [
    "print(np.mean(df['P_PRICE']))\n",
    "print(np.median(df['P_PRICE']))\n",
    "print(np.max(df['P_PRICE']) - np.min(df['P_PRICE']))"
   ]
  },
  {
   "cell_type": "code",
   "execution_count": 34,
   "id": "2d95def9",
   "metadata": {},
   "outputs": [
    {
     "name": "stdout",
     "output_type": "stream",
     "text": [
      "2.65\n",
      "9.93\n",
      "7.279999999999999\n"
     ]
    }
   ],
   "source": [
    "print(np.quantile(df['P_PRICE'],.25))\n",
    "print(np.quantile(df['P_PRICE'],.75))\n",
    "print(np.quantile(df['P_PRICE'],.75)-np.quantile(df['P_PRICE'],.25))"
   ]
  },
  {
   "cell_type": "code",
   "execution_count": 35,
   "id": "8e7beded",
   "metadata": {},
   "outputs": [
    {
     "data": {
      "text/plain": [
       "array(['아르헨티나', '바레인', '칠레', '중국', '프랑스', '인도네시아', '일본', '대한민국', '모로코',\n",
       "       '멕시코', '말레이시아', '노르웨이', '페루', '러시아', '시에라리온', '세네갈', '태국', '튀니지',\n",
       "       '대만', '미국', '베트남', '남아프리카 공화국', '기니', '인도', '필리핀', '포르투갈',\n",
       "       '사우디아라비아', '뉴질랜드', '파키스탄', '아랍에미리트', '캐나다', '에콰도르', '아일랜드', '터키',\n",
       "       '스페인', '아이슬란드', '모리타니', '호주', '바누아투', '영국', '소말리아', '불가리아', '피지',\n",
       "       '우크라이나', '리비아', '세이셸', '이탈리아', '키리바시', '기니비사우', '브라질', '스리랑카',\n",
       "       '우루과이', '세인트빈센트 그레나딘', '에스토니아', '이란', '미얀마', '파푸아뉴기니', '가나',\n",
       "       '방글라데시', '네덜란드', '파나마', '감비아', '크로아티아', '앙골라', '베네수엘라', '싱가포르',\n",
       "       '포클랜드 제도', '모잠비크', '이집트', '수리남', '루마니아', '몰타', '라트비아', '나미비아',\n",
       "       '오만', '그리스', '그린란드', '알제리', '니카라과', '쿡 제도', '팔라우', '쿠바', '라이베리아',\n",
       "       '마다가스카르', '미크로네시아 연방', '사이프러스', '콜롬비아'], dtype=object)"
      ]
     },
     "execution_count": 35,
     "metadata": {},
     "output_type": "execute_result"
    }
   ],
   "source": [
    "df['CTRY_1'].unique() # 어떤 나라가 있는지 확인"
   ]
  },
  {
   "cell_type": "code",
   "execution_count": 36,
   "id": "13567abe",
   "metadata": {},
   "outputs": [],
   "source": [
    "df2000 = df.loc[0:2000]"
   ]
  },
  {
   "cell_type": "code",
   "execution_count": 37,
   "id": "9de5b7ff",
   "metadata": {},
   "outputs": [],
   "source": [
    "plt.rcParams['font.family'] = 'Malgun Gothic'"
   ]
  },
  {
   "cell_type": "code",
   "execution_count": 38,
   "id": "a8f707b6",
   "metadata": {
    "scrolled": true
   },
   "outputs": [
    {
     "data": {
      "text/plain": [
       "<AxesSubplot:xlabel='CTRY_1', ylabel='P_PRICE'>"
      ]
     },
     "execution_count": 38,
     "metadata": {},
     "output_type": "execute_result"
    },
    {
     "data": {
      "image/png": "[encoded data removed]",
      "text/plain": [
       "<Figure size 432x288 with 1 Axes>"
      ]
     },
     "metadata": {
      "needs_background": "light"
     },
     "output_type": "display_data"
    }
   ],
   "source": [
    "plt.xticks(rotation = - 90 )\n",
    "plt.rcParams['figure.figsize'] = [20, 5]\n",
    "sns.stripplot(x = df['CTRY_1'] , y= df['P_PRICE'] ,data = df)"
   ]
  },
  {
   "cell_type": "code",
   "execution_count": 39,
   "id": "0273ffdb",
   "metadata": {},
   "outputs": [
    {
     "data": {
      "text/plain": [
       "<AxesSubplot:xlabel='CTRY_2', ylabel='P_PRICE'>"
      ]
     },
     "execution_count": 39,
     "metadata": {},
     "output_type": "execute_result"
    },
    {
     "data": {
      "image/png": "[encoded data removed]",
      "text/plain": [
       "<Figure size 1440x360 with 1 Axes>"
      ]
     },
     "metadata": {
      "needs_background": "light"
     },
     "output_type": "display_data"
    }
   ],
   "source": [
    "plt.xticks(rotation = - 90 )\n",
    "sns.stripplot(x = df['CTRY_2'] , y= df['P_PRICE'] ,data = df)"
   ]
  },
  {
   "cell_type": "code",
   "execution_count": 40,
   "id": "83cca566",
   "metadata": {},
   "outputs": [
    {
     "data": {
      "text/plain": [
       "<AxesSubplot:xlabel='P_IMPORT_TYPE', ylabel='P_PRICE'>"
      ]
     },
     "execution_count": 40,
     "metadata": {},
     "output_type": "execute_result"
    },
    {
     "data": {
      "image/png": "[encoded data removed]",
      "text/plain": [
       "<Figure size 1440x360 with 1 Axes>"
      ]
     },
     "metadata": {
      "needs_background": "light"
     },
     "output_type": "display_data"
    }
   ],
   "source": [
    "plt.xticks(rotation = - 90 )\n",
    "sns.stripplot( x = df['P_IMPORT_TYPE'], y = df['P_PRICE'], data = df)"
   ]
  },
  {
   "cell_type": "code",
   "execution_count": 41,
   "id": "d5453772",
   "metadata": {},
   "outputs": [],
   "source": [
    "#plt.xticks(rotation = - 90 )\n",
    "#sns.stripplot(x = df['CTRY_1'] , y= df['P_PRICE'] ,hue = 'P_IMPORT_TYPE', data = df)"
   ]
  },
  {
   "cell_type": "code",
   "execution_count": 42,
   "id": "22e2ee0a",
   "metadata": {},
   "outputs": [],
   "source": [
    "df1 = df[(df['P_NAME'] == '연어') | (df['P_NAME'] == '오징어') | (df['P_NAME'] == '흰다리새우')]   # test_set에서 요구하는 것만 분류 "
   ]
  },
  {
   "cell_type": "code",
   "execution_count": 43,
   "id": "b7fa24ef",
   "metadata": {},
   "outputs": [
    {
     "name": "stderr",
     "output_type": "stream",
     "text": [
      "C:\\ProgramData\\Anaconda3\\lib\\site-packages\\seaborn\\_decorators.py:36: FutureWarning: Pass the following variable as a keyword arg: x. From version 0.12, the only valid positional argument will be `data`, and passing other arguments without an explicit keyword will result in an error or misinterpretation.\n",
      "  warnings.warn(\n"
     ]
    },
    {
     "data": {
      "text/plain": [
       "<AxesSubplot:xlabel='P_IMPORT_TYPE', ylabel='count'>"
      ]
     },
     "execution_count": 43,
     "metadata": {},
     "output_type": "execute_result"
    },
    {
     "data": {
      "image/png": "[encoded data removed]",
      "text/plain": [
       "<Figure size 1440x360 with 1 Axes>"
      ]
     },
     "metadata": {
      "needs_background": "light"
     },
     "output_type": "display_data"
    }
   ],
   "source": [
    "plt.xticks(rotation = -90)\n",
    "sns.countplot( df1['P_IMPORT_TYPE'], data = df1)"
   ]
  },
  {
   "cell_type": "code",
   "execution_count": 44,
   "id": "7e3d2ad0",
   "metadata": {
    "scrolled": true
   },
   "outputs": [
    {
     "data": {
      "text/plain": [
       "Counter({'냉동,살,자숙': 358,\n",
       "         '냉동,살': 615,\n",
       "         '냉동': 1164,\n",
       "         '냉동,동체': 435,\n",
       "         '냉장,필렛(F)': 420,\n",
       "         '냉동,살,자숙,포장횟감': 361,\n",
       "         '냉동,다리': 433,\n",
       "         '냉동,살,포장횟감': 190,\n",
       "         '냉장,포장횟감,필렛(F)': 211,\n",
       "         '냉장': 774,\n",
       "         '냉동,동체,자숙': 366,\n",
       "         '냉동,지느러미': 418,\n",
       "         '냉장,필렛(F),횟감': 236,\n",
       "         '냉동,슬라이스(S)': 23,\n",
       "         '냉동,자숙': 163,\n",
       "         '냉동,슬라이스(S),포장횟감': 7,\n",
       "         '냉동,다리,자숙': 9,\n",
       "         '냉동,지느러미,자숙': 46,\n",
       "         '냉동,난포선': 3,\n",
       "         '냉동,곤이': 1,\n",
       "         '냉동,동체,포장횟감': 2,\n",
       "         '냉동,필렛(F)': 1,\n",
       "         '건조': 4})"
      ]
     },
     "execution_count": 44,
     "metadata": {},
     "output_type": "execute_result"
    }
   ],
   "source": [
    "Counter(df1['P_IMPORT_TYPE'])  # 수입형태 확인"
   ]
  },
  {
   "cell_type": "code",
   "execution_count": 45,
   "id": "48c37634",
   "metadata": {
    "scrolled": true
   },
   "outputs": [
    {
     "data": {
      "text/plain": [
       "Counter({True: 6121, False: 119})"
      ]
     },
     "execution_count": 45,
     "metadata": {},
     "output_type": "execute_result"
    }
   ],
   "source": [
    "Counter(df1['CTRY_1'] == df1['CTRY_2'])  # 다른게 119개 "
   ]
  },
  {
   "cell_type": "code",
   "execution_count": 46,
   "id": "c9ce5a27",
   "metadata": {},
   "outputs": [],
   "source": [
    "dfn = df1[df1['CTRY_1'] != df1['CTRY_2']]"
   ]
  },
  {
   "cell_type": "code",
   "execution_count": 47,
   "id": "ddaf039e",
   "metadata": {},
   "outputs": [
    {
     "data": {
      "text/plain": [
       "<AxesSubplot:>"
      ]
     },
     "execution_count": 47,
     "metadata": {},
     "output_type": "execute_result"
    },
    {
     "data": {
      "image/png": "[encoded data removed]",
      "text/plain": [
       "<Figure size 1440x360 with 1 Axes>"
      ]
     },
     "metadata": {
      "needs_background": "light"
     },
     "output_type": "display_data"
    }
   ],
   "source": [
    "df1['P_PRICE'].plot(kind = 'box') # 이상치는 포함 "
   ]
  },
  {
   "cell_type": "code",
   "execution_count": 48,
   "id": "ab0dbe8c",
   "metadata": {},
   "outputs": [
    {
     "data": {
      "text/plain": [
       "<AxesSubplot:>"
      ]
     },
     "execution_count": 48,
     "metadata": {},
     "output_type": "execute_result"
    },
    {
     "data": {
      "image/png": "[encoded data removed]",
      "text/plain": [
       "<Figure size 1440x360 with 1 Axes>"
      ]
     },
     "metadata": {
      "needs_background": "light"
     },
     "output_type": "display_data"
    }
   ],
   "source": [
    "dfn['P_PRICE'].plot(kind = 'box')  # 다른것의 이상치 존재"
   ]
  },
  {
   "cell_type": "code",
   "execution_count": 49,
   "id": "61f44eb7",
   "metadata": {},
   "outputs": [
    {
     "name": "stdout",
     "output_type": "stream",
     "text": [
      "8.758139423076939\n",
      "8.05\n",
      "62.06\n",
      "3.19\n",
      "11.86\n",
      "8.67\n"
     ]
    }
   ],
   "source": [
    "print(np.mean(df1['P_PRICE']))\n",
    "print(np.median(df1['P_PRICE']))\n",
    "print(np.max(df1['P_PRICE']) - np.min(df1['P_PRICE']))\n",
    "print(np.quantile(df1['P_PRICE'],.25))\n",
    "print(np.quantile(df1['P_PRICE'],.75))\n",
    "print(np.quantile(df1['P_PRICE'],.75)-np.quantile(df1['P_PRICE'],.25))"
   ]
  },
  {
   "cell_type": "code",
   "execution_count": 50,
   "id": "c99001fb",
   "metadata": {},
   "outputs": [
    {
     "data": {
      "text/plain": [
       "<AxesSubplot:xlabel='P_NAME', ylabel='P_PRICE'>"
      ]
     },
     "execution_count": 50,
     "metadata": {},
     "output_type": "execute_result"
    },
    {
     "data": {
      "image/png": "[encoded data removed]",
      "text/plain": [
       "<Figure size 1440x360 with 1 Axes>"
      ]
     },
     "metadata": {
      "needs_background": "light"
     },
     "output_type": "display_data"
    }
   ],
   "source": [
    "sns.stripplot(x = 'P_NAME', y = 'P_PRICE', data = df1) # 연어는 값이 오른건지 일시적인건지 확인 할 필요가 있음 "
   ]
  },
  {
   "cell_type": "code",
   "execution_count": 51,
   "id": "6675b6d3",
   "metadata": {},
   "outputs": [
    {
     "data": {
      "text/plain": [
       "<AxesSubplot:xlabel='P_NAME', ylabel='P_PRICE'>"
      ]
     },
     "execution_count": 51,
     "metadata": {},
     "output_type": "execute_result"
    },
    {
     "data": {
      "image/png": "[encoded data removed]",
      "text/plain": [
       "<Figure size 1440x360 with 1 Axes>"
      ]
     },
     "metadata": {
      "needs_background": "light"
     },
     "output_type": "display_data"
    }
   ],
   "source": [
    "sns.boxplot(x = 'P_NAME', y = 'P_PRICE',data = df1) # 가격 이상치 확인"
   ]
  },
  {
   "cell_type": "code",
   "execution_count": 52,
   "id": "e1d23837",
   "metadata": {},
   "outputs": [
    {
     "data": {
      "text/plain": [
       "Counter({'오징어': 112, '흰다리새우': 5, '연어': 2})"
      ]
     },
     "execution_count": 52,
     "metadata": {},
     "output_type": "execute_result"
    }
   ],
   "source": [
    "Counter(dfn['P_NAME'])   # 수입 수출 지역이 다른 곳의 해양생물 종류 "
   ]
  },
  {
   "cell_type": "code",
   "execution_count": 53,
   "id": "fe2ccf41",
   "metadata": {
    "scrolled": true
   },
   "outputs": [
    {
     "data": {
      "text/plain": [
       "<AxesSubplot:xlabel='P_NAME', ylabel='P_PRICE'>"
      ]
     },
     "execution_count": 53,
     "metadata": {},
     "output_type": "execute_result"
    },
    {
     "data": {
      "image/png": "[encoded data removed]",
      "text/plain": [
       "<Figure size 1440x360 with 1 Axes>"
      ]
     },
     "metadata": {
      "needs_background": "light"
     },
     "output_type": "display_data"
    }
   ],
   "source": [
    "sns.boxplot(x = 'P_NAME', y = 'P_PRICE',data = dfn)  #데이터 제외"
   ]
  },
  {
   "cell_type": "code",
   "execution_count": 54,
   "id": "ad005e6f",
   "metadata": {},
   "outputs": [
    {
     "data": {
      "text/plain": [
       "3.800756302521008"
      ]
     },
     "execution_count": 54,
     "metadata": {},
     "output_type": "execute_result"
    }
   ],
   "source": [
    "np.mean(dfn['P_PRICE'])"
   ]
  },
  {
   "cell_type": "code",
   "execution_count": 55,
   "id": "19f54b37",
   "metadata": {},
   "outputs": [],
   "source": [
    "df2 = df1[df1['CTRY_1'] == df1['CTRY_2']]"
   ]
  },
  {
   "cell_type": "code",
   "execution_count": 56,
   "id": "8169d5b4",
   "metadata": {},
   "outputs": [
    {
     "data": {
      "text/plain": [
       "<AxesSubplot:xlabel='P_NAME', ylabel='P_PRICE'>"
      ]
     },
     "execution_count": 56,
     "metadata": {},
     "output_type": "execute_result"
    },
    {
     "data": {
      "image/png": "[encoded data removed]",
      "text/plain": [
       "<Figure size 1440x360 with 1 Axes>"
      ]
     },
     "metadata": {
      "needs_background": "light"
     },
     "output_type": "display_data"
    }
   ],
   "source": [
    "sns.boxplot(x = 'P_NAME', y = 'P_PRICE',data = df2)"
   ]
  },
  {
   "cell_type": "code",
   "execution_count": 57,
   "id": "156c5aff",
   "metadata": {},
   "outputs": [
    {
     "data": {
      "text/plain": [
       "<AxesSubplot:xlabel='P_NAME', ylabel='P_PRICE'>"
      ]
     },
     "execution_count": 57,
     "metadata": {},
     "output_type": "execute_result"
    },
    {
     "data": {
      "image/png": "[encoded data removed]",
      "text/plain": [
       "<Figure size 1440x360 with 1 Axes>"
      ]
     },
     "metadata": {
      "needs_background": "light"
     },
     "output_type": "display_data"
    }
   ],
   "source": [
    "sns.stripplot(x = 'P_NAME', y = 'P_PRICE', data = df2)  # 연어를 나라별로 나눴을 떄 언제 어디서 상승을 값이 상승을 하는지 확인 "
   ]
  },
  {
   "cell_type": "code",
   "execution_count": 58,
   "id": "a0c5d049",
   "metadata": {},
   "outputs": [],
   "source": [
    "dat = df2['REG_DATE'].apply(lambda x : x.split('-'))  # 날짜 데이터 분리"
   ]
  },
  {
   "cell_type": "code",
   "execution_count": 59,
   "id": "041fc277",
   "metadata": {},
   "outputs": [],
   "source": [
    "dat = dat.reset_index(drop = True)  # 인데스 원래대로 정리 "
   ]
  },
  {
   "cell_type": "code",
   "execution_count": 60,
   "id": "896aee6b",
   "metadata": {},
   "outputs": [
    {
     "data": {
      "text/plain": [
       "['12',\n",
       " '12',\n",
       " '12',\n",
       " '12',\n",
       " '12',\n",
       " '12',\n",
       " '12',\n",
       " '12',\n",
       " '12',\n",
       " '12',\n",
       " '12',\n",
       " '12',\n",
       " '12',\n",
       " '12',\n",
       " '12',\n",
       " '12',\n",
       " '12',\n",
       " '12',\n",
       " '12',\n",
       " '12',\n",
       " '12',\n",
       " '12',\n",
       " '12',\n",
       " '12',\n",
       " '12',\n",
       " '12',\n",
       " '12',\n",
       " '01',\n",
       " '01',\n",
       " '01',\n",
       " '01',\n",
       " '01',\n",
       " '01',\n",
       " '01',\n",
       " '01',\n",
       " '01',\n",
       " '01',\n",
       " '01',\n",
       " '01',\n",
       " '01',\n",
       " '01',\n",
       " '01',\n",
       " '01',\n",
       " '01',\n",
       " '01',\n",
       " '01',\n",
       " '01',\n",
       " '01',\n",
       " '01',\n",
       " '01',\n",
       " '01',\n",
       " '01',\n",
       " '01',\n",
       " '01',\n",
       " '01',\n",
       " '01',\n",
       " '01',\n",
       " '01',\n",
       " '01',\n",
       " '01',\n",
       " '01',\n",
       " '01',\n",
       " '01',\n",
       " '01',\n",
       " '01',\n",
       " '01',\n",
       " '01',\n",
       " '01',\n",
       " '01',\n",
       " '01',\n",
       " '01',\n",
       " '01',\n",
       " '01',\n",
       " '01',\n",
       " '01',\n",
       " '01',\n",
       " '01',\n",
       " '01',\n",
       " '01',\n",
       " '01',\n",
       " '01',\n",
       " '01',\n",
       " '01',\n",
       " '01',\n",
       " '01',\n",
       " '01',\n",
       " '01',\n",
       " '01',\n",
       " '01',\n",
       " '01',\n",
       " '01',\n",
       " '01',\n",
       " '01',\n",
       " '01',\n",
       " '01',\n",
       " '01',\n",
       " '01',\n",
       " '01',\n",
       " '01',\n",
       " '01',\n",
       " '01',\n",
       " '01',\n",
       " '01',\n",
       " '01',\n",
       " '01',\n",
       " '01',\n",
       " '01',\n",
       " '01',\n",
       " '01',\n",
       " '01',\n",
       " '01',\n",
       " '01',\n",
       " '01',\n",
       " '01',\n",
       " '01',\n",
       " '01',\n",
       " '01',\n",
       " '01',\n",
       " '01',\n",
       " '01',\n",
       " '01',\n",
       " '01',\n",
       " '01',\n",
       " '01',\n",
       " '01',\n",
       " '01',\n",
       " '01',\n",
       " '01',\n",
       " '01',\n",
       " '01',\n",
       " '01',\n",
       " '01',\n",
       " '01',\n",
       " '01',\n",
       " '01',\n",
       " '01',\n",
       " '01',\n",
       " '01',\n",
       " '02',\n",
       " '02',\n",
       " '02',\n",
       " '02',\n",
       " '02',\n",
       " '02',\n",
       " '02',\n",
       " '02',\n",
       " '02',\n",
       " '02',\n",
       " '02',\n",
       " '02',\n",
       " '02',\n",
       " '02',\n",
       " '02',\n",
       " '02',\n",
       " '02',\n",
       " '02',\n",
       " '02',\n",
       " '02',\n",
       " '02',\n",
       " '02',\n",
       " '02',\n",
       " '02',\n",
       " '02',\n",
       " '02',\n",
       " '02',\n",
       " '02',\n",
       " '02',\n",
       " '02',\n",
       " '02',\n",
       " '02',\n",
       " '02',\n",
       " '02',\n",
       " '02',\n",
       " '02',\n",
       " '02',\n",
       " '02',\n",
       " '02',\n",
       " '02',\n",
       " '02',\n",
       " '02',\n",
       " '02',\n",
       " '02',\n",
       " '02',\n",
       " '02',\n",
       " '02',\n",
       " '02',\n",
       " '02',\n",
       " '02',\n",
       " '02',\n",
       " '02',\n",
       " '02',\n",
       " '02',\n",
       " '02',\n",
       " '02',\n",
       " '02',\n",
       " '02',\n",
       " '02',\n",
       " '02',\n",
       " '02',\n",
       " '02',\n",
       " '02',\n",
       " '02',\n",
       " '02',\n",
       " '02',\n",
       " '02',\n",
       " '02',\n",
       " '02',\n",
       " '02',\n",
       " '02',\n",
       " '02',\n",
       " '02',\n",
       " '02',\n",
       " '02',\n",
       " '02',\n",
       " '02',\n",
       " '02',\n",
       " '02',\n",
       " '02',\n",
       " '02',\n",
       " '02',\n",
       " '02',\n",
       " '02',\n",
       " '02',\n",
       " '02',\n",
       " '02',\n",
       " '02',\n",
       " '02',\n",
       " '02',\n",
       " '02',\n",
       " '02',\n",
       " '02',\n",
       " '02',\n",
       " '02',\n",
       " '02',\n",
       " '02',\n",
       " '02',\n",
       " '02',\n",
       " '02',\n",
       " '02',\n",
       " '02',\n",
       " '02',\n",
       " '02',\n",
       " '02',\n",
       " '02',\n",
       " '02',\n",
       " '02',\n",
       " '02',\n",
       " '02',\n",
       " '02',\n",
       " '02',\n",
       " '02',\n",
       " '02',\n",
       " '02',\n",
       " '02',\n",
       " '02',\n",
       " '02',\n",
       " '03',\n",
       " '03',\n",
       " '03',\n",
       " '03',\n",
       " '03',\n",
       " '03',\n",
       " '03',\n",
       " '03',\n",
       " '03',\n",
       " '03',\n",
       " '03',\n",
       " '03',\n",
       " '03',\n",
       " '03',\n",
       " '03',\n",
       " '03',\n",
       " '03',\n",
       " '03',\n",
       " '03',\n",
       " '03',\n",
       " '03',\n",
       " '03',\n",
       " '03',\n",
       " '03',\n",
       " '03',\n",
       " '03',\n",
       " '03',\n",
       " '03',\n",
       " '03',\n",
       " '03',\n",
       " '03',\n",
       " '03',\n",
       " '03',\n",
       " '03',\n",
       " '03',\n",
       " '03',\n",
       " '03',\n",
       " '03',\n",
       " '03',\n",
       " '03',\n",
       " '03',\n",
       " '03',\n",
       " '03',\n",
       " '03',\n",
       " '03',\n",
       " '03',\n",
       " '03',\n",
       " '03',\n",
       " '03',\n",
       " '03',\n",
       " '03',\n",
       " '03',\n",
       " '03',\n",
       " '03',\n",
       " '03',\n",
       " '03',\n",
       " '03',\n",
       " '03',\n",
       " '03',\n",
       " '03',\n",
       " '03',\n",
       " '03',\n",
       " '03',\n",
       " '03',\n",
       " '03',\n",
       " '03',\n",
       " '03',\n",
       " '03',\n",
       " '03',\n",
       " '03',\n",
       " '03',\n",
       " '03',\n",
       " '03',\n",
       " '03',\n",
       " '03',\n",
       " '03',\n",
       " '03',\n",
       " '03',\n",
       " '03',\n",
       " '03',\n",
       " '03',\n",
       " '03',\n",
       " '03',\n",
       " '03',\n",
       " '03',\n",
       " '03',\n",
       " '03',\n",
       " '03',\n",
       " '03',\n",
       " '03',\n",
       " '03',\n",
       " '03',\n",
       " '03',\n",
       " '03',\n",
       " '03',\n",
       " '03',\n",
       " '03',\n",
       " '03',\n",
       " '03',\n",
       " '03',\n",
       " '03',\n",
       " '03',\n",
       " '03',\n",
       " '03',\n",
       " '03',\n",
       " '03',\n",
       " '03',\n",
       " '03',\n",
       " '03',\n",
       " '03',\n",
       " '03',\n",
       " '03',\n",
       " '03',\n",
       " '04',\n",
       " '04',\n",
       " '04',\n",
       " '04',\n",
       " '04',\n",
       " '04',\n",
       " '04',\n",
       " '04',\n",
       " '04',\n",
       " '04',\n",
       " '04',\n",
       " '04',\n",
       " '04',\n",
       " '04',\n",
       " '04',\n",
       " '04',\n",
       " '04',\n",
       " '04',\n",
       " '04',\n",
       " '04',\n",
       " '04',\n",
       " '04',\n",
       " '04',\n",
       " '04',\n",
       " '04',\n",
       " '04',\n",
       " '04',\n",
       " '04',\n",
       " '04',\n",
       " '04',\n",
       " '04',\n",
       " '04',\n",
       " '04',\n",
       " '04',\n",
       " '04',\n",
       " '04',\n",
       " '04',\n",
       " '04',\n",
       " '04',\n",
       " '04',\n",
       " '04',\n",
       " '04',\n",
       " '04',\n",
       " '04',\n",
       " '04',\n",
       " '04',\n",
       " '04',\n",
       " '04',\n",
       " '04',\n",
       " '04',\n",
       " '04',\n",
       " '04',\n",
       " '04',\n",
       " '04',\n",
       " '04',\n",
       " '04',\n",
       " '04',\n",
       " '04',\n",
       " '04',\n",
       " '04',\n",
       " '04',\n",
       " '04',\n",
       " '04',\n",
       " '04',\n",
       " '04',\n",
       " '04',\n",
       " '04',\n",
       " '04',\n",
       " '04',\n",
       " '04',\n",
       " '04',\n",
       " '04',\n",
       " '04',\n",
       " '04',\n",
       " '04',\n",
       " '04',\n",
       " '04',\n",
       " '04',\n",
       " '04',\n",
       " '04',\n",
       " '04',\n",
       " '04',\n",
       " '04',\n",
       " '04',\n",
       " '04',\n",
       " '04',\n",
       " '04',\n",
       " '04',\n",
       " '04',\n",
       " '04',\n",
       " '04',\n",
       " '04',\n",
       " '04',\n",
       " '04',\n",
       " '04',\n",
       " '04',\n",
       " '04',\n",
       " '04',\n",
       " '04',\n",
       " '04',\n",
       " '04',\n",
       " '04',\n",
       " '04',\n",
       " '04',\n",
       " '04',\n",
       " '05',\n",
       " '05',\n",
       " '05',\n",
       " '05',\n",
       " '05',\n",
       " '05',\n",
       " '05',\n",
       " '05',\n",
       " '05',\n",
       " '05',\n",
       " '05',\n",
       " '05',\n",
       " '05',\n",
       " '05',\n",
       " '05',\n",
       " '05',\n",
       " '05',\n",
       " '05',\n",
       " '05',\n",
       " '05',\n",
       " '05',\n",
       " '05',\n",
       " '05',\n",
       " '05',\n",
       " '05',\n",
       " '05',\n",
       " '05',\n",
       " '05',\n",
       " '05',\n",
       " '05',\n",
       " '05',\n",
       " '05',\n",
       " '05',\n",
       " '05',\n",
       " '05',\n",
       " '05',\n",
       " '05',\n",
       " '05',\n",
       " '05',\n",
       " '05',\n",
       " '05',\n",
       " '05',\n",
       " '05',\n",
       " '05',\n",
       " '05',\n",
       " '05',\n",
       " '05',\n",
       " '05',\n",
       " '05',\n",
       " '05',\n",
       " '05',\n",
       " '05',\n",
       " '05',\n",
       " '05',\n",
       " '05',\n",
       " '05',\n",
       " '05',\n",
       " '05',\n",
       " '05',\n",
       " '05',\n",
       " '05',\n",
       " '05',\n",
       " '05',\n",
       " '05',\n",
       " '05',\n",
       " '05',\n",
       " '05',\n",
       " '05',\n",
       " '05',\n",
       " '05',\n",
       " '05',\n",
       " '05',\n",
       " '05',\n",
       " '05',\n",
       " '05',\n",
       " '05',\n",
       " '05',\n",
       " '05',\n",
       " '05',\n",
       " '05',\n",
       " '05',\n",
       " '05',\n",
       " '05',\n",
       " '05',\n",
       " '05',\n",
       " '05',\n",
       " '05',\n",
       " '05',\n",
       " '05',\n",
       " '05',\n",
       " '05',\n",
       " '05',\n",
       " '05',\n",
       " '05',\n",
       " '05',\n",
       " '05',\n",
       " '05',\n",
       " '05',\n",
       " '05',\n",
       " '05',\n",
       " '05',\n",
       " '05',\n",
       " '05',\n",
       " '05',\n",
       " '05',\n",
       " '05',\n",
       " '05',\n",
       " '05',\n",
       " '05',\n",
       " '05',\n",
       " '05',\n",
       " '05',\n",
       " '05',\n",
       " '05',\n",
       " '05',\n",
       " '05',\n",
       " '05',\n",
       " '05',\n",
       " '05',\n",
       " '05',\n",
       " '05',\n",
       " '05',\n",
       " '05',\n",
       " '05',\n",
       " '05',\n",
       " '06',\n",
       " '06',\n",
       " '06',\n",
       " '06',\n",
       " '06',\n",
       " '06',\n",
       " '06',\n",
       " '06',\n",
       " '06',\n",
       " '06',\n",
       " '06',\n",
       " '06',\n",
       " '06',\n",
       " '06',\n",
       " '06',\n",
       " '06',\n",
       " '06',\n",
       " '06',\n",
       " '06',\n",
       " '06',\n",
       " '06',\n",
       " '06',\n",
       " '06',\n",
       " '06',\n",
       " '06',\n",
       " '06',\n",
       " '06',\n",
       " '06',\n",
       " '06',\n",
       " '06',\n",
       " '06',\n",
       " '06',\n",
       " '06',\n",
       " '06',\n",
       " '06',\n",
       " '06',\n",
       " '06',\n",
       " '06',\n",
       " '06',\n",
       " '06',\n",
       " '06',\n",
       " '06',\n",
       " '06',\n",
       " '06',\n",
       " '06',\n",
       " '06',\n",
       " '06',\n",
       " '06',\n",
       " '06',\n",
       " '06',\n",
       " '06',\n",
       " '06',\n",
       " '06',\n",
       " '06',\n",
       " '06',\n",
       " '06',\n",
       " '06',\n",
       " '06',\n",
       " '06',\n",
       " '06',\n",
       " '06',\n",
       " '06',\n",
       " '06',\n",
       " '06',\n",
       " '06',\n",
       " '06',\n",
       " '06',\n",
       " '06',\n",
       " '06',\n",
       " '06',\n",
       " '06',\n",
       " '06',\n",
       " '06',\n",
       " '06',\n",
       " '06',\n",
       " '06',\n",
       " '06',\n",
       " '06',\n",
       " '06',\n",
       " '06',\n",
       " '06',\n",
       " '06',\n",
       " '06',\n",
       " '06',\n",
       " '06',\n",
       " '06',\n",
       " '06',\n",
       " '06',\n",
       " '06',\n",
       " '06',\n",
       " '06',\n",
       " '06',\n",
       " '06',\n",
       " '06',\n",
       " '06',\n",
       " '06',\n",
       " '06',\n",
       " '06',\n",
       " '06',\n",
       " '06',\n",
       " '06',\n",
       " '06',\n",
       " '06',\n",
       " '06',\n",
       " '06',\n",
       " '06',\n",
       " '06',\n",
       " '06',\n",
       " '06',\n",
       " '06',\n",
       " '06',\n",
       " '06',\n",
       " '06',\n",
       " '07',\n",
       " '07',\n",
       " '07',\n",
       " '07',\n",
       " '07',\n",
       " '07',\n",
       " '07',\n",
       " '07',\n",
       " '07',\n",
       " '07',\n",
       " '07',\n",
       " '07',\n",
       " '07',\n",
       " '07',\n",
       " '07',\n",
       " '07',\n",
       " '07',\n",
       " '07',\n",
       " '07',\n",
       " '07',\n",
       " '07',\n",
       " '07',\n",
       " '07',\n",
       " '07',\n",
       " '07',\n",
       " '07',\n",
       " '07',\n",
       " '07',\n",
       " '07',\n",
       " '07',\n",
       " '07',\n",
       " '07',\n",
       " '07',\n",
       " '07',\n",
       " '07',\n",
       " '07',\n",
       " '07',\n",
       " '07',\n",
       " '07',\n",
       " '07',\n",
       " '07',\n",
       " '07',\n",
       " '07',\n",
       " '07',\n",
       " '07',\n",
       " '07',\n",
       " '07',\n",
       " '07',\n",
       " '07',\n",
       " '07',\n",
       " '07',\n",
       " '07',\n",
       " '07',\n",
       " '07',\n",
       " '07',\n",
       " '07',\n",
       " '07',\n",
       " '07',\n",
       " '07',\n",
       " '07',\n",
       " '07',\n",
       " '07',\n",
       " '07',\n",
       " '07',\n",
       " '07',\n",
       " '07',\n",
       " '07',\n",
       " '07',\n",
       " '07',\n",
       " '07',\n",
       " '07',\n",
       " '07',\n",
       " '07',\n",
       " '07',\n",
       " '07',\n",
       " '07',\n",
       " '07',\n",
       " '07',\n",
       " '07',\n",
       " '07',\n",
       " '07',\n",
       " '07',\n",
       " '07',\n",
       " '07',\n",
       " '07',\n",
       " '07',\n",
       " '07',\n",
       " '07',\n",
       " '07',\n",
       " '07',\n",
       " '07',\n",
       " '07',\n",
       " '07',\n",
       " '07',\n",
       " '07',\n",
       " '07',\n",
       " '07',\n",
       " '07',\n",
       " '07',\n",
       " '07',\n",
       " '07',\n",
       " '07',\n",
       " '07',\n",
       " '07',\n",
       " '07',\n",
       " '07',\n",
       " '07',\n",
       " '07',\n",
       " '07',\n",
       " '07',\n",
       " '07',\n",
       " '07',\n",
       " '07',\n",
       " '07',\n",
       " '07',\n",
       " '07',\n",
       " '07',\n",
       " '08',\n",
       " '08',\n",
       " '08',\n",
       " '08',\n",
       " '08',\n",
       " '08',\n",
       " '08',\n",
       " '08',\n",
       " '08',\n",
       " '08',\n",
       " '08',\n",
       " '08',\n",
       " '08',\n",
       " '08',\n",
       " '08',\n",
       " '08',\n",
       " '08',\n",
       " '08',\n",
       " '08',\n",
       " '08',\n",
       " '08',\n",
       " '08',\n",
       " '08',\n",
       " '08',\n",
       " '08',\n",
       " '08',\n",
       " '08',\n",
       " '08',\n",
       " '08',\n",
       " '08',\n",
       " '08',\n",
       " '08',\n",
       " '08',\n",
       " '08',\n",
       " '08',\n",
       " '08',\n",
       " '08',\n",
       " '08',\n",
       " '08',\n",
       " '08',\n",
       " '08',\n",
       " '08',\n",
       " '08',\n",
       " '08',\n",
       " '08',\n",
       " '08',\n",
       " '08',\n",
       " '08',\n",
       " '08',\n",
       " '08',\n",
       " '08',\n",
       " '08',\n",
       " '08',\n",
       " '08',\n",
       " '08',\n",
       " '08',\n",
       " '08',\n",
       " '08',\n",
       " '08',\n",
       " '08',\n",
       " '08',\n",
       " '08',\n",
       " '08',\n",
       " '08',\n",
       " '08',\n",
       " '08',\n",
       " '08',\n",
       " '08',\n",
       " '08',\n",
       " '08',\n",
       " '08',\n",
       " '08',\n",
       " '08',\n",
       " '08',\n",
       " '08',\n",
       " '08',\n",
       " '08',\n",
       " '08',\n",
       " '08',\n",
       " '08',\n",
       " '08',\n",
       " '08',\n",
       " '08',\n",
       " '08',\n",
       " '08',\n",
       " '08',\n",
       " '08',\n",
       " '08',\n",
       " '08',\n",
       " '08',\n",
       " '08',\n",
       " '08',\n",
       " '08',\n",
       " '08',\n",
       " '08',\n",
       " '08',\n",
       " '08',\n",
       " '08',\n",
       " '08',\n",
       " '08',\n",
       " '08',\n",
       " '08',\n",
       " '08',\n",
       " '08',\n",
       " '08',\n",
       " '08',\n",
       " '08',\n",
       " '08',\n",
       " '08',\n",
       " '08',\n",
       " '08',\n",
       " '08',\n",
       " '08',\n",
       " '08',\n",
       " '08',\n",
       " '08',\n",
       " '08',\n",
       " '08',\n",
       " '08',\n",
       " '08',\n",
       " '08',\n",
       " '08',\n",
       " '08',\n",
       " '08',\n",
       " '08',\n",
       " '08',\n",
       " '08',\n",
       " '08',\n",
       " '08',\n",
       " '08',\n",
       " '08',\n",
       " '08',\n",
       " '08',\n",
       " '08',\n",
       " '08',\n",
       " '08',\n",
       " '08',\n",
       " '08',\n",
       " '08',\n",
       " '08',\n",
       " '08',\n",
       " '08',\n",
       " '09',\n",
       " '09',\n",
       " '09',\n",
       " '09',\n",
       " '09',\n",
       " '09',\n",
       " '09',\n",
       " '09',\n",
       " '09',\n",
       " '09',\n",
       " '09',\n",
       " '09',\n",
       " '09',\n",
       " '09',\n",
       " '09',\n",
       " '09',\n",
       " '09',\n",
       " '09',\n",
       " '09',\n",
       " '09',\n",
       " '09',\n",
       " '09',\n",
       " '09',\n",
       " '09',\n",
       " '09',\n",
       " '09',\n",
       " '09',\n",
       " '09',\n",
       " '09',\n",
       " ...]"
      ]
     },
     "execution_count": 60,
     "metadata": {},
     "output_type": "execute_result"
    }
   ],
   "source": [
    "# 날씨 데이터 분리 \n",
    "dat= list(dat)\n",
    "year = []\n",
    "for i in dat:\n",
    "    year.append(i[0])\n",
    "    \n",
    "year\n",
    "month = []\n",
    "for i in dat:\n",
    "    month.append(i[1])\n",
    "month"
   ]
  },
  {
   "cell_type": "code",
   "execution_count": 61,
   "id": "7255f6c7",
   "metadata": {},
   "outputs": [
    {
     "name": "stderr",
     "output_type": "stream",
     "text": [
      "C:\\Users\\kio02\\AppData\\Local\\Temp/ipykernel_29764/2919731562.py:2: SettingWithCopyWarning: \n",
      "A value is trying to be set on a copy of a slice from a DataFrame.\n",
      "Try using .loc[row_indexer,col_indexer] = value instead\n",
      "\n",
      "See the caveats in the documentation: https://pandas.pydata.org/pandas-docs/stable/user_guide/indexing.html#returning-a-view-versus-a-copy\n",
      "  df2['year'] = year\n",
      "C:\\Users\\kio02\\AppData\\Local\\Temp/ipykernel_29764/2919731562.py:3: SettingWithCopyWarning: \n",
      "A value is trying to be set on a copy of a slice from a DataFrame.\n",
      "Try using .loc[row_indexer,col_indexer] = value instead\n",
      "\n",
      "See the caveats in the documentation: https://pandas.pydata.org/pandas-docs/stable/user_guide/indexing.html#returning-a-view-versus-a-copy\n",
      "  df2['month'] = month\n"
     ]
    }
   ],
   "source": [
    "# 데이터에 따로 분리한것을 지정 \n",
    "df2['year'] = year\n",
    "df2['month'] = month"
   ]
  },
  {
   "cell_type": "code",
   "execution_count": 62,
   "id": "b3b1f18b",
   "metadata": {},
   "outputs": [
    {
     "name": "stderr",
     "output_type": "stream",
     "text": [
      "C:\\Users\\kio02\\AppData\\Local\\Temp/ipykernel_29764/3035652443.py:1: SettingWithCopyWarning: \n",
      "A value is trying to be set on a copy of a slice from a DataFrame.\n",
      "Try using .loc[row_indexer,col_indexer] = value instead\n",
      "\n",
      "See the caveats in the documentation: https://pandas.pydata.org/pandas-docs/stable/user_guide/indexing.html#returning-a-view-versus-a-copy\n",
      "  df2['날짜'] = df2[['year','month']].apply(lambda x : '/'.join(x),axis = 1) # 2015/12 형태로 만들기\n"
     ]
    }
   ],
   "source": [
    "df2['날짜'] = df2[['year','month']].apply(lambda x : '/'.join(x),axis = 1) # 2015/12 형태로 만들기 "
   ]
  },
  {
   "cell_type": "code",
   "execution_count": 63,
   "id": "3e70520b",
   "metadata": {},
   "outputs": [
    {
     "data": {
      "text/plain": [
       "array(['2015/12', '2016/01', '2016/02', '2016/03', '2016/04', '2016/05',\n",
       "       '2016/06', '2016/07', '2016/08', '2016/09', '2016/10', '2016/11',\n",
       "       '2016/12', '2017/01', '2017/02', '2017/03', '2017/04', '2017/05',\n",
       "       '2017/06', '2017/07', '2017/08', '2017/09', '2017/10', '2017/11',\n",
       "       '2017/12', '2018/01', '2018/02', '2018/03', '2018/04', '2018/05',\n",
       "       '2018/06', '2018/07', '2018/08', '2018/09', '2018/10', '2018/11',\n",
       "       '2018/12', '2019/01', '2019/02', '2019/03', '2019/04', '2019/05',\n",
       "       '2019/06', '2019/07', '2019/08', '2019/09', '2019/10', '2019/11',\n",
       "       '2019/12'], dtype=object)"
      ]
     },
     "execution_count": 63,
     "metadata": {},
     "output_type": "execute_result"
    }
   ],
   "source": [
    "df2['날짜'].unique()"
   ]
  },
  {
   "cell_type": "code",
   "execution_count": 64,
   "id": "a24f08e0",
   "metadata": {},
   "outputs": [
    {
     "ename": "FileNotFoundError",
     "evalue": "[Errno 2] No such file or directory: 'C:/Users/kio02/OneDrive/Desktop/물가지수.xlsx'",
     "output_type": "error",
     "traceback": [
      "\u001b[1;31m---------------------------------------------------------------------------\u001b[0m",
      "\u001b[1;31mFileNotFoundError\u001b[0m                         Traceback (most recent call last)",
      "\u001b[1;32m~\\AppData\\Local\\Temp/ipykernel_29764/3749296141.py\u001b[0m in \u001b[0;36m<module>\u001b[1;34m\u001b[0m\n\u001b[1;32m----> 1\u001b[1;33m \u001b[0mprice_index\u001b[0m \u001b[1;33m=\u001b[0m \u001b[0mpd\u001b[0m\u001b[1;33m.\u001b[0m\u001b[0mread_excel\u001b[0m\u001b[1;33m(\u001b[0m\u001b[1;34m'C:/Users/kio02/OneDrive/Desktop/물가지수.xlsx'\u001b[0m\u001b[1;33m)\u001b[0m  \u001b[1;31m# 한국은행 데이터에서 물가지수를 가져옴\u001b[0m\u001b[1;33m\u001b[0m\u001b[1;33m\u001b[0m\u001b[0m\n\u001b[0m",
      "\u001b[1;32mC:\\ProgramData\\Anaconda3\\lib\\site-packages\\pandas\\util\\_decorators.py\u001b[0m in \u001b[0;36mwrapper\u001b[1;34m(*args, **kwargs)\u001b[0m\n\u001b[0;32m    309\u001b[0m                     \u001b[0mstacklevel\u001b[0m\u001b[1;33m=\u001b[0m\u001b[0mstacklevel\u001b[0m\u001b[1;33m,\u001b[0m\u001b[1;33m\u001b[0m\u001b[1;33m\u001b[0m\u001b[0m\n\u001b[0;32m    310\u001b[0m                 )\n\u001b[1;32m--> 311\u001b[1;33m             \u001b[1;32mreturn\u001b[0m \u001b[0mfunc\u001b[0m\u001b[1;33m(\u001b[0m\u001b[1;33m*\u001b[0m\u001b[0margs\u001b[0m\u001b[1;33m,\u001b[0m \u001b[1;33m**\u001b[0m\u001b[0mkwargs\u001b[0m\u001b[1;33m)\u001b[0m\u001b[1;33m\u001b[0m\u001b[1;33m\u001b[0m\u001b[0m\n\u001b[0m\u001b[0;32m    312\u001b[0m \u001b[1;33m\u001b[0m\u001b[0m\n\u001b[0;32m    313\u001b[0m         \u001b[1;32mreturn\u001b[0m \u001b[0mwrapper\u001b[0m\u001b[1;33m\u001b[0m\u001b[1;33m\u001b[0m\u001b[0m\n",
      "\u001b[1;32mC:\\ProgramData\\Anaconda3\\lib\\site-packages\\pandas\\io\\excel\\_base.py\u001b[0m in \u001b[0;36mread_excel\u001b[1;34m(io, sheet_name, header, names, index_col, usecols, squeeze, dtype, engine, converters, true_values, false_values, skiprows, nrows, na_values, keep_default_na, na_filter, verbose, parse_dates, date_parser, thousands, comment, skipfooter, convert_float, mangle_dupe_cols, storage_options)\u001b[0m\n\u001b[0;32m    362\u001b[0m     \u001b[1;32mif\u001b[0m \u001b[1;32mnot\u001b[0m \u001b[0misinstance\u001b[0m\u001b[1;33m(\u001b[0m\u001b[0mio\u001b[0m\u001b[1;33m,\u001b[0m \u001b[0mExcelFile\u001b[0m\u001b[1;33m)\u001b[0m\u001b[1;33m:\u001b[0m\u001b[1;33m\u001b[0m\u001b[1;33m\u001b[0m\u001b[0m\n\u001b[0;32m    363\u001b[0m         \u001b[0mshould_close\u001b[0m \u001b[1;33m=\u001b[0m \u001b[1;32mTrue\u001b[0m\u001b[1;33m\u001b[0m\u001b[1;33m\u001b[0m\u001b[0m\n\u001b[1;32m--> 364\u001b[1;33m         \u001b[0mio\u001b[0m \u001b[1;33m=\u001b[0m \u001b[0mExcelFile\u001b[0m\u001b[1;33m(\u001b[0m\u001b[0mio\u001b[0m\u001b[1;33m,\u001b[0m \u001b[0mstorage_options\u001b[0m\u001b[1;33m=\u001b[0m\u001b[0mstorage_options\u001b[0m\u001b[1;33m,\u001b[0m \u001b[0mengine\u001b[0m\u001b[1;33m=\u001b[0m\u001b[0mengine\u001b[0m\u001b[1;33m)\u001b[0m\u001b[1;33m\u001b[0m\u001b[1;33m\u001b[0m\u001b[0m\n\u001b[0m\u001b[0;32m    365\u001b[0m     \u001b[1;32melif\u001b[0m \u001b[0mengine\u001b[0m \u001b[1;32mand\u001b[0m \u001b[0mengine\u001b[0m \u001b[1;33m!=\u001b[0m \u001b[0mio\u001b[0m\u001b[1;33m.\u001b[0m\u001b[0mengine\u001b[0m\u001b[1;33m:\u001b[0m\u001b[1;33m\u001b[0m\u001b[1;33m\u001b[0m\u001b[0m\n\u001b[0;32m    366\u001b[0m         raise ValueError(\n",
      "\u001b[1;32mC:\\ProgramData\\Anaconda3\\lib\\site-packages\\pandas\\io\\excel\\_base.py\u001b[0m in \u001b[0;36m__init__\u001b[1;34m(self, path_or_buffer, engine, storage_options)\u001b[0m\n\u001b[0;32m   1189\u001b[0m                 \u001b[0mext\u001b[0m \u001b[1;33m=\u001b[0m \u001b[1;34m\"xls\"\u001b[0m\u001b[1;33m\u001b[0m\u001b[1;33m\u001b[0m\u001b[0m\n\u001b[0;32m   1190\u001b[0m             \u001b[1;32melse\u001b[0m\u001b[1;33m:\u001b[0m\u001b[1;33m\u001b[0m\u001b[1;33m\u001b[0m\u001b[0m\n\u001b[1;32m-> 1191\u001b[1;33m                 ext = inspect_excel_format(\n\u001b[0m\u001b[0;32m   1192\u001b[0m                     \u001b[0mcontent_or_path\u001b[0m\u001b[1;33m=\u001b[0m\u001b[0mpath_or_buffer\u001b[0m\u001b[1;33m,\u001b[0m \u001b[0mstorage_options\u001b[0m\u001b[1;33m=\u001b[0m\u001b[0mstorage_options\u001b[0m\u001b[1;33m\u001b[0m\u001b[1;33m\u001b[0m\u001b[0m\n\u001b[0;32m   1193\u001b[0m                 )\n",
      "\u001b[1;32mC:\\ProgramData\\Anaconda3\\lib\\site-packages\\pandas\\io\\excel\\_base.py\u001b[0m in \u001b[0;36minspect_excel_format\u001b[1;34m(content_or_path, storage_options)\u001b[0m\n\u001b[0;32m   1068\u001b[0m         \u001b[0mcontent_or_path\u001b[0m \u001b[1;33m=\u001b[0m \u001b[0mBytesIO\u001b[0m\u001b[1;33m(\u001b[0m\u001b[0mcontent_or_path\u001b[0m\u001b[1;33m)\u001b[0m\u001b[1;33m\u001b[0m\u001b[1;33m\u001b[0m\u001b[0m\n\u001b[0;32m   1069\u001b[0m \u001b[1;33m\u001b[0m\u001b[0m\n\u001b[1;32m-> 1070\u001b[1;33m     with get_handle(\n\u001b[0m\u001b[0;32m   1071\u001b[0m         \u001b[0mcontent_or_path\u001b[0m\u001b[1;33m,\u001b[0m \u001b[1;34m\"rb\"\u001b[0m\u001b[1;33m,\u001b[0m \u001b[0mstorage_options\u001b[0m\u001b[1;33m=\u001b[0m\u001b[0mstorage_options\u001b[0m\u001b[1;33m,\u001b[0m \u001b[0mis_text\u001b[0m\u001b[1;33m=\u001b[0m\u001b[1;32mFalse\u001b[0m\u001b[1;33m\u001b[0m\u001b[1;33m\u001b[0m\u001b[0m\n\u001b[0;32m   1072\u001b[0m     ) as handle:\n",
      "\u001b[1;32mC:\\ProgramData\\Anaconda3\\lib\\site-packages\\pandas\\io\\common.py\u001b[0m in \u001b[0;36mget_handle\u001b[1;34m(path_or_buf, mode, encoding, compression, memory_map, is_text, errors, storage_options)\u001b[0m\n\u001b[0;32m    709\u001b[0m         \u001b[1;32melse\u001b[0m\u001b[1;33m:\u001b[0m\u001b[1;33m\u001b[0m\u001b[1;33m\u001b[0m\u001b[0m\n\u001b[0;32m    710\u001b[0m             \u001b[1;31m# Binary mode\u001b[0m\u001b[1;33m\u001b[0m\u001b[1;33m\u001b[0m\u001b[0m\n\u001b[1;32m--> 711\u001b[1;33m             \u001b[0mhandle\u001b[0m \u001b[1;33m=\u001b[0m \u001b[0mopen\u001b[0m\u001b[1;33m(\u001b[0m\u001b[0mhandle\u001b[0m\u001b[1;33m,\u001b[0m \u001b[0mioargs\u001b[0m\u001b[1;33m.\u001b[0m\u001b[0mmode\u001b[0m\u001b[1;33m)\u001b[0m\u001b[1;33m\u001b[0m\u001b[1;33m\u001b[0m\u001b[0m\n\u001b[0m\u001b[0;32m    712\u001b[0m         \u001b[0mhandles\u001b[0m\u001b[1;33m.\u001b[0m\u001b[0mappend\u001b[0m\u001b[1;33m(\u001b[0m\u001b[0mhandle\u001b[0m\u001b[1;33m)\u001b[0m\u001b[1;33m\u001b[0m\u001b[1;33m\u001b[0m\u001b[0m\n\u001b[0;32m    713\u001b[0m \u001b[1;33m\u001b[0m\u001b[0m\n",
      "\u001b[1;31mFileNotFoundError\u001b[0m: [Errno 2] No such file or directory: 'C:/Users/kio02/OneDrive/Desktop/물가지수.xlsx'"
     ]
    }
   ],
   "source": [
    "price_index = pd.read_excel('C:/Users/kio02/OneDrive/Desktop/물가지수.xlsx')  # 한국은행 데이터에서 물가지수를 가져옴"
   ]
  },
  {
   "cell_type": "code",
   "execution_count": null,
   "id": "aedfdc46",
   "metadata": {},
   "outputs": [],
   "source": [
    "price_index = price_index.drop([0,1,2,3,4])"
   ]
  },
  {
   "cell_type": "code",
   "execution_count": null,
   "id": "ec1fc23d",
   "metadata": {},
   "outputs": [],
   "source": [
    " price_index.columns = ['날짜','신선','냉동']"
   ]
  },
  {
   "cell_type": "code",
   "execution_count": null,
   "id": "f6f89041",
   "metadata": {
    "scrolled": true
   },
   "outputs": [],
   "source": [
    "price_index "
   ]
  },
  {
   "cell_type": "code",
   "execution_count": null,
   "id": "e4496f64",
   "metadata": {},
   "outputs": [],
   "source": [
    "df3 = pd.merge(df2,price_index,on = '날짜')  #날짜로 join"
   ]
  },
  {
   "cell_type": "code",
   "execution_count": null,
   "id": "cd171af1",
   "metadata": {},
   "outputs": [],
   "source": [
    "df3.isnull().sum()"
   ]
  },
  {
   "cell_type": "code",
   "execution_count": null,
   "id": "e647109f",
   "metadata": {},
   "outputs": [],
   "source": [
    "market_fre = df3.loc[df3['P_IMPORT_TYPE'].str.contains('냉동')] # 냉동인 값만 가져오기 "
   ]
  },
  {
   "cell_type": "code",
   "execution_count": null,
   "id": "db70802a",
   "metadata": {},
   "outputs": [],
   "source": [
    "market_fre['냉동'] =market_fre['냉동'].apply(lambda x :int(x))  # 정수로 만들기\n",
    "market_fre['P_PRICE'] = market_fre['P_PRICE'].apply(lambda x : float(x))  # 실수로 만들기 \n",
    "market_fre['org_price'] = market_fre['P_PRICE']/market_fre['냉동']*100    # 원가 가격을 만들기 위해 값/단가 *100\n",
    "market_live = df3.loc[df3['P_IMPORT_TYPE'].str.contains('냉동')==False]   # 냉동인 아닌 것만 고르기  \n",
    "market_live['신선'].apply(lambda x : int(x))    #  정수만들기\n",
    "market_live['P_PRICE'] = market_live['P_PRICE'].apply(lambda x : float(x))\n",
    "market_live['신선'] = market_live['신선'].apply(lambda x : int(x))\n",
    "market_live['org_price'] = market_live['P_PRICE']/market_live['신선']*100\n",
    "fish_market = pd.concat([market_live,market_fre],axis = 0) # 값 합치기 \n",
    "fish_market =fish_market.sort_values(by = ['날짜'],axis = 0) # 정렬하기 "
   ]
  },
  {
   "cell_type": "code",
   "execution_count": null,
   "id": "4c408a09",
   "metadata": {},
   "outputs": [],
   "source": [
    "fish_market = fish_market.sort_values(by = ['REG_DATE'],axis = 0)  # 날짜로 정렬하기"
   ]
  },
  {
   "cell_type": "code",
   "execution_count": null,
   "id": "ff10cd3e",
   "metadata": {},
   "outputs": [],
   "source": [
    "# 물고기별로 나누기\n",
    "market_salmon = fish_market[fish_market['P_NAME'] == '연어']\n",
    "market_shrimp= fish_market[fish_market['P_NAME'] == '흰다리새우']\n",
    "market_squid = fish_market[fish_market['P_NAME'] == '오징어']  "
   ]
  },
  {
   "cell_type": "code",
   "execution_count": null,
   "id": "5b0e6f5b",
   "metadata": {},
   "outputs": [],
   "source": [
    "market_squid['P_NAME'].unique()"
   ]
  },
  {
   "cell_type": "code",
   "execution_count": null,
   "id": "68c5f40c",
   "metadata": {},
   "outputs": [],
   "source": [
    "print(np.mean(market_squid['P_PRICE']))   # 오징어 값들 \n",
    "print(np.median(market_squid['P_PRICE']))\n",
    "print(np.max(market_squid['P_PRICE']) - np.min(market_squid['P_PRICE']))\n",
    "print(np.quantile(market_squid['P_PRICE'],.25))\n",
    "print(np.quantile(market_squid['P_PRICE'],.75))\n",
    "print(np.quantile(market_squid['P_PRICE'],.75)-np.quantile(market_squid['P_PRICE'],.25))"
   ]
  },
  {
   "cell_type": "code",
   "execution_count": null,
   "id": "5fe9bb59",
   "metadata": {},
   "outputs": [],
   "source": [
    "print(np.mean(market_shrimp['P_PRICE']))  # 새우 값들\n",
    "print(np.median(market_shrimp['P_PRICE']))\n",
    "print(np.max(market_shrimp['P_PRICE']) - np.min(market_shrimp['P_PRICE']))\n",
    "print(np.quantile(market_shrimp['P_PRICE'],.25))\n",
    "print(np.quantile(market_shrimp['P_PRICE'],.75))\n",
    "print(np.quantile(market_shrimp['P_PRICE'],.75)-np.quantile(market_shrimp['P_PRICE'],.25))"
   ]
  },
  {
   "cell_type": "code",
   "execution_count": null,
   "id": "14e667f0",
   "metadata": {},
   "outputs": [],
   "source": [
    "print(np.mean(market_salmon['P_PRICE']))    # 연어 값들 \n",
    "print(np.median(market_salmon['P_PRICE']))\n",
    "print(np.max(market_salmon['P_PRICE']) - np.min(market_salmon['P_PRICE']))\n",
    "print(np.quantile(market_salmon['P_PRICE'],.25))\n",
    "print(np.quantile(market_salmon['P_PRICE'],.75))\n",
    "print(np.quantile(market_salmon['P_PRICE'],.75)-np.quantile(market_salmon['P_PRICE'],.25))"
   ]
  },
  {
   "cell_type": "code",
   "execution_count": null,
   "id": "69d15521",
   "metadata": {},
   "outputs": [],
   "source": [
    "sns.stripplot(x = 'CTRY_1', y = 'P_PRICE',data = market_squid)"
   ]
  },
  {
   "cell_type": "code",
   "execution_count": null,
   "id": "0957f44b",
   "metadata": {},
   "outputs": [],
   "source": [
    "Counter(market_squid['CTRY_1'])"
   ]
  },
  {
   "cell_type": "code",
   "execution_count": null,
   "id": "507ea77d",
   "metadata": {
    "scrolled": true
   },
   "outputs": [],
   "source": [
    "sns.stripplot(x = 'CTRY_1', y = 'P_PRICE',data = market_shrimp)"
   ]
  },
  {
   "cell_type": "code",
   "execution_count": null,
   "id": "35be923c",
   "metadata": {},
   "outputs": [],
   "source": [
    "sns.stripplot(x = 'CTRY_1',y = 'P_PRICE',data = market_salmon)   # 노르웨이 영국, "
   ]
  },
  {
   "cell_type": "markdown",
   "id": "4b48595f",
   "metadata": {},
   "source": [
    "# anova"
   ]
  },
  {
   "cell_type": "code",
   "execution_count": null,
   "id": "bf1d4945",
   "metadata": {},
   "outputs": [],
   "source": [
    "from statsmodels.formula.api import ols\n",
    "from statsmodels.stats.anova import anova_lm"
   ]
  },
  {
   "cell_type": "code",
   "execution_count": null,
   "id": "1d9a25de",
   "metadata": {},
   "outputs": [],
   "source": [
    "formula = 'P_PRICE ~ C(CTRY_1) + C(P_IMPORT_TYPE)+ C(REG_DATE) + C(P_PURPOSE) '\n",
    "lm = ols(formula, df).fit()\n",
    "print(anova_lm(lm))"
   ]
  },
  {
   "cell_type": "code",
   "execution_count": null,
   "id": "9d935780",
   "metadata": {},
   "outputs": [],
   "source": [
    "from sklearn import preprocessing"
   ]
  },
  {
   "cell_type": "code",
   "execution_count": null,
   "id": "3ec213b5",
   "metadata": {},
   "outputs": [],
   "source": [
    "def cramers_V(var1,var2) :\n",
    "  crosstab = np.array(pd.crosstab(var1,var2, rownames=None, colnames=None)) # Cross table building\n",
    "  stat = chi2_contingency(crosstab)[0] # Keeping of the test statistic of the Chi2 test\n",
    "  obs = np.sum(crosstab) # Number of observations\n",
    "  mini = min(crosstab.shape)-1 # Take the minimum value between the columns and the rows of the cross table\n",
    "  return (stat/(obs*mini))"
   ]
  },
  {
   "cell_type": "code",
   "execution_count": null,
   "id": "9e6623aa",
   "metadata": {},
   "outputs": [],
   "source": [
    "label = preprocessing.LabelEncoder()\n",
    "data_encoded = pd.DataFrame() \n",
    "for i in fish_market.columns :\n",
    "  data_encoded[i]=label.fit_transform(fish_market[i])"
   ]
  },
  {
   "cell_type": "code",
   "execution_count": null,
   "id": "57a1d76e",
   "metadata": {},
   "outputs": [],
   "source": [
    "data_encoded.head()"
   ]
  },
  {
   "cell_type": "code",
   "execution_count": null,
   "id": "0dfed448",
   "metadata": {},
   "outputs": [],
   "source": [
    "from scipy.stats import chi2_contingency"
   ]
  },
  {
   "cell_type": "code",
   "execution_count": null,
   "id": "ea3b3839",
   "metadata": {},
   "outputs": [],
   "source": [
    "rows= []\n",
    "\n",
    "for var1 in data_encoded:\n",
    "  col = []\n",
    "  for var2 in data_encoded :\n",
    "    cramers =cramers_V(data_encoded[var1], data_encoded[var2]) # Cramer's V test\n",
    "    col.append(round(cramers,2)) # Keeping of the rounded value of the Cramer's V  \n",
    "  rows.append(col)\n",
    "  \n",
    "cramers_results = np.array(rows)\n",
    "data = pd.DataFrame(cramers_results, columns = data_encoded.columns, index =data_encoded.columns)"
   ]
  },
  {
   "cell_type": "markdown",
   "id": "90fc6b5c",
   "metadata": {},
   "source": [
    "# 상관분석"
   ]
  },
  {
   "cell_type": "code",
   "execution_count": null,
   "id": "3063bda7",
   "metadata": {},
   "outputs": [],
   "source": [
    "sns.heatmap(data,annot =True)"
   ]
  },
  {
   "cell_type": "code",
   "execution_count": null,
   "id": "d8824685",
   "metadata": {},
   "outputs": [],
   "source": [
    "import statsmodels.api  as sm\n",
    "import statsmodels.formula.api as smf\n",
    "from statsmodels.stats.anova import anova_lm"
   ]
  },
  {
   "cell_type": "code",
   "execution_count": null,
   "id": "4babbdb0",
   "metadata": {},
   "outputs": [],
   "source": [
    "formula = 'org_price ~CTRY_1 +CTRY_2 + P_PURPOSE + P_NAME + P_IMPORT_TYPE +날짜'\n",
    "lm = smf.ols(formula,fish_market).fit()\n",
    "anova_lm(lm)"
   ]
  },
  {
   "cell_type": "code",
   "execution_count": null,
   "id": "238ac18b",
   "metadata": {},
   "outputs": [],
   "source": [
    "market_squid_c = market_squid[market_squid['CTRY_2'] == '중국']\n",
    "market_squid_p = market_squid[market_squid['CTRY_2'] == '페루']\n",
    "market_squid_r = market_squid[market_squid['CTRY_2'] == '칠레']"
   ]
  },
  {
   "cell_type": "code",
   "execution_count": null,
   "id": "ea7c980d",
   "metadata": {},
   "outputs": [],
   "source": [
    "sns.stripplot(x= market_squid_c['P_IMPORT_TYPE'], y = market_squid_c['P_PRICE'])  # 냉동동체,냉동, 냉동다리 ,내동통제자숙"
   ]
  },
  {
   "cell_type": "code",
   "execution_count": null,
   "id": "1f0c2a39",
   "metadata": {},
   "outputs": [],
   "source": [
    "sns.stripplot(x= market_squid_p['P_IMPORT_TYPE'], y = market_squid_p['P_PRICE'])"
   ]
  },
  {
   "cell_type": "code",
   "execution_count": null,
   "id": "d447061e",
   "metadata": {},
   "outputs": [],
   "source": [
    "sns.stripplot(x= market_squid_r['P_IMPORT_TYPE'], y = market_squid_r['P_PRICE'])"
   ]
  },
  {
   "cell_type": "code",
   "execution_count": null,
   "id": "88d53f57",
   "metadata": {},
   "outputs": [],
   "source": [
    "market_squid_c[market_squid_c['P_IMPORT_TYPE'] == '냉동,다리'].isnull().sum()"
   ]
  },
  {
   "cell_type": "code",
   "execution_count": null,
   "id": "922b91a9",
   "metadata": {},
   "outputs": [],
   "source": [
    "market_squid_c[market_squid_c['P_IMPORT_TYPE'] == '냉동,다리']['P_PRICE'].plot()"
   ]
  },
  {
   "cell_type": "code",
   "execution_count": null,
   "id": "60e27198",
   "metadata": {},
   "outputs": [],
   "source": [
    "market_squid_p[market_squid_p['P_IMPORT_TYPE']=='냉동,동체,자숙']['P_PRICE'].plot()"
   ]
  },
  {
   "cell_type": "code",
   "execution_count": null,
   "id": "ef3f5878",
   "metadata": {},
   "outputs": [],
   "source": []
  },
  {
   "cell_type": "code",
   "execution_count": 77,
   "id": "d557a4ac",
   "metadata": {},
   "outputs": [],
   "source": [
    "\n",
    "from statsmodels.tsa.seasonal import seasonal_decompose\n",
    "from dateutil.parser import parse"
   ]
  },
  {
   "cell_type": "code",
   "execution_count": 78,
   "id": "737062f5",
   "metadata": {},
   "outputs": [
    {
     "data": {
      "text/plain": [
       "<AxesSubplot:>"
      ]
     },
     "execution_count": 78,
     "metadata": {},
     "output_type": "execute_result"
    },
    {
     "data": {
      "image/png": "[encoded data removed]",
      "text/plain": [
       "<Figure size 1440x360 with 1 Axes>"
      ]
     },
     "metadata": {
      "needs_background": "light"
     },
     "output_type": "display_data"
    }
   ],
   "source": [
    "market_squid_c[market_squid_c['P_IMPORT_TYPE'] == '냉동']['P_PRICE'].plot()"
   ]
  },
  {
   "cell_type": "code",
   "execution_count": 79,
   "id": "5f48d133",
   "metadata": {},
   "outputs": [],
   "source": [
    "from statsmodels.graphics.tsaplots import plot_acf, plot_pacf"
   ]
  },
  {
   "cell_type": "markdown",
   "id": "a33d03d2",
   "metadata": {},
   "source": [
    "# 나라별로 어류 값을 확인하기 "
   ]
  },
  {
   "cell_type": "markdown",
   "id": "bc3958ea",
   "metadata": {},
   "source": [
    "### 연어"
   ]
  },
  {
   "cell_type": "code",
   "execution_count": 80,
   "id": "42e14342",
   "metadata": {},
   "outputs": [],
   "source": [
    "market_salmon_n = market_salmon[market_salmon['CTRY_2']== '노르웨이']"
   ]
  },
  {
   "cell_type": "code",
   "execution_count": 81,
   "id": "b3f2a1ed",
   "metadata": {},
   "outputs": [
    {
     "data": {
      "text/plain": [
       "<AxesSubplot:xlabel='P_IMPORT_TYPE', ylabel='P_PRICE'>"
      ]
     },
     "execution_count": 81,
     "metadata": {},
     "output_type": "execute_result"
    },
    {
     "data": {
      "image/png": "[encoded data removed]",
      "text/plain": [
       "<Figure size 1440x360 with 1 Axes>"
      ]
     },
     "metadata": {
      "needs_background": "light"
     },
     "output_type": "display_data"
    }
   ],
   "source": [
    "sns.stripplot(x= market_salmon_n['P_IMPORT_TYPE'], y = market_salmon_n['P_PRICE'])"
   ]
  },
  {
   "cell_type": "code",
   "execution_count": 82,
   "id": "05fee7ea",
   "metadata": {},
   "outputs": [
    {
     "data": {
      "text/plain": [
       "Counter({'판매용': 210, '자사제품제조용': 210})"
      ]
     },
     "execution_count": 82,
     "metadata": {},
     "output_type": "execute_result"
    }
   ],
   "source": [
    "Counter(market_salmon_n[market_salmon_n['P_IMPORT_TYPE'] == '냉장,필렛(F)']['P_PURPOSE'])"
   ]
  },
  {
   "cell_type": "code",
   "execution_count": 83,
   "id": "dfa68e8f",
   "metadata": {},
   "outputs": [],
   "source": [
    "market_salmon_n_1 = market_salmon_n[market_salmon_n['P_IMPORT_TYPE'] == '냉장,필렛(F)']"
   ]
  },
  {
   "cell_type": "code",
   "execution_count": 84,
   "id": "b211e75f",
   "metadata": {},
   "outputs": [
    {
     "data": {
      "text/html": [
       "<div>\n",
       "<style scoped>\n",
       "    .dataframe tbody tr th:only-of-type {\n",
       "        vertical-align: middle;\n",
       "    }\n",
       "\n",
       "    .dataframe tbody tr th {\n",
       "        vertical-align: top;\n",
       "    }\n",
       "\n",
       "    .dataframe thead th {\n",
       "        text-align: right;\n",
       "    }\n",
       "</style>\n",
       "<table border=\"1\" class=\"dataframe\">\n",
       "  <thead>\n",
       "    <tr style=\"text-align: right;\">\n",
       "      <th></th>\n",
       "      <th>REG_DATE</th>\n",
       "      <th>P_TYPE</th>\n",
       "      <th>CTRY_1</th>\n",
       "      <th>CTRY_2</th>\n",
       "      <th>P_PURPOSE</th>\n",
       "      <th>CATEGORY_1</th>\n",
       "      <th>CATEGORY_2</th>\n",
       "      <th>P_NAME</th>\n",
       "      <th>P_IMPORT_TYPE</th>\n",
       "      <th>P_PRICE</th>\n",
       "      <th>year</th>\n",
       "      <th>month</th>\n",
       "      <th>날짜</th>\n",
       "      <th>신선</th>\n",
       "      <th>냉동</th>\n",
       "      <th>org_price</th>\n",
       "    </tr>\n",
       "  </thead>\n",
       "  <tbody>\n",
       "    <tr>\n",
       "      <th>6</th>\n",
       "      <td>2015-12-28</td>\n",
       "      <td>수산물</td>\n",
       "      <td>노르웨이</td>\n",
       "      <td>노르웨이</td>\n",
       "      <td>판매용</td>\n",
       "      <td>어류</td>\n",
       "      <td>연어</td>\n",
       "      <td>연어</td>\n",
       "      <td>냉장,필렛(F)</td>\n",
       "      <td>12.94</td>\n",
       "      <td>2015</td>\n",
       "      <td>12</td>\n",
       "      <td>2015/12</td>\n",
       "      <td>103</td>\n",
       "      <td>93.0</td>\n",
       "      <td>12.563107</td>\n",
       "    </tr>\n",
       "    <tr>\n",
       "      <th>24</th>\n",
       "      <td>2015-12-28</td>\n",
       "      <td>수산물</td>\n",
       "      <td>노르웨이</td>\n",
       "      <td>노르웨이</td>\n",
       "      <td>자사제품제조용</td>\n",
       "      <td>어류</td>\n",
       "      <td>연어</td>\n",
       "      <td>연어</td>\n",
       "      <td>냉장,필렛(F)</td>\n",
       "      <td>13.43</td>\n",
       "      <td>2015</td>\n",
       "      <td>12</td>\n",
       "      <td>2015/12</td>\n",
       "      <td>103</td>\n",
       "      <td>93.0</td>\n",
       "      <td>13.038835</td>\n",
       "    </tr>\n",
       "    <tr>\n",
       "      <th>52</th>\n",
       "      <td>2016-01-04</td>\n",
       "      <td>수산물</td>\n",
       "      <td>노르웨이</td>\n",
       "      <td>노르웨이</td>\n",
       "      <td>자사제품제조용</td>\n",
       "      <td>어류</td>\n",
       "      <td>연어</td>\n",
       "      <td>연어</td>\n",
       "      <td>냉장,필렛(F)</td>\n",
       "      <td>13.76</td>\n",
       "      <td>2016</td>\n",
       "      <td>01</td>\n",
       "      <td>2016/01</td>\n",
       "      <td>103</td>\n",
       "      <td>97.0</td>\n",
       "      <td>13.359223</td>\n",
       "    </tr>\n",
       "    <tr>\n",
       "      <th>40</th>\n",
       "      <td>2016-01-04</td>\n",
       "      <td>수산물</td>\n",
       "      <td>노르웨이</td>\n",
       "      <td>노르웨이</td>\n",
       "      <td>판매용</td>\n",
       "      <td>어류</td>\n",
       "      <td>연어</td>\n",
       "      <td>연어</td>\n",
       "      <td>냉장,필렛(F)</td>\n",
       "      <td>12.74</td>\n",
       "      <td>2016</td>\n",
       "      <td>01</td>\n",
       "      <td>2016/01</td>\n",
       "      <td>103</td>\n",
       "      <td>97.0</td>\n",
       "      <td>12.368932</td>\n",
       "    </tr>\n",
       "    <tr>\n",
       "      <th>65</th>\n",
       "      <td>2016-01-11</td>\n",
       "      <td>수산물</td>\n",
       "      <td>노르웨이</td>\n",
       "      <td>노르웨이</td>\n",
       "      <td>판매용</td>\n",
       "      <td>어류</td>\n",
       "      <td>연어</td>\n",
       "      <td>연어</td>\n",
       "      <td>냉장,필렛(F)</td>\n",
       "      <td>13.88</td>\n",
       "      <td>2016</td>\n",
       "      <td>01</td>\n",
       "      <td>2016/01</td>\n",
       "      <td>103</td>\n",
       "      <td>97.0</td>\n",
       "      <td>13.475728</td>\n",
       "    </tr>\n",
       "    <tr>\n",
       "      <th>...</th>\n",
       "      <td>...</td>\n",
       "      <td>...</td>\n",
       "      <td>...</td>\n",
       "      <td>...</td>\n",
       "      <td>...</td>\n",
       "      <td>...</td>\n",
       "      <td>...</td>\n",
       "      <td>...</td>\n",
       "      <td>...</td>\n",
       "      <td>...</td>\n",
       "      <td>...</td>\n",
       "      <td>...</td>\n",
       "      <td>...</td>\n",
       "      <td>...</td>\n",
       "      <td>...</td>\n",
       "      <td>...</td>\n",
       "    </tr>\n",
       "    <tr>\n",
       "      <th>6055</th>\n",
       "      <td>2019-12-16</td>\n",
       "      <td>수산물</td>\n",
       "      <td>노르웨이</td>\n",
       "      <td>노르웨이</td>\n",
       "      <td>자사제품제조용</td>\n",
       "      <td>어류</td>\n",
       "      <td>연어</td>\n",
       "      <td>연어</td>\n",
       "      <td>냉장,필렛(F)</td>\n",
       "      <td>21.65</td>\n",
       "      <td>2019</td>\n",
       "      <td>12</td>\n",
       "      <td>2019/12</td>\n",
       "      <td>89</td>\n",
       "      <td>114.0</td>\n",
       "      <td>24.325843</td>\n",
       "    </tr>\n",
       "    <tr>\n",
       "      <th>6085</th>\n",
       "      <td>2019-12-23</td>\n",
       "      <td>수산물</td>\n",
       "      <td>노르웨이</td>\n",
       "      <td>노르웨이</td>\n",
       "      <td>자사제품제조용</td>\n",
       "      <td>어류</td>\n",
       "      <td>연어</td>\n",
       "      <td>연어</td>\n",
       "      <td>냉장,필렛(F)</td>\n",
       "      <td>15.62</td>\n",
       "      <td>2019</td>\n",
       "      <td>12</td>\n",
       "      <td>2019/12</td>\n",
       "      <td>89</td>\n",
       "      <td>114.0</td>\n",
       "      <td>17.550562</td>\n",
       "    </tr>\n",
       "    <tr>\n",
       "      <th>6082</th>\n",
       "      <td>2019-12-23</td>\n",
       "      <td>수산물</td>\n",
       "      <td>노르웨이</td>\n",
       "      <td>노르웨이</td>\n",
       "      <td>판매용</td>\n",
       "      <td>어류</td>\n",
       "      <td>연어</td>\n",
       "      <td>연어</td>\n",
       "      <td>냉장,필렛(F)</td>\n",
       "      <td>16.18</td>\n",
       "      <td>2019</td>\n",
       "      <td>12</td>\n",
       "      <td>2019/12</td>\n",
       "      <td>89</td>\n",
       "      <td>114.0</td>\n",
       "      <td>18.179775</td>\n",
       "    </tr>\n",
       "    <tr>\n",
       "      <th>6117</th>\n",
       "      <td>2019-12-30</td>\n",
       "      <td>수산물</td>\n",
       "      <td>노르웨이</td>\n",
       "      <td>노르웨이</td>\n",
       "      <td>자사제품제조용</td>\n",
       "      <td>어류</td>\n",
       "      <td>연어</td>\n",
       "      <td>연어</td>\n",
       "      <td>냉장,필렛(F)</td>\n",
       "      <td>15.63</td>\n",
       "      <td>2019</td>\n",
       "      <td>12</td>\n",
       "      <td>2019/12</td>\n",
       "      <td>89</td>\n",
       "      <td>114.0</td>\n",
       "      <td>17.561798</td>\n",
       "    </tr>\n",
       "    <tr>\n",
       "      <th>6108</th>\n",
       "      <td>2019-12-30</td>\n",
       "      <td>수산물</td>\n",
       "      <td>노르웨이</td>\n",
       "      <td>노르웨이</td>\n",
       "      <td>판매용</td>\n",
       "      <td>어류</td>\n",
       "      <td>연어</td>\n",
       "      <td>연어</td>\n",
       "      <td>냉장,필렛(F)</td>\n",
       "      <td>16.50</td>\n",
       "      <td>2019</td>\n",
       "      <td>12</td>\n",
       "      <td>2019/12</td>\n",
       "      <td>89</td>\n",
       "      <td>114.0</td>\n",
       "      <td>18.539326</td>\n",
       "    </tr>\n",
       "  </tbody>\n",
       "</table>\n",
       "<p>420 rows × 16 columns</p>\n",
       "</div>"
      ],
      "text/plain": [
       "        REG_DATE P_TYPE CTRY_1 CTRY_2 P_PURPOSE CATEGORY_1 CATEGORY_2 P_NAME  \\\n",
       "6     2015-12-28    수산물   노르웨이   노르웨이       판매용         어류         연어     연어   \n",
       "24    2015-12-28    수산물   노르웨이   노르웨이   자사제품제조용         어류         연어     연어   \n",
       "52    2016-01-04    수산물   노르웨이   노르웨이   자사제품제조용         어류         연어     연어   \n",
       "40    2016-01-04    수산물   노르웨이   노르웨이       판매용         어류         연어     연어   \n",
       "65    2016-01-11    수산물   노르웨이   노르웨이       판매용         어류         연어     연어   \n",
       "...          ...    ...    ...    ...       ...        ...        ...    ...   \n",
       "6055  2019-12-16    수산물   노르웨이   노르웨이   자사제품제조용         어류         연어     연어   \n",
       "6085  2019-12-23    수산물   노르웨이   노르웨이   자사제품제조용         어류         연어     연어   \n",
       "6082  2019-12-23    수산물   노르웨이   노르웨이       판매용         어류         연어     연어   \n",
       "6117  2019-12-30    수산물   노르웨이   노르웨이   자사제품제조용         어류         연어     연어   \n",
       "6108  2019-12-30    수산물   노르웨이   노르웨이       판매용         어류         연어     연어   \n",
       "\n",
       "     P_IMPORT_TYPE  P_PRICE  year month       날짜   신선     냉동  org_price  \n",
       "6         냉장,필렛(F)    12.94  2015    12  2015/12  103   93.0  12.563107  \n",
       "24        냉장,필렛(F)    13.43  2015    12  2015/12  103   93.0  13.038835  \n",
       "52        냉장,필렛(F)    13.76  2016    01  2016/01  103   97.0  13.359223  \n",
       "40        냉장,필렛(F)    12.74  2016    01  2016/01  103   97.0  12.368932  \n",
       "65        냉장,필렛(F)    13.88  2016    01  2016/01  103   97.0  13.475728  \n",
       "...            ...      ...   ...   ...      ...  ...    ...        ...  \n",
       "6055      냉장,필렛(F)    21.65  2019    12  2019/12   89  114.0  24.325843  \n",
       "6085      냉장,필렛(F)    15.62  2019    12  2019/12   89  114.0  17.550562  \n",
       "6082      냉장,필렛(F)    16.18  2019    12  2019/12   89  114.0  18.179775  \n",
       "6117      냉장,필렛(F)    15.63  2019    12  2019/12   89  114.0  17.561798  \n",
       "6108      냉장,필렛(F)    16.50  2019    12  2019/12   89  114.0  18.539326  \n",
       "\n",
       "[420 rows x 16 columns]"
      ]
     },
     "execution_count": 84,
     "metadata": {},
     "output_type": "execute_result"
    }
   ],
   "source": [
    "market_salmon_n_1"
   ]
  },
  {
   "cell_type": "code",
   "execution_count": 85,
   "id": "0e718b13",
   "metadata": {},
   "outputs": [],
   "source": [
    "market_salmon_n2=market_salmon_n_1[market_salmon_n_1['P_PURPOSE'] == '자사제품제조용']\n",
    "market_salmon_n3 = market_salmon_n_1[market_salmon_n_1['P_PURPOSE'] == '판매용']"
   ]
  },
  {
   "cell_type": "code",
   "execution_count": 86,
   "id": "e92ac8be",
   "metadata": {},
   "outputs": [],
   "source": [
    "market_salmon_n2.index = market_salmon_n2['REG_DATE']\n",
    "market_salmon_n3.index = market_salmon_n3['REG_DATE']"
   ]
  },
  {
   "cell_type": "code",
   "execution_count": 87,
   "id": "4804636f",
   "metadata": {},
   "outputs": [],
   "source": [
    "market_salmon_n2_1 = market_salmon_n2['P_PRICE'].diff()"
   ]
  },
  {
   "cell_type": "code",
   "execution_count": 88,
   "id": "e7806f28",
   "metadata": {},
   "outputs": [],
   "source": [
    "market_salmon_n2_1=  market_salmon_n2_1.drop('2015-12-28',axis = 0)"
   ]
  },
  {
   "cell_type": "code",
   "execution_count": 89,
   "id": "531770eb",
   "metadata": {},
   "outputs": [
    {
     "data": {
      "text/plain": [
       "<AxesSubplot:xlabel='REG_DATE'>"
      ]
     },
     "execution_count": 89,
     "metadata": {},
     "output_type": "execute_result"
    },
    {
     "name": "stderr",
     "output_type": "stream",
     "text": [
      "C:\\Users\\kio02\\anaconda3\\lib\\site-packages\\IPython\\core\\pylabtools.py:151: UserWarning: Glyph 8722 (\\N{MINUS SIGN}) missing from current font.\n",
      "  fig.canvas.print_figure(bytes_io, **kw)\n"
     ]
    },
    {
     "data": {
      "image/png": "[encoded data removed]",
      "text/plain": [
       "<Figure size 1440x360 with 1 Axes>"
      ]
     },
     "metadata": {
      "needs_background": "light"
     },
     "output_type": "display_data"
    }
   ],
   "source": [
    "market_salmon_n2_1.plot()"
   ]
  },
  {
   "cell_type": "code",
   "execution_count": 90,
   "id": "de9f6486",
   "metadata": {},
   "outputs": [
    {
     "data": {
      "text/plain": [
       "<AxesSubplot:xlabel='REG_DATE'>"
      ]
     },
     "execution_count": 90,
     "metadata": {},
     "output_type": "execute_result"
    },
    {
     "data": {
      "image/png": "[encoded data removed]",
      "text/plain": [
       "<Figure size 1440x360 with 1 Axes>"
      ]
     },
     "metadata": {
      "needs_background": "light"
     },
     "output_type": "display_data"
    }
   ],
   "source": [
    "market_salmon_n3['P_PRICE'].plot()"
   ]
  },
  {
   "cell_type": "code",
   "execution_count": 91,
   "id": "56a37848",
   "metadata": {},
   "outputs": [
    {
     "data": {
      "text/plain": [
       "<pandas.core.groupby.generic.SeriesGroupBy object at 0x000002330F661B50>"
      ]
     },
     "execution_count": 91,
     "metadata": {},
     "output_type": "execute_result"
    }
   ],
   "source": [
    "market_squid['CTRY_2'].groupby(market_squid['REG_DATE'])"
   ]
  },
  {
   "cell_type": "markdown",
   "id": "2a2a2f14",
   "metadata": {},
   "source": [
    "### 오징어"
   ]
  },
  {
   "cell_type": "code",
   "execution_count": 92,
   "id": "be35d4ec",
   "metadata": {},
   "outputs": [],
   "source": [
    "# 오징어 \n",
    "market_squid_c #중국\n",
    "market_squid_p #페루\n",
    "market_squid_r #칠레\n",
    "squid_c = market_squid_c.groupby('REG_DATE').mean()   # 중국\n",
    "squid_r = market_squid_r.groupby('REG_DATE').mean()  # 칠레\n",
    "squid_p = market_squid_p.groupby('REG_DATE').mean()   # 페루"
   ]
  },
  {
   "cell_type": "code",
   "execution_count": 93,
   "id": "a662d271",
   "metadata": {},
   "outputs": [
    {
     "data": {
      "text/html": [
       "<div>\n",
       "<style scoped>\n",
       "    .dataframe tbody tr th:only-of-type {\n",
       "        vertical-align: middle;\n",
       "    }\n",
       "\n",
       "    .dataframe tbody tr th {\n",
       "        vertical-align: top;\n",
       "    }\n",
       "\n",
       "    .dataframe thead th {\n",
       "        text-align: right;\n",
       "    }\n",
       "</style>\n",
       "<table border=\"1\" class=\"dataframe\">\n",
       "  <thead>\n",
       "    <tr style=\"text-align: right;\">\n",
       "      <th></th>\n",
       "      <th>REG_DATE</th>\n",
       "      <th>P_TYPE</th>\n",
       "      <th>CTRY_1</th>\n",
       "      <th>CTRY_2</th>\n",
       "      <th>P_PURPOSE</th>\n",
       "      <th>CATEGORY_1</th>\n",
       "      <th>CATEGORY_2</th>\n",
       "      <th>P_NAME</th>\n",
       "      <th>P_IMPORT_TYPE</th>\n",
       "      <th>P_PRICE</th>\n",
       "      <th>year</th>\n",
       "      <th>month</th>\n",
       "      <th>날짜</th>\n",
       "      <th>신선</th>\n",
       "      <th>냉동</th>\n",
       "      <th>org_price</th>\n",
       "    </tr>\n",
       "  </thead>\n",
       "  <tbody>\n",
       "    <tr>\n",
       "      <th>8</th>\n",
       "      <td>2015-12-28</td>\n",
       "      <td>수산물</td>\n",
       "      <td>중국</td>\n",
       "      <td>중국</td>\n",
       "      <td>판매용</td>\n",
       "      <td>연체류 해물모듬</td>\n",
       "      <td>오징어</td>\n",
       "      <td>오징어</td>\n",
       "      <td>냉동,동체</td>\n",
       "      <td>0.79</td>\n",
       "      <td>2015</td>\n",
       "      <td>12</td>\n",
       "      <td>2015/12</td>\n",
       "      <td>103.0</td>\n",
       "      <td>93</td>\n",
       "      <td>0.849462</td>\n",
       "    </tr>\n",
       "    <tr>\n",
       "      <th>62</th>\n",
       "      <td>2016-01-11</td>\n",
       "      <td>수산물</td>\n",
       "      <td>중국</td>\n",
       "      <td>중국</td>\n",
       "      <td>판매용</td>\n",
       "      <td>연체류 해물모듬</td>\n",
       "      <td>오징어</td>\n",
       "      <td>오징어</td>\n",
       "      <td>냉동,동체</td>\n",
       "      <td>1.15</td>\n",
       "      <td>2016</td>\n",
       "      <td>01</td>\n",
       "      <td>2016/01</td>\n",
       "      <td>103.0</td>\n",
       "      <td>97</td>\n",
       "      <td>1.185567</td>\n",
       "    </tr>\n",
       "    <tr>\n",
       "      <th>84</th>\n",
       "      <td>2016-01-18</td>\n",
       "      <td>수산물</td>\n",
       "      <td>중국</td>\n",
       "      <td>중국</td>\n",
       "      <td>판매용</td>\n",
       "      <td>연체류 해물모듬</td>\n",
       "      <td>오징어</td>\n",
       "      <td>오징어</td>\n",
       "      <td>냉동,슬라이스(S)</td>\n",
       "      <td>1.75</td>\n",
       "      <td>2016</td>\n",
       "      <td>01</td>\n",
       "      <td>2016/01</td>\n",
       "      <td>103.0</td>\n",
       "      <td>97</td>\n",
       "      <td>1.804124</td>\n",
       "    </tr>\n",
       "    <tr>\n",
       "      <th>89</th>\n",
       "      <td>2016-01-18</td>\n",
       "      <td>수산물</td>\n",
       "      <td>중국</td>\n",
       "      <td>중국</td>\n",
       "      <td>판매용</td>\n",
       "      <td>연체류 해물모듬</td>\n",
       "      <td>오징어</td>\n",
       "      <td>오징어</td>\n",
       "      <td>냉동,동체</td>\n",
       "      <td>0.76</td>\n",
       "      <td>2016</td>\n",
       "      <td>01</td>\n",
       "      <td>2016/01</td>\n",
       "      <td>103.0</td>\n",
       "      <td>97</td>\n",
       "      <td>0.783505</td>\n",
       "    </tr>\n",
       "    <tr>\n",
       "      <th>139</th>\n",
       "      <td>2016-02-01</td>\n",
       "      <td>수산물</td>\n",
       "      <td>중국</td>\n",
       "      <td>중국</td>\n",
       "      <td>판매용</td>\n",
       "      <td>연체류 해물모듬</td>\n",
       "      <td>오징어</td>\n",
       "      <td>오징어</td>\n",
       "      <td>냉동,슬라이스(S),포장횟감</td>\n",
       "      <td>10.15</td>\n",
       "      <td>2016</td>\n",
       "      <td>02</td>\n",
       "      <td>2016/02</td>\n",
       "      <td>105.0</td>\n",
       "      <td>96</td>\n",
       "      <td>10.572917</td>\n",
       "    </tr>\n",
       "    <tr>\n",
       "      <th>...</th>\n",
       "      <td>...</td>\n",
       "      <td>...</td>\n",
       "      <td>...</td>\n",
       "      <td>...</td>\n",
       "      <td>...</td>\n",
       "      <td>...</td>\n",
       "      <td>...</td>\n",
       "      <td>...</td>\n",
       "      <td>...</td>\n",
       "      <td>...</td>\n",
       "      <td>...</td>\n",
       "      <td>...</td>\n",
       "      <td>...</td>\n",
       "      <td>...</td>\n",
       "      <td>...</td>\n",
       "      <td>...</td>\n",
       "    </tr>\n",
       "    <tr>\n",
       "      <th>6084</th>\n",
       "      <td>2019-12-23</td>\n",
       "      <td>수산물</td>\n",
       "      <td>중국</td>\n",
       "      <td>중국</td>\n",
       "      <td>판매용</td>\n",
       "      <td>연체류 해물모듬</td>\n",
       "      <td>오징어</td>\n",
       "      <td>오징어</td>\n",
       "      <td>냉동</td>\n",
       "      <td>3.41</td>\n",
       "      <td>2019</td>\n",
       "      <td>12</td>\n",
       "      <td>2019/12</td>\n",
       "      <td>89.0</td>\n",
       "      <td>114</td>\n",
       "      <td>2.991228</td>\n",
       "    </tr>\n",
       "    <tr>\n",
       "      <th>6089</th>\n",
       "      <td>2019-12-30</td>\n",
       "      <td>수산물</td>\n",
       "      <td>중국</td>\n",
       "      <td>중국</td>\n",
       "      <td>판매용</td>\n",
       "      <td>연체류 해물모듬</td>\n",
       "      <td>오징어</td>\n",
       "      <td>오징어</td>\n",
       "      <td>냉동,동체,자숙</td>\n",
       "      <td>2.93</td>\n",
       "      <td>2019</td>\n",
       "      <td>12</td>\n",
       "      <td>2019/12</td>\n",
       "      <td>89.0</td>\n",
       "      <td>114</td>\n",
       "      <td>2.570175</td>\n",
       "    </tr>\n",
       "    <tr>\n",
       "      <th>6107</th>\n",
       "      <td>2019-12-30</td>\n",
       "      <td>수산물</td>\n",
       "      <td>중국</td>\n",
       "      <td>중국</td>\n",
       "      <td>판매용</td>\n",
       "      <td>연체류 해물모듬</td>\n",
       "      <td>오징어</td>\n",
       "      <td>오징어</td>\n",
       "      <td>냉동,동체</td>\n",
       "      <td>3.91</td>\n",
       "      <td>2019</td>\n",
       "      <td>12</td>\n",
       "      <td>2019/12</td>\n",
       "      <td>89.0</td>\n",
       "      <td>114</td>\n",
       "      <td>3.429825</td>\n",
       "    </tr>\n",
       "    <tr>\n",
       "      <th>6088</th>\n",
       "      <td>2019-12-30</td>\n",
       "      <td>수산물</td>\n",
       "      <td>중국</td>\n",
       "      <td>중국</td>\n",
       "      <td>판매용</td>\n",
       "      <td>연체류 해물모듬</td>\n",
       "      <td>오징어</td>\n",
       "      <td>오징어</td>\n",
       "      <td>냉동,다리</td>\n",
       "      <td>1.86</td>\n",
       "      <td>2019</td>\n",
       "      <td>12</td>\n",
       "      <td>2019/12</td>\n",
       "      <td>89.0</td>\n",
       "      <td>114</td>\n",
       "      <td>1.631579</td>\n",
       "    </tr>\n",
       "    <tr>\n",
       "      <th>6119</th>\n",
       "      <td>2019-12-30</td>\n",
       "      <td>수산물</td>\n",
       "      <td>중국</td>\n",
       "      <td>중국</td>\n",
       "      <td>판매용</td>\n",
       "      <td>연체류 해물모듬</td>\n",
       "      <td>오징어</td>\n",
       "      <td>오징어</td>\n",
       "      <td>냉동</td>\n",
       "      <td>4.11</td>\n",
       "      <td>2019</td>\n",
       "      <td>12</td>\n",
       "      <td>2019/12</td>\n",
       "      <td>89.0</td>\n",
       "      <td>114</td>\n",
       "      <td>3.605263</td>\n",
       "    </tr>\n",
       "  </tbody>\n",
       "</table>\n",
       "<p>539 rows × 16 columns</p>\n",
       "</div>"
      ],
      "text/plain": [
       "        REG_DATE P_TYPE CTRY_1 CTRY_2 P_PURPOSE CATEGORY_1 CATEGORY_2 P_NAME  \\\n",
       "8     2015-12-28    수산물     중국     중국       판매용   연체류 해물모듬        오징어    오징어   \n",
       "62    2016-01-11    수산물     중국     중국       판매용   연체류 해물모듬        오징어    오징어   \n",
       "84    2016-01-18    수산물     중국     중국       판매용   연체류 해물모듬        오징어    오징어   \n",
       "89    2016-01-18    수산물     중국     중국       판매용   연체류 해물모듬        오징어    오징어   \n",
       "139   2016-02-01    수산물     중국     중국       판매용   연체류 해물모듬        오징어    오징어   \n",
       "...          ...    ...    ...    ...       ...        ...        ...    ...   \n",
       "6084  2019-12-23    수산물     중국     중국       판매용   연체류 해물모듬        오징어    오징어   \n",
       "6089  2019-12-30    수산물     중국     중국       판매용   연체류 해물모듬        오징어    오징어   \n",
       "6107  2019-12-30    수산물     중국     중국       판매용   연체류 해물모듬        오징어    오징어   \n",
       "6088  2019-12-30    수산물     중국     중국       판매용   연체류 해물모듬        오징어    오징어   \n",
       "6119  2019-12-30    수산물     중국     중국       판매용   연체류 해물모듬        오징어    오징어   \n",
       "\n",
       "        P_IMPORT_TYPE  P_PRICE  year month       날짜     신선   냉동  org_price  \n",
       "8               냉동,동체     0.79  2015    12  2015/12  103.0   93   0.849462  \n",
       "62              냉동,동체     1.15  2016    01  2016/01  103.0   97   1.185567  \n",
       "84         냉동,슬라이스(S)     1.75  2016    01  2016/01  103.0   97   1.804124  \n",
       "89              냉동,동체     0.76  2016    01  2016/01  103.0   97   0.783505  \n",
       "139   냉동,슬라이스(S),포장횟감    10.15  2016    02  2016/02  105.0   96  10.572917  \n",
       "...               ...      ...   ...   ...      ...    ...  ...        ...  \n",
       "6084               냉동     3.41  2019    12  2019/12   89.0  114   2.991228  \n",
       "6089         냉동,동체,자숙     2.93  2019    12  2019/12   89.0  114   2.570175  \n",
       "6107            냉동,동체     3.91  2019    12  2019/12   89.0  114   3.429825  \n",
       "6088            냉동,다리     1.86  2019    12  2019/12   89.0  114   1.631579  \n",
       "6119               냉동     4.11  2019    12  2019/12   89.0  114   3.605263  \n",
       "\n",
       "[539 rows x 16 columns]"
      ]
     },
     "execution_count": 93,
     "metadata": {},
     "output_type": "execute_result"
    }
   ],
   "source": [
    "market_squid_c"
   ]
  },
  {
   "cell_type": "code",
   "execution_count": 94,
   "id": "adfee7b2",
   "metadata": {},
   "outputs": [
    {
     "data": {
      "text/plain": [
       "2.8693506493506504"
      ]
     },
     "execution_count": 94,
     "metadata": {},
     "output_type": "execute_result"
    }
   ],
   "source": [
    "np.mean(market_squid_c['P_PRICE']) "
   ]
  },
  {
   "cell_type": "code",
   "execution_count": 95,
   "id": "7b68ab47",
   "metadata": {
    "scrolled": false
   },
   "outputs": [
    {
     "data": {
      "text/html": [
       "<div>\n",
       "<style scoped>\n",
       "    .dataframe tbody tr th:only-of-type {\n",
       "        vertical-align: middle;\n",
       "    }\n",
       "\n",
       "    .dataframe tbody tr th {\n",
       "        vertical-align: top;\n",
       "    }\n",
       "\n",
       "    .dataframe thead th {\n",
       "        text-align: right;\n",
       "    }\n",
       "</style>\n",
       "<table border=\"1\" class=\"dataframe\">\n",
       "  <thead>\n",
       "    <tr style=\"text-align: right;\">\n",
       "      <th></th>\n",
       "      <th>P_PRICE</th>\n",
       "      <th>org_price</th>\n",
       "    </tr>\n",
       "  </thead>\n",
       "  <tbody>\n",
       "    <tr>\n",
       "      <th>10</th>\n",
       "      <td>8.28</td>\n",
       "      <td>8.903226</td>\n",
       "    </tr>\n",
       "    <tr>\n",
       "      <th>46</th>\n",
       "      <td>8.50</td>\n",
       "      <td>8.762887</td>\n",
       "    </tr>\n",
       "    <tr>\n",
       "      <th>74</th>\n",
       "      <td>8.09</td>\n",
       "      <td>8.340206</td>\n",
       "    </tr>\n",
       "    <tr>\n",
       "      <th>99</th>\n",
       "      <td>8.15</td>\n",
       "      <td>8.402062</td>\n",
       "    </tr>\n",
       "    <tr>\n",
       "      <th>130</th>\n",
       "      <td>8.05</td>\n",
       "      <td>8.298969</td>\n",
       "    </tr>\n",
       "    <tr>\n",
       "      <th>...</th>\n",
       "      <td>...</td>\n",
       "      <td>...</td>\n",
       "    </tr>\n",
       "    <tr>\n",
       "      <th>5979</th>\n",
       "      <td>6.57</td>\n",
       "      <td>5.763158</td>\n",
       "    </tr>\n",
       "    <tr>\n",
       "      <th>6010</th>\n",
       "      <td>6.46</td>\n",
       "      <td>5.666667</td>\n",
       "    </tr>\n",
       "    <tr>\n",
       "      <th>6042</th>\n",
       "      <td>6.96</td>\n",
       "      <td>6.105263</td>\n",
       "    </tr>\n",
       "    <tr>\n",
       "      <th>6069</th>\n",
       "      <td>6.65</td>\n",
       "      <td>5.833333</td>\n",
       "    </tr>\n",
       "    <tr>\n",
       "      <th>6110</th>\n",
       "      <td>6.74</td>\n",
       "      <td>5.912281</td>\n",
       "    </tr>\n",
       "  </tbody>\n",
       "</table>\n",
       "<p>198 rows × 2 columns</p>\n",
       "</div>"
      ],
      "text/plain": [
       "      P_PRICE  org_price\n",
       "10       8.28   8.903226\n",
       "46       8.50   8.762887\n",
       "74       8.09   8.340206\n",
       "99       8.15   8.402062\n",
       "130      8.05   8.298969\n",
       "...       ...        ...\n",
       "5979     6.57   5.763158\n",
       "6010     6.46   5.666667\n",
       "6042     6.96   6.105263\n",
       "6069     6.65   5.833333\n",
       "6110     6.74   5.912281\n",
       "\n",
       "[198 rows x 2 columns]"
      ]
     },
     "execution_count": 95,
     "metadata": {},
     "output_type": "execute_result"
    }
   ],
   "source": [
    "# 흰다리 새우 \n",
    "market_shrimp\n",
    "market_shrimp_b = market_shrimp[market_shrimp['CTRY_2'] == '베트남']  # 베트남 \n",
    "market_shrimp_e = market_shrimp[market_shrimp['CTRY_2'] == '에콰도르']  # 중복 x \n",
    "market_shrimp_t = market_shrimp[market_shrimp['CTRY_2'] == '태국']\n",
    "market_shrimp_chi = market_shrimp[market_shrimp['CTRY_2'] == '중국']\n",
    "market_shrimp_m = market_shrimp[market_shrimp['CTRY_2']== '말레이시아']\n",
    "market_shrimp_i =market_shrimp[market_shrimp['CTRY_2'] == '인도']\n",
    "shrimp_b = market_shrimp_b.groupby('REG_DATE').mean()  # 베트남 \n",
    "shrimp_t = market_shrimp_t.groupby('REG_DATE').mean() # 태국\n",
    "shrimp_c = market_shrimp_chi.groupby('REG_DATE').mean()# 중국\n",
    "shrimp_m = market_shrimp_m.groupby('REG_DATE').mean()  # 말레이시아\n",
    "shrimp_i = market_shrimp.groupby('REG_DATE').mean()  # 인도\n",
    "market_shrimp_e[['P_PRICE','org_price']]  # 에콰도르"
   ]
  },
  {
   "cell_type": "code",
   "execution_count": 21,
   "id": "db8d945b",
   "metadata": {},
   "outputs": [
    {
     "ename": "NameError",
     "evalue": "name 'market_salmon_n' is not defined",
     "output_type": "error",
     "traceback": [
      "\u001b[1;31m---------------------------------------------------------------------------\u001b[0m",
      "\u001b[1;31mNameError\u001b[0m                                 Traceback (most recent call last)",
      "\u001b[1;32m~\\AppData\\Local\\Temp/ipykernel_29764/2565592771.py\u001b[0m in \u001b[0;36m<module>\u001b[1;34m\u001b[0m\n\u001b[0;32m      1\u001b[0m \u001b[1;31m#연어\u001b[0m\u001b[1;33m\u001b[0m\u001b[1;33m\u001b[0m\u001b[0m\n\u001b[1;32m----> 2\u001b[1;33m \u001b[0msalmon_n\u001b[0m \u001b[1;33m=\u001b[0m \u001b[0mmarket_salmon_n\u001b[0m\u001b[1;33m.\u001b[0m\u001b[0mgroupby\u001b[0m\u001b[1;33m(\u001b[0m\u001b[1;34m'REG_DATE'\u001b[0m\u001b[1;33m)\u001b[0m\u001b[1;33m.\u001b[0m\u001b[0mmean\u001b[0m\u001b[1;33m(\u001b[0m\u001b[1;33m)\u001b[0m \u001b[1;31m# 노르웨이\u001b[0m\u001b[1;33m\u001b[0m\u001b[1;33m\u001b[0m\u001b[0m\n\u001b[0m\u001b[0;32m      3\u001b[0m \u001b[0mmarket_salmon_b\u001b[0m \u001b[1;33m=\u001b[0m \u001b[0mmarket_salmon\u001b[0m\u001b[1;33m[\u001b[0m\u001b[0mmarket_salmon\u001b[0m\u001b[1;33m[\u001b[0m\u001b[1;34m'CTRY_2'\u001b[0m\u001b[1;33m]\u001b[0m\u001b[1;33m==\u001b[0m \u001b[1;34m'영국'\u001b[0m\u001b[1;33m]\u001b[0m\u001b[1;33m\u001b[0m\u001b[1;33m\u001b[0m\u001b[0m\n\u001b[0;32m      4\u001b[0m \u001b[0msalmon_b\u001b[0m \u001b[1;33m=\u001b[0m \u001b[0mmarket_salmon_b\u001b[0m\u001b[1;33m.\u001b[0m\u001b[0mgroupby\u001b[0m\u001b[1;33m(\u001b[0m\u001b[1;34m'REG_DATE'\u001b[0m\u001b[1;33m)\u001b[0m\u001b[1;33m.\u001b[0m\u001b[0mmean\u001b[0m\u001b[1;33m(\u001b[0m\u001b[1;33m)\u001b[0m\u001b[1;33m\u001b[0m\u001b[1;33m\u001b[0m\u001b[0m\n",
      "\u001b[1;31mNameError\u001b[0m: name 'market_salmon_n' is not defined"
     ]
    }
   ],
   "source": [
    "#연어 \n",
    "salmon_n = market_salmon_n.groupby('REG_DATE').mean() # 노르웨이 \n",
    "market_salmon_b = market_salmon[market_salmon['CTRY_2']== '영국']\n",
    "salmon_b = market_salmon_b.groupby('REG_DATE').mean()"
   ]
  },
  {
   "cell_type": "code",
   "execution_count": 22,
   "id": "3cc26b6f",
   "metadata": {},
   "outputs": [
    {
     "ename": "NameError",
     "evalue": "name 'salmon_b' is not defined",
     "output_type": "error",
     "traceback": [
      "\u001b[1;31m---------------------------------------------------------------------------\u001b[0m",
      "\u001b[1;31mNameError\u001b[0m                                 Traceback (most recent call last)",
      "\u001b[1;32m~\\AppData\\Local\\Temp/ipykernel_29764/230153503.py\u001b[0m in \u001b[0;36m<module>\u001b[1;34m\u001b[0m\n\u001b[1;32m----> 1\u001b[1;33m \u001b[0msalmon_b\u001b[0m\u001b[1;33m\u001b[0m\u001b[1;33m\u001b[0m\u001b[0m\n\u001b[0m",
      "\u001b[1;31mNameError\u001b[0m: name 'salmon_b' is not defined"
     ]
    }
   ],
   "source": [
    "salmon_b"
   ]
  },
  {
   "cell_type": "code",
   "execution_count": 23,
   "id": "25ba97fc",
   "metadata": {},
   "outputs": [
    {
     "ename": "NameError",
     "evalue": "name 'squid_c' is not defined",
     "output_type": "error",
     "traceback": [
      "\u001b[1;31m---------------------------------------------------------------------------\u001b[0m",
      "\u001b[1;31mNameError\u001b[0m                                 Traceback (most recent call last)",
      "\u001b[1;32m~\\AppData\\Local\\Temp/ipykernel_29764/763499632.py\u001b[0m in \u001b[0;36m<module>\u001b[1;34m\u001b[0m\n\u001b[1;32m----> 1\u001b[1;33m \u001b[0mlog_squid_c\u001b[0m \u001b[1;33m=\u001b[0m \u001b[0mnp\u001b[0m\u001b[1;33m.\u001b[0m\u001b[0mlog\u001b[0m\u001b[1;33m(\u001b[0m\u001b[0msquid_c\u001b[0m\u001b[1;33m)\u001b[0m \u001b[1;31m# 중국\u001b[0m\u001b[1;33m\u001b[0m\u001b[1;33m\u001b[0m\u001b[0m\n\u001b[0m\u001b[0;32m      2\u001b[0m \u001b[0mlog_squid_r\u001b[0m \u001b[1;33m=\u001b[0m \u001b[0mnp\u001b[0m\u001b[1;33m.\u001b[0m\u001b[0mlog\u001b[0m\u001b[1;33m(\u001b[0m\u001b[0msquid_r\u001b[0m\u001b[1;33m)\u001b[0m \u001b[1;31m# 칠레\u001b[0m\u001b[1;33m\u001b[0m\u001b[1;33m\u001b[0m\u001b[0m\n\u001b[0;32m      3\u001b[0m \u001b[0mlog_squid_p\u001b[0m \u001b[1;33m=\u001b[0m \u001b[0mnp\u001b[0m\u001b[1;33m.\u001b[0m\u001b[0mlog\u001b[0m\u001b[1;33m(\u001b[0m\u001b[0msquid_p\u001b[0m\u001b[1;33m)\u001b[0m \u001b[1;31m# 페루\u001b[0m\u001b[1;33m\u001b[0m\u001b[1;33m\u001b[0m\u001b[0m\n",
      "\u001b[1;31mNameError\u001b[0m: name 'squid_c' is not defined"
     ]
    }
   ],
   "source": [
    "log_squid_c = np.log(squid_c) # 중국\n",
    "log_squid_r = np.log(squid_r) # 칠레\n",
    "log_squid_p = np.log(squid_p) # 페루"
   ]
  },
  {
   "cell_type": "code",
   "execution_count": 99,
   "id": "7963b3f7",
   "metadata": {},
   "outputs": [],
   "source": [
    "from statsmodels.graphics.tsaplots import plot_acf"
   ]
  },
  {
   "cell_type": "markdown",
   "id": "de6baa0f",
   "metadata": {},
   "source": [
    "# ACF "
   ]
  },
  {
   "cell_type": "code",
   "execution_count": 100,
   "id": "f7ff7544",
   "metadata": {
    "scrolled": true
   },
   "outputs": [
    {
     "name": "stderr",
     "output_type": "stream",
     "text": [
      "C:\\Users\\kio02\\anaconda3\\lib\\site-packages\\IPython\\core\\pylabtools.py:151: UserWarning: Glyph 8722 (\\N{MINUS SIGN}) missing from current font.\n",
      "  fig.canvas.print_figure(bytes_io, **kw)\n"
     ]
    },
    {
     "data": {
      "image/png": "[encoded data removed]",
      "text/plain": [
       "<Figure size 1440x360 with 1 Axes>"
      ]
     },
     "execution_count": 100,
     "metadata": {},
     "output_type": "execute_result"
    },
    {
     "data": {
      "image/png": "[encoded data removed]",
      "text/plain": [
       "<Figure size 1440x360 with 1 Axes>"
      ]
     },
     "metadata": {
      "needs_background": "light"
     },
     "output_type": "display_data"
    }
   ],
   "source": [
    "squid_c_diff=log_squid_c['org_price'].diff().dropna()# 오징어 중국\n",
    "\n",
    "plot_acf(squid_c_diff)"
   ]
  },
  {
   "cell_type": "code",
   "execution_count": 101,
   "id": "7b6d3480",
   "metadata": {},
   "outputs": [
    {
     "name": "stderr",
     "output_type": "stream",
     "text": [
      "C:\\Users\\kio02\\anaconda3\\lib\\site-packages\\IPython\\core\\pylabtools.py:151: UserWarning: Glyph 8722 (\\N{MINUS SIGN}) missing from current font.\n",
      "  fig.canvas.print_figure(bytes_io, **kw)\n"
     ]
    },
    {
     "data": {
      "image/png": "[encoded data removed]",
      "text/plain": [
       "<Figure size 1440x360 with 1 Axes>"
      ]
     },
     "execution_count": 101,
     "metadata": {},
     "output_type": "execute_result"
    },
    {
     "data": {
      "image/png": "[encoded data removed]",
      "text/plain": [
       "<Figure size 1440x360 with 1 Axes>"
      ]
     },
     "metadata": {
      "needs_background": "light"
     },
     "output_type": "display_data"
    }
   ],
   "source": [
    "log_squid_r=log_squid_r['org_price'].diff().dropna() # 오징이 칠레\n",
    "plot_acf(log_squid_r)"
   ]
  },
  {
   "cell_type": "code",
   "execution_count": 102,
   "id": "b107ab4a",
   "metadata": {},
   "outputs": [
    {
     "name": "stderr",
     "output_type": "stream",
     "text": [
      "C:\\Users\\kio02\\anaconda3\\lib\\site-packages\\IPython\\core\\pylabtools.py:151: UserWarning: Glyph 8722 (\\N{MINUS SIGN}) missing from current font.\n",
      "  fig.canvas.print_figure(bytes_io, **kw)\n"
     ]
    },
    {
     "data": {
      "image/png": "[encoded data removed]",
      "text/plain": [
       "<Figure size 1440x360 with 1 Axes>"
      ]
     },
     "execution_count": 102,
     "metadata": {},
     "output_type": "execute_result"
    },
    {
     "data": {
      "image/png": "[encoded data removed]",
      "text/plain": [
       "<Figure size 1440x360 with 1 Axes>"
      ]
     },
     "metadata": {
      "needs_background": "light"
     },
     "output_type": "display_data"
    }
   ],
   "source": [
    "squid_p_diff = log_squid_p['org_price'].diff(1)  # 오징어 페루\n",
    "\n",
    "squid_p_diff = squid_p_diff.drop(squid_p_diff.index[0])\n",
    "plot_acf(squid_p_diff)"
   ]
  },
  {
   "cell_type": "code",
   "execution_count": 105,
   "id": "bd994404",
   "metadata": {},
   "outputs": [],
   "source": [
    "from statsmodels.tsa.arima_model import ARIMA\n",
    "from sklearn.model_selection import train_test_split\n",
    "from sklearn.metrics import mean_squared_error\n",
    "from pmdarima.arima import auto_arima"
   ]
  },
  {
   "cell_type": "markdown",
   "id": "4b2481d1",
   "metadata": {},
   "source": [
    "# ARIMA"
   ]
  },
  {
   "cell_type": "code",
   "execution_count": 106,
   "id": "86535cab",
   "metadata": {},
   "outputs": [
    {
     "ename": "NotImplementedError",
     "evalue": "\nstatsmodels.tsa.arima_model.ARMA and statsmodels.tsa.arima_model.ARIMA have\nbeen removed in favor of statsmodels.tsa.arima.model.ARIMA (note the .\nbetween arima and model) and statsmodels.tsa.SARIMAX.\n\nstatsmodels.tsa.arima.model.ARIMA makes use of the statespace framework and\nis both well tested and maintained. It also offers alternative specialized\nparameter estimators.\n",
     "output_type": "error",
     "traceback": [
      "\u001b[1;31m---------------------------------------------------------------------------\u001b[0m",
      "\u001b[1;31mNotImplementedError\u001b[0m                       Traceback (most recent call last)",
      "\u001b[1;32m~\\AppData\\Local\\Temp/ipykernel_27320/1102363114.py\u001b[0m in \u001b[0;36m<module>\u001b[1;34m\u001b[0m\n\u001b[1;32m----> 1\u001b[1;33m \u001b[0mmodel\u001b[0m \u001b[1;33m=\u001b[0m \u001b[0mARIMA\u001b[0m\u001b[1;33m(\u001b[0m\u001b[0msquid_p_diff\u001b[0m\u001b[1;33m.\u001b[0m\u001b[0mvalues\u001b[0m\u001b[1;33m,\u001b[0m\u001b[0morder\u001b[0m \u001b[1;33m=\u001b[0m \u001b[1;33m(\u001b[0m\u001b[1;36m2\u001b[0m\u001b[1;33m,\u001b[0m\u001b[1;36m0\u001b[0m\u001b[1;33m,\u001b[0m\u001b[1;36m2\u001b[0m\u001b[1;33m)\u001b[0m\u001b[1;33m)\u001b[0m\u001b[1;33m\u001b[0m\u001b[1;33m\u001b[0m\u001b[0m\n\u001b[0m\u001b[0;32m      2\u001b[0m \u001b[0mmodel_fit\u001b[0m \u001b[1;33m=\u001b[0m \u001b[0mmodel\u001b[0m\u001b[1;33m.\u001b[0m\u001b[0mfit\u001b[0m\u001b[1;33m(\u001b[0m\u001b[0mtrend\u001b[0m \u001b[1;33m=\u001b[0m \u001b[1;34m'nc'\u001b[0m \u001b[1;33m,\u001b[0m \u001b[0mfull_output\u001b[0m \u001b[1;33m=\u001b[0m \u001b[1;32mTrue\u001b[0m \u001b[1;33m,\u001b[0m\u001b[0mdisp\u001b[0m \u001b[1;33m=\u001b[0m \u001b[1;36m1\u001b[0m\u001b[1;33m)\u001b[0m\u001b[1;33m\u001b[0m\u001b[1;33m\u001b[0m\u001b[0m\n\u001b[0;32m      3\u001b[0m \u001b[0mmodel_fit\u001b[0m\u001b[1;33m.\u001b[0m\u001b[0msummary\u001b[0m\u001b[1;33m(\u001b[0m\u001b[1;33m)\u001b[0m\u001b[1;33m\u001b[0m\u001b[1;33m\u001b[0m\u001b[0m\n",
      "\u001b[1;32m~\\anaconda3\\lib\\site-packages\\statsmodels\\tsa\\arima_model.py\u001b[0m in \u001b[0;36m__init__\u001b[1;34m(self, *args, **kwargs)\u001b[0m\n\u001b[0;32m     43\u001b[0m \u001b[1;33m\u001b[0m\u001b[0m\n\u001b[0;32m     44\u001b[0m     \u001b[1;32mdef\u001b[0m \u001b[0m__init__\u001b[0m\u001b[1;33m(\u001b[0m\u001b[0mself\u001b[0m\u001b[1;33m,\u001b[0m \u001b[1;33m*\u001b[0m\u001b[0margs\u001b[0m\u001b[1;33m,\u001b[0m \u001b[1;33m**\u001b[0m\u001b[0mkwargs\u001b[0m\u001b[1;33m)\u001b[0m\u001b[1;33m:\u001b[0m\u001b[1;33m\u001b[0m\u001b[1;33m\u001b[0m\u001b[0m\n\u001b[1;32m---> 45\u001b[1;33m         \u001b[0msuper\u001b[0m\u001b[1;33m(\u001b[0m\u001b[1;33m)\u001b[0m\u001b[1;33m.\u001b[0m\u001b[0m__init__\u001b[0m\u001b[1;33m(\u001b[0m\u001b[1;33m*\u001b[0m\u001b[0margs\u001b[0m\u001b[1;33m,\u001b[0m \u001b[1;33m**\u001b[0m\u001b[0mkwargs\u001b[0m\u001b[1;33m)\u001b[0m\u001b[1;33m\u001b[0m\u001b[1;33m\u001b[0m\u001b[0m\n\u001b[0m\u001b[0;32m     46\u001b[0m \u001b[1;33m\u001b[0m\u001b[0m\n\u001b[0;32m     47\u001b[0m \u001b[1;33m\u001b[0m\u001b[0m\n",
      "\u001b[1;32m~\\anaconda3\\lib\\site-packages\\statsmodels\\tsa\\arima_model.py\u001b[0m in \u001b[0;36m__init__\u001b[1;34m(self, *args, **kwargs)\u001b[0m\n\u001b[0;32m     27\u001b[0m \u001b[1;33m\u001b[0m\u001b[0m\n\u001b[0;32m     28\u001b[0m     \u001b[1;32mdef\u001b[0m \u001b[0m__init__\u001b[0m\u001b[1;33m(\u001b[0m\u001b[0mself\u001b[0m\u001b[1;33m,\u001b[0m \u001b[1;33m*\u001b[0m\u001b[0margs\u001b[0m\u001b[1;33m,\u001b[0m \u001b[1;33m**\u001b[0m\u001b[0mkwargs\u001b[0m\u001b[1;33m)\u001b[0m\u001b[1;33m:\u001b[0m\u001b[1;33m\u001b[0m\u001b[1;33m\u001b[0m\u001b[0m\n\u001b[1;32m---> 29\u001b[1;33m         \u001b[1;32mraise\u001b[0m \u001b[0mNotImplementedError\u001b[0m\u001b[1;33m(\u001b[0m\u001b[0mARIMA_DEPRECATION_ERROR\u001b[0m\u001b[1;33m)\u001b[0m\u001b[1;33m\u001b[0m\u001b[1;33m\u001b[0m\u001b[0m\n\u001b[0m\u001b[0;32m     30\u001b[0m \u001b[1;33m\u001b[0m\u001b[0m\n\u001b[0;32m     31\u001b[0m \u001b[1;33m\u001b[0m\u001b[0m\n",
      "\u001b[1;31mNotImplementedError\u001b[0m: \nstatsmodels.tsa.arima_model.ARMA and statsmodels.tsa.arima_model.ARIMA have\nbeen removed in favor of statsmodels.tsa.arima.model.ARIMA (note the .\nbetween arima and model) and statsmodels.tsa.SARIMAX.\n\nstatsmodels.tsa.arima.model.ARIMA makes use of the statespace framework and\nis both well tested and maintained. It also offers alternative specialized\nparameter estimators.\n"
     ]
    }
   ],
   "source": [
    "model = ARIMA(squid_p_diff.values,order = (2,0,2))\n",
    "model_fit = model.fit(trend = 'nc' , full_output = True ,disp = 1)\n",
    "model_fit.summary()"
   ]
  },
  {
   "cell_type": "code",
   "execution_count": 107,
   "id": "4c4fa6dc",
   "metadata": {},
   "outputs": [],
   "source": [
    "X =log_squid_r.values\n",
    "size = int(len(X) * 0.7)\n",
    "train, test = X[0:size], X[size:len(X)]"
   ]
  },
  {
   "cell_type": "code",
   "execution_count": 108,
   "id": "ce9e63cb",
   "metadata": {},
   "outputs": [
    {
     "name": "stdout",
     "output_type": "stream",
     "text": [
      " ARIMA(0,0,0)(0,0,0)[0]             : AIC=-64.871, Time=1.36 sec\n",
      " ARIMA(0,0,1)(0,0,0)[0]             : AIC=-109.853, Time=0.09 sec\n",
      " ARIMA(0,0,2)(0,0,0)[0]             : AIC=-108.107, Time=0.05 sec\n",
      " ARIMA(0,0,3)(0,0,0)[0]             : AIC=-107.338, Time=0.05 sec\n",
      " ARIMA(1,0,0)(0,0,0)[0]             : AIC=-85.711, Time=0.02 sec\n",
      " ARIMA(1,0,1)(0,0,0)[0]             : AIC=-108.044, Time=0.04 sec\n",
      " ARIMA(1,0,2)(0,0,0)[0]             : AIC=-107.178, Time=0.14 sec\n",
      " ARIMA(1,0,3)(0,0,0)[0]             : AIC=-105.711, Time=0.12 sec\n",
      " ARIMA(2,0,0)(0,0,0)[0]             : AIC=-102.863, Time=0.27 sec\n",
      " ARIMA(2,0,1)(0,0,0)[0]             : AIC=-107.191, Time=0.04 sec\n",
      " ARIMA(2,0,2)(0,0,0)[0]             : AIC=-105.833, Time=1.50 sec\n",
      " ARIMA(2,0,3)(0,0,0)[0]             : AIC=-106.420, Time=0.25 sec\n",
      " ARIMA(3,0,0)(0,0,0)[0]             : AIC=-103.546, Time=0.04 sec\n",
      " ARIMA(3,0,1)(0,0,0)[0]             : AIC=-105.920, Time=0.06 sec\n",
      " ARIMA(3,0,2)(0,0,0)[0]             : AIC=-103.996, Time=0.14 sec\n",
      "\n",
      "Best model:  ARIMA(0,0,1)(0,0,0)[0]          \n",
      "Total fit time: 6.081 seconds\n"
     ]
    },
    {
     "data": {
      "text/plain": [
       "ARIMA(order=(0, 0, 1), scoring_args={}, suppress_warnings=True,\n",
       "      with_intercept=False)"
      ]
     },
     "execution_count": 108,
     "metadata": {},
     "output_type": "execute_result"
    }
   ],
   "source": [
    "model_arima= auto_arima(train,trace=True, error_action='ignore', start_p=1,start_q=1,max_p=3,max_q=3,suppress_warnings=True,stepwise=False,seasonal=False)\n",
    "model_arima.fit(train)"
   ]
  },
  {
   "cell_type": "code",
   "execution_count": 109,
   "id": "7f90680d",
   "metadata": {},
   "outputs": [
    {
     "ename": "NotImplementedError",
     "evalue": "\nstatsmodels.tsa.arima_model.ARMA and statsmodels.tsa.arima_model.ARIMA have\nbeen removed in favor of statsmodels.tsa.arima.model.ARIMA (note the .\nbetween arima and model) and statsmodels.tsa.SARIMAX.\n\nstatsmodels.tsa.arima.model.ARIMA makes use of the statespace framework and\nis both well tested and maintained. It also offers alternative specialized\nparameter estimators.\n",
     "output_type": "error",
     "traceback": [
      "\u001b[1;31m---------------------------------------------------------------------------\u001b[0m",
      "\u001b[1;31mNotImplementedError\u001b[0m                       Traceback (most recent call last)",
      "\u001b[1;32m~\\AppData\\Local\\Temp/ipykernel_27320/139922914.py\u001b[0m in \u001b[0;36m<module>\u001b[1;34m\u001b[0m\n\u001b[0;32m      2\u001b[0m \u001b[0mpredictions\u001b[0m \u001b[1;33m=\u001b[0m \u001b[0mlist\u001b[0m\u001b[1;33m(\u001b[0m\u001b[1;33m)\u001b[0m\u001b[1;33m\u001b[0m\u001b[1;33m\u001b[0m\u001b[0m\n\u001b[0;32m      3\u001b[0m \u001b[1;32mfor\u001b[0m \u001b[0mt\u001b[0m \u001b[1;32min\u001b[0m \u001b[0mrange\u001b[0m\u001b[1;33m(\u001b[0m\u001b[0mlen\u001b[0m\u001b[1;33m(\u001b[0m\u001b[0mtest\u001b[0m\u001b[1;33m)\u001b[0m\u001b[1;33m)\u001b[0m\u001b[1;33m:\u001b[0m\u001b[1;33m\u001b[0m\u001b[1;33m\u001b[0m\u001b[0m\n\u001b[1;32m----> 4\u001b[1;33m     \u001b[0mmodel\u001b[0m \u001b[1;33m=\u001b[0m \u001b[0mARIMA\u001b[0m\u001b[1;33m(\u001b[0m\u001b[0mhistory\u001b[0m\u001b[1;33m,\u001b[0m \u001b[0morder\u001b[0m\u001b[1;33m=\u001b[0m\u001b[1;33m(\u001b[0m\u001b[1;36m1\u001b[0m\u001b[1;33m,\u001b[0m\u001b[1;36m0\u001b[0m\u001b[1;33m,\u001b[0m\u001b[1;36m0\u001b[0m\u001b[1;33m)\u001b[0m\u001b[1;33m)\u001b[0m\u001b[1;33m\u001b[0m\u001b[1;33m\u001b[0m\u001b[0m\n\u001b[0m\u001b[0;32m      5\u001b[0m     \u001b[0mmodel_fit\u001b[0m \u001b[1;33m=\u001b[0m \u001b[0mmodel\u001b[0m\u001b[1;33m.\u001b[0m\u001b[0mfit\u001b[0m\u001b[1;33m(\u001b[0m\u001b[1;33m)\u001b[0m\u001b[1;33m\u001b[0m\u001b[1;33m\u001b[0m\u001b[0m\n\u001b[0;32m      6\u001b[0m     \u001b[0moutput\u001b[0m \u001b[1;33m=\u001b[0m \u001b[0mmodel_fit\u001b[0m\u001b[1;33m.\u001b[0m\u001b[0mforecast\u001b[0m\u001b[1;33m(\u001b[0m\u001b[1;33m)\u001b[0m\u001b[1;33m\u001b[0m\u001b[1;33m\u001b[0m\u001b[0m\n",
      "\u001b[1;32m~\\anaconda3\\lib\\site-packages\\statsmodels\\tsa\\arima_model.py\u001b[0m in \u001b[0;36m__init__\u001b[1;34m(self, *args, **kwargs)\u001b[0m\n\u001b[0;32m     43\u001b[0m \u001b[1;33m\u001b[0m\u001b[0m\n\u001b[0;32m     44\u001b[0m     \u001b[1;32mdef\u001b[0m \u001b[0m__init__\u001b[0m\u001b[1;33m(\u001b[0m\u001b[0mself\u001b[0m\u001b[1;33m,\u001b[0m \u001b[1;33m*\u001b[0m\u001b[0margs\u001b[0m\u001b[1;33m,\u001b[0m \u001b[1;33m**\u001b[0m\u001b[0mkwargs\u001b[0m\u001b[1;33m)\u001b[0m\u001b[1;33m:\u001b[0m\u001b[1;33m\u001b[0m\u001b[1;33m\u001b[0m\u001b[0m\n\u001b[1;32m---> 45\u001b[1;33m         \u001b[0msuper\u001b[0m\u001b[1;33m(\u001b[0m\u001b[1;33m)\u001b[0m\u001b[1;33m.\u001b[0m\u001b[0m__init__\u001b[0m\u001b[1;33m(\u001b[0m\u001b[1;33m*\u001b[0m\u001b[0margs\u001b[0m\u001b[1;33m,\u001b[0m \u001b[1;33m**\u001b[0m\u001b[0mkwargs\u001b[0m\u001b[1;33m)\u001b[0m\u001b[1;33m\u001b[0m\u001b[1;33m\u001b[0m\u001b[0m\n\u001b[0m\u001b[0;32m     46\u001b[0m \u001b[1;33m\u001b[0m\u001b[0m\n\u001b[0;32m     47\u001b[0m \u001b[1;33m\u001b[0m\u001b[0m\n",
      "\u001b[1;32m~\\anaconda3\\lib\\site-packages\\statsmodels\\tsa\\arima_model.py\u001b[0m in \u001b[0;36m__init__\u001b[1;34m(self, *args, **kwargs)\u001b[0m\n\u001b[0;32m     27\u001b[0m \u001b[1;33m\u001b[0m\u001b[0m\n\u001b[0;32m     28\u001b[0m     \u001b[1;32mdef\u001b[0m \u001b[0m__init__\u001b[0m\u001b[1;33m(\u001b[0m\u001b[0mself\u001b[0m\u001b[1;33m,\u001b[0m \u001b[1;33m*\u001b[0m\u001b[0margs\u001b[0m\u001b[1;33m,\u001b[0m \u001b[1;33m**\u001b[0m\u001b[0mkwargs\u001b[0m\u001b[1;33m)\u001b[0m\u001b[1;33m:\u001b[0m\u001b[1;33m\u001b[0m\u001b[1;33m\u001b[0m\u001b[0m\n\u001b[1;32m---> 29\u001b[1;33m         \u001b[1;32mraise\u001b[0m \u001b[0mNotImplementedError\u001b[0m\u001b[1;33m(\u001b[0m\u001b[0mARIMA_DEPRECATION_ERROR\u001b[0m\u001b[1;33m)\u001b[0m\u001b[1;33m\u001b[0m\u001b[1;33m\u001b[0m\u001b[0m\n\u001b[0m\u001b[0;32m     30\u001b[0m \u001b[1;33m\u001b[0m\u001b[0m\n\u001b[0;32m     31\u001b[0m \u001b[1;33m\u001b[0m\u001b[0m\n",
      "\u001b[1;31mNotImplementedError\u001b[0m: \nstatsmodels.tsa.arima_model.ARMA and statsmodels.tsa.arima_model.ARIMA have\nbeen removed in favor of statsmodels.tsa.arima.model.ARIMA (note the .\nbetween arima and model) and statsmodels.tsa.SARIMAX.\n\nstatsmodels.tsa.arima.model.ARIMA makes use of the statespace framework and\nis both well tested and maintained. It also offers alternative specialized\nparameter estimators.\n"
     ]
    }
   ],
   "source": [
    "history = [x for x in train]\n",
    "predictions = list()\n",
    "for t in range(len(test)):\n",
    "    model = ARIMA(history, order=(1,0,0))\n",
    "    model_fit = model.fit()\n",
    "    output = model_fit.forecast()\n",
    "    yhat = output[0]\n",
    "    predictions.append(yhat)\n",
    "    obs = test[t]\n",
    "    history.append(obs)\n",
    "rmse = np.sqrt(mean_squared_error(test, predictions))\n"
   ]
  },
  {
   "cell_type": "code",
   "execution_count": 110,
   "id": "e0c6bf8c",
   "metadata": {},
   "outputs": [
    {
     "ename": "NameError",
     "evalue": "name 'rmse' is not defined",
     "output_type": "error",
     "traceback": [
      "\u001b[1;31m---------------------------------------------------------------------------\u001b[0m",
      "\u001b[1;31mNameError\u001b[0m                                 Traceback (most recent call last)",
      "\u001b[1;32m~\\AppData\\Local\\Temp/ipykernel_27320/1253919622.py\u001b[0m in \u001b[0;36m<module>\u001b[1;34m\u001b[0m\n\u001b[1;32m----> 1\u001b[1;33m \u001b[0mprint\u001b[0m\u001b[1;33m(\u001b[0m\u001b[0mrmse\u001b[0m\u001b[1;33m)\u001b[0m\u001b[1;33m\u001b[0m\u001b[1;33m\u001b[0m\u001b[0m\n\u001b[0m\u001b[0;32m      2\u001b[0m \u001b[0mplt\u001b[0m\u001b[1;33m.\u001b[0m\u001b[0mplot\u001b[0m\u001b[1;33m(\u001b[0m\u001b[0mtest\u001b[0m\u001b[1;33m)\u001b[0m\u001b[1;33m\u001b[0m\u001b[1;33m\u001b[0m\u001b[0m\n\u001b[0;32m      3\u001b[0m \u001b[0mplt\u001b[0m\u001b[1;33m.\u001b[0m\u001b[0mplot\u001b[0m\u001b[1;33m(\u001b[0m\u001b[0mpredictions\u001b[0m\u001b[1;33m,\u001b[0m \u001b[0mcolor\u001b[0m\u001b[1;33m=\u001b[0m\u001b[1;34m'red'\u001b[0m\u001b[1;33m)\u001b[0m\u001b[1;33m\u001b[0m\u001b[1;33m\u001b[0m\u001b[0m\n\u001b[0;32m      4\u001b[0m \u001b[0mplt\u001b[0m\u001b[1;33m.\u001b[0m\u001b[0mshow\u001b[0m\u001b[1;33m(\u001b[0m\u001b[1;33m)\u001b[0m\u001b[1;33m\u001b[0m\u001b[1;33m\u001b[0m\u001b[0m\n",
      "\u001b[1;31mNameError\u001b[0m: name 'rmse' is not defined"
     ]
    }
   ],
   "source": [
    "print(rmse)\n",
    "plt.plot(test)\n",
    "plt.plot(predictions, color='red')\n",
    "plt.show()"
   ]
  },
  {
   "cell_type": "code",
   "execution_count": 111,
   "id": "8f61b781",
   "metadata": {},
   "outputs": [],
   "source": [
    "log_shrimp_b = np.log(shrimp_b['org_price'])\n",
    "log_shrimp_t = np.log(shrimp_t['org_price'])\n",
    "log_shrimp_c = np.log(shrimp_c['org_price'])\n",
    "log_shrimp_i = np.log(shrimp_i['org_price'])\n",
    "log_shrimp_m = np.log(shrimp_m['org_price'])\n",
    "log_shrimp_e = np.log(market_shrimp_e['org_price'])"
   ]
  },
  {
   "cell_type": "code",
   "execution_count": 112,
   "id": "877d12d1",
   "metadata": {},
   "outputs": [],
   "source": [
    "shrimp_b_diff = log_shrimp_b.diff().dropna() # 새우 베트남\n",
    "shrimp_t_diff = log_shrimp_t.diff().dropna() # 새우 태국\n",
    "shrimp_c_diff = log_shrimp_c.diff().dropna() # 중국\n",
    "shrimp_i_diff = log_shrimp_i.diff().dropna()  # 인도\n",
    "shrimp_m_diff = log_shrimp_m.diff().dropna()# 말레이시아\n",
    "shrimp_e_diff = log_shrimp_e.diff().dropna() # 에콰도르"
   ]
  },
  {
   "cell_type": "code",
   "execution_count": 113,
   "id": "bd0e874e",
   "metadata": {},
   "outputs": [
    {
     "name": "stdout",
     "output_type": "stream",
     "text": [
      " ARIMA(0,0,0)(0,0,0)[0]             : AIC=-166.860, Time=0.01 sec\n",
      " ARIMA(0,0,1)(0,0,0)[0]             : AIC=-234.093, Time=0.02 sec\n",
      " ARIMA(0,0,2)(0,0,0)[0]             : AIC=-232.094, Time=0.04 sec\n",
      " ARIMA(0,0,3)(0,0,0)[0]             : AIC=-230.099, Time=0.08 sec\n",
      " ARIMA(1,0,0)(0,0,0)[0]             : AIC=-201.637, Time=0.02 sec\n",
      " ARIMA(1,0,1)(0,0,0)[0]             : AIC=-232.094, Time=0.05 sec\n",
      " ARIMA(1,0,2)(0,0,0)[0]             : AIC=-230.109, Time=0.06 sec\n",
      " ARIMA(1,0,3)(0,0,0)[0]             : AIC=-228.102, Time=0.05 sec\n",
      " ARIMA(2,0,0)(0,0,0)[0]             : AIC=-214.900, Time=0.03 sec\n",
      " ARIMA(2,0,1)(0,0,0)[0]             : AIC=-230.099, Time=0.08 sec\n",
      " ARIMA(2,0,2)(0,0,0)[0]             : AIC=-228.119, Time=0.07 sec\n",
      " ARIMA(2,0,3)(0,0,0)[0]             : AIC=-226.654, Time=0.20 sec\n",
      " ARIMA(3,0,0)(0,0,0)[0]             : AIC=-221.671, Time=0.06 sec\n",
      " ARIMA(3,0,1)(0,0,0)[0]             : AIC=-228.125, Time=0.08 sec\n",
      " ARIMA(3,0,2)(0,0,0)[0]             : AIC=-226.712, Time=0.20 sec\n",
      "\n",
      "Best model:  ARIMA(0,0,1)(0,0,0)[0]          \n",
      "Total fit time: 1.065 seconds\n"
     ]
    },
    {
     "data": {
      "text/plain": [
       "ARIMA(order=(0, 0, 1), scoring_args={}, suppress_warnings=True,\n",
       "      with_intercept=False)"
      ]
     },
     "execution_count": 113,
     "metadata": {},
     "output_type": "execute_result"
    }
   ],
   "source": [
    "Y = shrimp_e_diff.values\n",
    "size = int(len(Y) * 0.7)\n",
    "train, test = Y[0:size], Y[size:len(Y)]\n",
    "model_arima= auto_arima(train,trace=True, error_action='ignore', start_p=1,start_q=1,max_p=3,max_q=3,suppress_warnings=True,stepwise=False,seasonal=False)\n",
    "model_arima.fit(train)"
   ]
  },
  {
   "cell_type": "code",
   "execution_count": 114,
   "id": "3c5c1307",
   "metadata": {},
   "outputs": [
    {
     "ename": "NotImplementedError",
     "evalue": "\nstatsmodels.tsa.arima_model.ARMA and statsmodels.tsa.arima_model.ARIMA have\nbeen removed in favor of statsmodels.tsa.arima.model.ARIMA (note the .\nbetween arima and model) and statsmodels.tsa.SARIMAX.\n\nstatsmodels.tsa.arima.model.ARIMA makes use of the statespace framework and\nis both well tested and maintained. It also offers alternative specialized\nparameter estimators.\n",
     "output_type": "error",
     "traceback": [
      "\u001b[1;31m---------------------------------------------------------------------------\u001b[0m",
      "\u001b[1;31mNotImplementedError\u001b[0m                       Traceback (most recent call last)",
      "\u001b[1;32m~\\AppData\\Local\\Temp/ipykernel_27320/2663866243.py\u001b[0m in \u001b[0;36m<module>\u001b[1;34m\u001b[0m\n\u001b[0;32m      2\u001b[0m \u001b[0mpredictions\u001b[0m \u001b[1;33m=\u001b[0m \u001b[0mlist\u001b[0m\u001b[1;33m(\u001b[0m\u001b[1;33m)\u001b[0m\u001b[1;33m\u001b[0m\u001b[1;33m\u001b[0m\u001b[0m\n\u001b[0;32m      3\u001b[0m \u001b[1;32mfor\u001b[0m \u001b[0mt\u001b[0m \u001b[1;32min\u001b[0m \u001b[0mrange\u001b[0m\u001b[1;33m(\u001b[0m\u001b[0mlen\u001b[0m\u001b[1;33m(\u001b[0m\u001b[0mtest\u001b[0m\u001b[1;33m)\u001b[0m\u001b[1;33m)\u001b[0m\u001b[1;33m:\u001b[0m\u001b[1;33m\u001b[0m\u001b[1;33m\u001b[0m\u001b[0m\n\u001b[1;32m----> 4\u001b[1;33m     \u001b[0mmodel\u001b[0m \u001b[1;33m=\u001b[0m \u001b[0mARIMA\u001b[0m\u001b[1;33m(\u001b[0m\u001b[0mhistory\u001b[0m\u001b[1;33m,\u001b[0m \u001b[0morder\u001b[0m\u001b[1;33m=\u001b[0m\u001b[1;33m(\u001b[0m\u001b[1;36m0\u001b[0m\u001b[1;33m,\u001b[0m\u001b[1;36m0\u001b[0m\u001b[1;33m,\u001b[0m\u001b[1;36m1\u001b[0m\u001b[1;33m)\u001b[0m\u001b[1;33m)\u001b[0m\u001b[1;33m\u001b[0m\u001b[1;33m\u001b[0m\u001b[0m\n\u001b[0m\u001b[0;32m      5\u001b[0m     \u001b[0mmodel_fit\u001b[0m \u001b[1;33m=\u001b[0m \u001b[0mmodel\u001b[0m\u001b[1;33m.\u001b[0m\u001b[0mfit\u001b[0m\u001b[1;33m(\u001b[0m\u001b[1;33m)\u001b[0m\u001b[1;33m\u001b[0m\u001b[1;33m\u001b[0m\u001b[0m\n\u001b[0;32m      6\u001b[0m     \u001b[0moutput\u001b[0m \u001b[1;33m=\u001b[0m \u001b[0mmodel_fit\u001b[0m\u001b[1;33m.\u001b[0m\u001b[0mforecast\u001b[0m\u001b[1;33m(\u001b[0m\u001b[1;33m)\u001b[0m\u001b[1;33m\u001b[0m\u001b[1;33m\u001b[0m\u001b[0m\n",
      "\u001b[1;32m~\\anaconda3\\lib\\site-packages\\statsmodels\\tsa\\arima_model.py\u001b[0m in \u001b[0;36m__init__\u001b[1;34m(self, *args, **kwargs)\u001b[0m\n\u001b[0;32m     43\u001b[0m \u001b[1;33m\u001b[0m\u001b[0m\n\u001b[0;32m     44\u001b[0m     \u001b[1;32mdef\u001b[0m \u001b[0m__init__\u001b[0m\u001b[1;33m(\u001b[0m\u001b[0mself\u001b[0m\u001b[1;33m,\u001b[0m \u001b[1;33m*\u001b[0m\u001b[0margs\u001b[0m\u001b[1;33m,\u001b[0m \u001b[1;33m**\u001b[0m\u001b[0mkwargs\u001b[0m\u001b[1;33m)\u001b[0m\u001b[1;33m:\u001b[0m\u001b[1;33m\u001b[0m\u001b[1;33m\u001b[0m\u001b[0m\n\u001b[1;32m---> 45\u001b[1;33m         \u001b[0msuper\u001b[0m\u001b[1;33m(\u001b[0m\u001b[1;33m)\u001b[0m\u001b[1;33m.\u001b[0m\u001b[0m__init__\u001b[0m\u001b[1;33m(\u001b[0m\u001b[1;33m*\u001b[0m\u001b[0margs\u001b[0m\u001b[1;33m,\u001b[0m \u001b[1;33m**\u001b[0m\u001b[0mkwargs\u001b[0m\u001b[1;33m)\u001b[0m\u001b[1;33m\u001b[0m\u001b[1;33m\u001b[0m\u001b[0m\n\u001b[0m\u001b[0;32m     46\u001b[0m \u001b[1;33m\u001b[0m\u001b[0m\n\u001b[0;32m     47\u001b[0m \u001b[1;33m\u001b[0m\u001b[0m\n",
      "\u001b[1;32m~\\anaconda3\\lib\\site-packages\\statsmodels\\tsa\\arima_model.py\u001b[0m in \u001b[0;36m__init__\u001b[1;34m(self, *args, **kwargs)\u001b[0m\n\u001b[0;32m     27\u001b[0m \u001b[1;33m\u001b[0m\u001b[0m\n\u001b[0;32m     28\u001b[0m     \u001b[1;32mdef\u001b[0m \u001b[0m__init__\u001b[0m\u001b[1;33m(\u001b[0m\u001b[0mself\u001b[0m\u001b[1;33m,\u001b[0m \u001b[1;33m*\u001b[0m\u001b[0margs\u001b[0m\u001b[1;33m,\u001b[0m \u001b[1;33m**\u001b[0m\u001b[0mkwargs\u001b[0m\u001b[1;33m)\u001b[0m\u001b[1;33m:\u001b[0m\u001b[1;33m\u001b[0m\u001b[1;33m\u001b[0m\u001b[0m\n\u001b[1;32m---> 29\u001b[1;33m         \u001b[1;32mraise\u001b[0m \u001b[0mNotImplementedError\u001b[0m\u001b[1;33m(\u001b[0m\u001b[0mARIMA_DEPRECATION_ERROR\u001b[0m\u001b[1;33m)\u001b[0m\u001b[1;33m\u001b[0m\u001b[1;33m\u001b[0m\u001b[0m\n\u001b[0m\u001b[0;32m     30\u001b[0m \u001b[1;33m\u001b[0m\u001b[0m\n\u001b[0;32m     31\u001b[0m \u001b[1;33m\u001b[0m\u001b[0m\n",
      "\u001b[1;31mNotImplementedError\u001b[0m: \nstatsmodels.tsa.arima_model.ARMA and statsmodels.tsa.arima_model.ARIMA have\nbeen removed in favor of statsmodels.tsa.arima.model.ARIMA (note the .\nbetween arima and model) and statsmodels.tsa.SARIMAX.\n\nstatsmodels.tsa.arima.model.ARIMA makes use of the statespace framework and\nis both well tested and maintained. It also offers alternative specialized\nparameter estimators.\n"
     ]
    }
   ],
   "source": [
    "history = [x for x in train]\n",
    "predictions = list()\n",
    "for t in range(len(test)):\n",
    "    model = ARIMA(history, order=(0,0,1))\n",
    "    model_fit = model.fit()\n",
    "    output = model_fit.forecast()\n",
    "    yhat = output[0]\n",
    "    predictions.append(yhat)\n",
    "    obs = test[t]\n",
    "    history.append(obs)\n",
    "rmse = np.sqrt(mean_squared_error(test, predictions))"
   ]
  },
  {
   "cell_type": "code",
   "execution_count": null,
   "id": "4a2ad5c6",
   "metadata": {},
   "outputs": [],
   "source": [
    "print(rmse)\n",
    "plt.plot(test)\n",
    "plt.plot(predictions, color='red')\n",
    "plt.show()"
   ]
  },
  {
   "cell_type": "code",
   "execution_count": 115,
   "id": "15426491",
   "metadata": {},
   "outputs": [],
   "source": [
    "salmon_n_diff = np.log(salmon_n['org_price']).diff().dropna() # 노르웨이\n",
    "salmon_b_diff = np.log(salmon_b['org_price']).diff().dropna() # 영국"
   ]
  },
  {
   "cell_type": "code",
   "execution_count": 116,
   "id": "b10aa38b",
   "metadata": {},
   "outputs": [
    {
     "data": {
      "text/plain": [
       "<AxesSubplot:xlabel='REG_DATE'>"
      ]
     },
     "execution_count": 116,
     "metadata": {},
     "output_type": "execute_result"
    },
    {
     "name": "stderr",
     "output_type": "stream",
     "text": [
      "C:\\Users\\kio02\\anaconda3\\lib\\site-packages\\IPython\\core\\pylabtools.py:151: UserWarning: Glyph 8722 (\\N{MINUS SIGN}) missing from current font.\n",
      "  fig.canvas.print_figure(bytes_io, **kw)\n"
     ]
    },
    {
     "data": {
      "image/png": "[encoded data removed]",
      "text/plain": [
       "<Figure size 1440x360 with 1 Axes>"
      ]
     },
     "metadata": {
      "needs_background": "light"
     },
     "output_type": "display_data"
    }
   ],
   "source": [
    "salmon_b_diff.plot()"
   ]
  },
  {
   "cell_type": "code",
   "execution_count": 117,
   "id": "569ef81e",
   "metadata": {},
   "outputs": [
    {
     "name": "stdout",
     "output_type": "stream",
     "text": [
      " ARIMA(0,0,0)(0,0,0)[0]             : AIC=-363.002, Time=0.02 sec\n",
      " ARIMA(0,0,1)(0,0,0)[0]             : AIC=-363.915, Time=0.05 sec\n",
      " ARIMA(0,0,2)(0,0,0)[0]             : AIC=-361.925, Time=0.03 sec\n",
      " ARIMA(0,0,3)(0,0,0)[0]             : AIC=-359.968, Time=0.11 sec\n",
      " ARIMA(1,0,0)(0,0,0)[0]             : AIC=-363.829, Time=0.02 sec\n",
      " ARIMA(1,0,1)(0,0,0)[0]             : AIC=-362.790, Time=0.14 sec\n",
      " ARIMA(1,0,2)(0,0,0)[0]             : AIC=-359.939, Time=0.03 sec\n",
      " ARIMA(1,0,3)(0,0,0)[0]             : AIC=-360.159, Time=0.14 sec\n",
      " ARIMA(2,0,0)(0,0,0)[0]             : AIC=-361.916, Time=0.08 sec\n",
      " ARIMA(2,0,1)(0,0,0)[0]             : AIC=inf, Time=0.15 sec\n",
      " ARIMA(2,0,2)(0,0,0)[0]             : AIC=inf, Time=0.18 sec\n",
      " ARIMA(2,0,3)(0,0,0)[0]             : AIC=-360.626, Time=0.16 sec\n",
      " ARIMA(3,0,0)(0,0,0)[0]             : AIC=-359.956, Time=0.03 sec\n",
      " ARIMA(3,0,1)(0,0,0)[0]             : AIC=-361.652, Time=0.18 sec\n",
      " ARIMA(3,0,2)(0,0,0)[0]             : AIC=inf, Time=0.23 sec\n",
      "\n",
      "Best model:  ARIMA(0,0,1)(0,0,0)[0]          \n",
      "Total fit time: 1.557 seconds\n"
     ]
    },
    {
     "data": {
      "text/plain": [
       "ARIMA(order=(0, 0, 1), scoring_args={}, suppress_warnings=True,\n",
       "      with_intercept=False)"
      ]
     },
     "execution_count": 117,
     "metadata": {},
     "output_type": "execute_result"
    }
   ],
   "source": [
    "Z = salmon_n_diff .values\n",
    "size = int(len(Z) * 0.7)\n",
    "train, test = Z[0:size], Z[size:len(Z)]\n",
    "model_arima= auto_arima(train,trace=True, error_action='ignore', start_p=1,start_q=1,max_p=3,max_q=3,suppress_warnings=True,stepwise=False,seasonal=False)\n",
    "model_arima.fit(train)"
   ]
  },
  {
   "cell_type": "code",
   "execution_count": 118,
   "id": "6c48511f",
   "metadata": {},
   "outputs": [
    {
     "ename": "NotImplementedError",
     "evalue": "\nstatsmodels.tsa.arima_model.ARMA and statsmodels.tsa.arima_model.ARIMA have\nbeen removed in favor of statsmodels.tsa.arima.model.ARIMA (note the .\nbetween arima and model) and statsmodels.tsa.SARIMAX.\n\nstatsmodels.tsa.arima.model.ARIMA makes use of the statespace framework and\nis both well tested and maintained. It also offers alternative specialized\nparameter estimators.\n",
     "output_type": "error",
     "traceback": [
      "\u001b[1;31m---------------------------------------------------------------------------\u001b[0m",
      "\u001b[1;31mNotImplementedError\u001b[0m                       Traceback (most recent call last)",
      "\u001b[1;32m~\\AppData\\Local\\Temp/ipykernel_27320/2663866243.py\u001b[0m in \u001b[0;36m<module>\u001b[1;34m\u001b[0m\n\u001b[0;32m      2\u001b[0m \u001b[0mpredictions\u001b[0m \u001b[1;33m=\u001b[0m \u001b[0mlist\u001b[0m\u001b[1;33m(\u001b[0m\u001b[1;33m)\u001b[0m\u001b[1;33m\u001b[0m\u001b[1;33m\u001b[0m\u001b[0m\n\u001b[0;32m      3\u001b[0m \u001b[1;32mfor\u001b[0m \u001b[0mt\u001b[0m \u001b[1;32min\u001b[0m \u001b[0mrange\u001b[0m\u001b[1;33m(\u001b[0m\u001b[0mlen\u001b[0m\u001b[1;33m(\u001b[0m\u001b[0mtest\u001b[0m\u001b[1;33m)\u001b[0m\u001b[1;33m)\u001b[0m\u001b[1;33m:\u001b[0m\u001b[1;33m\u001b[0m\u001b[1;33m\u001b[0m\u001b[0m\n\u001b[1;32m----> 4\u001b[1;33m     \u001b[0mmodel\u001b[0m \u001b[1;33m=\u001b[0m \u001b[0mARIMA\u001b[0m\u001b[1;33m(\u001b[0m\u001b[0mhistory\u001b[0m\u001b[1;33m,\u001b[0m \u001b[0morder\u001b[0m\u001b[1;33m=\u001b[0m\u001b[1;33m(\u001b[0m\u001b[1;36m0\u001b[0m\u001b[1;33m,\u001b[0m\u001b[1;36m0\u001b[0m\u001b[1;33m,\u001b[0m\u001b[1;36m1\u001b[0m\u001b[1;33m)\u001b[0m\u001b[1;33m)\u001b[0m\u001b[1;33m\u001b[0m\u001b[1;33m\u001b[0m\u001b[0m\n\u001b[0m\u001b[0;32m      5\u001b[0m     \u001b[0mmodel_fit\u001b[0m \u001b[1;33m=\u001b[0m \u001b[0mmodel\u001b[0m\u001b[1;33m.\u001b[0m\u001b[0mfit\u001b[0m\u001b[1;33m(\u001b[0m\u001b[1;33m)\u001b[0m\u001b[1;33m\u001b[0m\u001b[1;33m\u001b[0m\u001b[0m\n\u001b[0;32m      6\u001b[0m     \u001b[0moutput\u001b[0m \u001b[1;33m=\u001b[0m \u001b[0mmodel_fit\u001b[0m\u001b[1;33m.\u001b[0m\u001b[0mforecast\u001b[0m\u001b[1;33m(\u001b[0m\u001b[1;33m)\u001b[0m\u001b[1;33m\u001b[0m\u001b[1;33m\u001b[0m\u001b[0m\n",
      "\u001b[1;32m~\\anaconda3\\lib\\site-packages\\statsmodels\\tsa\\arima_model.py\u001b[0m in \u001b[0;36m__init__\u001b[1;34m(self, *args, **kwargs)\u001b[0m\n\u001b[0;32m     43\u001b[0m \u001b[1;33m\u001b[0m\u001b[0m\n\u001b[0;32m     44\u001b[0m     \u001b[1;32mdef\u001b[0m \u001b[0m__init__\u001b[0m\u001b[1;33m(\u001b[0m\u001b[0mself\u001b[0m\u001b[1;33m,\u001b[0m \u001b[1;33m*\u001b[0m\u001b[0margs\u001b[0m\u001b[1;33m,\u001b[0m \u001b[1;33m**\u001b[0m\u001b[0mkwargs\u001b[0m\u001b[1;33m)\u001b[0m\u001b[1;33m:\u001b[0m\u001b[1;33m\u001b[0m\u001b[1;33m\u001b[0m\u001b[0m\n\u001b[1;32m---> 45\u001b[1;33m         \u001b[0msuper\u001b[0m\u001b[1;33m(\u001b[0m\u001b[1;33m)\u001b[0m\u001b[1;33m.\u001b[0m\u001b[0m__init__\u001b[0m\u001b[1;33m(\u001b[0m\u001b[1;33m*\u001b[0m\u001b[0margs\u001b[0m\u001b[1;33m,\u001b[0m \u001b[1;33m**\u001b[0m\u001b[0mkwargs\u001b[0m\u001b[1;33m)\u001b[0m\u001b[1;33m\u001b[0m\u001b[1;33m\u001b[0m\u001b[0m\n\u001b[0m\u001b[0;32m     46\u001b[0m \u001b[1;33m\u001b[0m\u001b[0m\n\u001b[0;32m     47\u001b[0m \u001b[1;33m\u001b[0m\u001b[0m\n",
      "\u001b[1;32m~\\anaconda3\\lib\\site-packages\\statsmodels\\tsa\\arima_model.py\u001b[0m in \u001b[0;36m__init__\u001b[1;34m(self, *args, **kwargs)\u001b[0m\n\u001b[0;32m     27\u001b[0m \u001b[1;33m\u001b[0m\u001b[0m\n\u001b[0;32m     28\u001b[0m     \u001b[1;32mdef\u001b[0m \u001b[0m__init__\u001b[0m\u001b[1;33m(\u001b[0m\u001b[0mself\u001b[0m\u001b[1;33m,\u001b[0m \u001b[1;33m*\u001b[0m\u001b[0margs\u001b[0m\u001b[1;33m,\u001b[0m \u001b[1;33m**\u001b[0m\u001b[0mkwargs\u001b[0m\u001b[1;33m)\u001b[0m\u001b[1;33m:\u001b[0m\u001b[1;33m\u001b[0m\u001b[1;33m\u001b[0m\u001b[0m\n\u001b[1;32m---> 29\u001b[1;33m         \u001b[1;32mraise\u001b[0m \u001b[0mNotImplementedError\u001b[0m\u001b[1;33m(\u001b[0m\u001b[0mARIMA_DEPRECATION_ERROR\u001b[0m\u001b[1;33m)\u001b[0m\u001b[1;33m\u001b[0m\u001b[1;33m\u001b[0m\u001b[0m\n\u001b[0m\u001b[0;32m     30\u001b[0m \u001b[1;33m\u001b[0m\u001b[0m\n\u001b[0;32m     31\u001b[0m \u001b[1;33m\u001b[0m\u001b[0m\n",
      "\u001b[1;31mNotImplementedError\u001b[0m: \nstatsmodels.tsa.arima_model.ARMA and statsmodels.tsa.arima_model.ARIMA have\nbeen removed in favor of statsmodels.tsa.arima.model.ARIMA (note the .\nbetween arima and model) and statsmodels.tsa.SARIMAX.\n\nstatsmodels.tsa.arima.model.ARIMA makes use of the statespace framework and\nis both well tested and maintained. It also offers alternative specialized\nparameter estimators.\n"
     ]
    }
   ],
   "source": [
    "history = [x for x in train]\n",
    "predictions = list()\n",
    "for t in range(len(test)):\n",
    "    model = ARIMA(history, order=(0,0,1))\n",
    "    model_fit = model.fit()\n",
    "    output = model_fit.forecast()\n",
    "    yhat = output[0]\n",
    "    predictions.append(yhat)\n",
    "    obs = test[t]\n",
    "    history.append(obs)\n",
    "rmse = np.sqrt(mean_squared_error(test, predictions))"
   ]
  },
  {
   "cell_type": "code",
   "execution_count": null,
   "id": "028522ee",
   "metadata": {},
   "outputs": [],
   "source": [
    "print(rmse)\n",
    "plt.plot(test)\n",
    "plt.plot(predictions, color='red')\n",
    "plt.show()"
   ]
  },
  {
   "cell_type": "code",
   "execution_count": null,
   "id": "3c09a7dd",
   "metadata": {},
   "outputs": [],
   "source": [
    "# liner regression \n",
    "# neural network DNN\n",
    "# support vector\n",
    "# random forest \n",
    "# propet\n",
    "# lstm\n",
    "# GBRT gradient boostion regression tree "
   ]
  },
  {
   "cell_type": "code",
   "execution_count": 119,
   "id": "63f66cd4",
   "metadata": {},
   "outputs": [
    {
     "data": {
      "text/html": [
       "<div>\n",
       "<style scoped>\n",
       "    .dataframe tbody tr th:only-of-type {\n",
       "        vertical-align: middle;\n",
       "    }\n",
       "\n",
       "    .dataframe tbody tr th {\n",
       "        vertical-align: top;\n",
       "    }\n",
       "\n",
       "    .dataframe thead th {\n",
       "        text-align: right;\n",
       "    }\n",
       "</style>\n",
       "<table border=\"1\" class=\"dataframe\">\n",
       "  <thead>\n",
       "    <tr style=\"text-align: right;\">\n",
       "      <th></th>\n",
       "      <th>P_PRICE</th>\n",
       "      <th>org_price</th>\n",
       "    </tr>\n",
       "    <tr>\n",
       "      <th>REG_DATE</th>\n",
       "      <th></th>\n",
       "      <th></th>\n",
       "    </tr>\n",
       "  </thead>\n",
       "  <tbody>\n",
       "    <tr>\n",
       "      <th>2016-05-16</th>\n",
       "      <td>7.75</td>\n",
       "      <td>6.567797</td>\n",
       "    </tr>\n",
       "    <tr>\n",
       "      <th>2016-06-06</th>\n",
       "      <td>7.00</td>\n",
       "      <td>5.982906</td>\n",
       "    </tr>\n",
       "    <tr>\n",
       "      <th>2016-07-04</th>\n",
       "      <td>7.60</td>\n",
       "      <td>6.551724</td>\n",
       "    </tr>\n",
       "    <tr>\n",
       "      <th>2016-07-11</th>\n",
       "      <td>12.71</td>\n",
       "      <td>10.956897</td>\n",
       "    </tr>\n",
       "    <tr>\n",
       "      <th>2016-07-18</th>\n",
       "      <td>9.40</td>\n",
       "      <td>8.103448</td>\n",
       "    </tr>\n",
       "    <tr>\n",
       "      <th>...</th>\n",
       "      <td>...</td>\n",
       "      <td>...</td>\n",
       "    </tr>\n",
       "    <tr>\n",
       "      <th>2019-11-04</th>\n",
       "      <td>8.93</td>\n",
       "      <td>10.383721</td>\n",
       "    </tr>\n",
       "    <tr>\n",
       "      <th>2019-11-11</th>\n",
       "      <td>8.86</td>\n",
       "      <td>10.302326</td>\n",
       "    </tr>\n",
       "    <tr>\n",
       "      <th>2019-11-18</th>\n",
       "      <td>9.58</td>\n",
       "      <td>11.139535</td>\n",
       "    </tr>\n",
       "    <tr>\n",
       "      <th>2019-11-25</th>\n",
       "      <td>10.43</td>\n",
       "      <td>12.127907</td>\n",
       "    </tr>\n",
       "    <tr>\n",
       "      <th>2019-12-16</th>\n",
       "      <td>13.03</td>\n",
       "      <td>14.640449</td>\n",
       "    </tr>\n",
       "  </tbody>\n",
       "</table>\n",
       "<p>120 rows × 2 columns</p>\n",
       "</div>"
      ],
      "text/plain": [
       "            P_PRICE  org_price\n",
       "REG_DATE                      \n",
       "2016-05-16     7.75   6.567797\n",
       "2016-06-06     7.00   5.982906\n",
       "2016-07-04     7.60   6.551724\n",
       "2016-07-11    12.71  10.956897\n",
       "2016-07-18     9.40   8.103448\n",
       "...             ...        ...\n",
       "2019-11-04     8.93  10.383721\n",
       "2019-11-11     8.86  10.302326\n",
       "2019-11-18     9.58  11.139535\n",
       "2019-11-25    10.43  12.127907\n",
       "2019-12-16    13.03  14.640449\n",
       "\n",
       "[120 rows x 2 columns]"
      ]
     },
     "execution_count": 119,
     "metadata": {},
     "output_type": "execute_result"
    }
   ],
   "source": [
    "# 오징어 \n",
    "squid_p  # 페루 \n",
    "squid_r  # 칠레\n",
    "squid_c # 중국\n",
    "# 새우 \n",
    "shrimp_b # 베트남 \n",
    "shrimp_t  #  태국\n",
    "shrimp_c   # 중국\n",
    "shrimp_i # 인도 \n",
    "shrimp_m # 말레이시아 \n",
    "market_shrimp_e # 에콰도르 \n",
    "# 연어 \n",
    "salmon_n # 노르웨이 \n",
    "salmon_b  # 영국"
   ]
  },
  {
   "cell_type": "code",
   "execution_count": 120,
   "id": "81565110",
   "metadata": {},
   "outputs": [],
   "source": [
    "from sklearn.linear_model import LinearRegression\n",
    "import time\n",
    "import pandas as pd"
   ]
  },
  {
   "cell_type": "code",
   "execution_count": 121,
   "id": "1cee56cb",
   "metadata": {},
   "outputs": [],
   "source": [
    "# LSTM"
   ]
  },
  {
   "cell_type": "code",
   "execution_count": 122,
   "id": "86f2ee75",
   "metadata": {},
   "outputs": [],
   "source": [
    "from keras.models import Sequential\n",
    "from keras.models import Model\n",
    "from keras.layers import Input, Dense, LSTM, Bidirectional\n",
    "import matplotlib.pyplot as plt"
   ]
  },
  {
   "cell_type": "code",
   "execution_count": 123,
   "id": "cba273a0",
   "metadata": {},
   "outputs": [
    {
     "data": {
      "text/html": [
       "<div>\n",
       "<style scoped>\n",
       "    .dataframe tbody tr th:only-of-type {\n",
       "        vertical-align: middle;\n",
       "    }\n",
       "\n",
       "    .dataframe tbody tr th {\n",
       "        vertical-align: top;\n",
       "    }\n",
       "\n",
       "    .dataframe thead th {\n",
       "        text-align: right;\n",
       "    }\n",
       "</style>\n",
       "<table border=\"1\" class=\"dataframe\">\n",
       "  <thead>\n",
       "    <tr style=\"text-align: right;\">\n",
       "      <th></th>\n",
       "      <th>P_PRICE</th>\n",
       "      <th>org_price</th>\n",
       "    </tr>\n",
       "    <tr>\n",
       "      <th>REG_DATE</th>\n",
       "      <th></th>\n",
       "      <th></th>\n",
       "    </tr>\n",
       "  </thead>\n",
       "  <tbody>\n",
       "    <tr>\n",
       "      <th>2016-05-16</th>\n",
       "      <td>7.75</td>\n",
       "      <td>6.567797</td>\n",
       "    </tr>\n",
       "    <tr>\n",
       "      <th>2016-06-06</th>\n",
       "      <td>7.00</td>\n",
       "      <td>5.982906</td>\n",
       "    </tr>\n",
       "    <tr>\n",
       "      <th>2016-07-04</th>\n",
       "      <td>7.60</td>\n",
       "      <td>6.551724</td>\n",
       "    </tr>\n",
       "    <tr>\n",
       "      <th>2016-07-11</th>\n",
       "      <td>12.71</td>\n",
       "      <td>10.956897</td>\n",
       "    </tr>\n",
       "    <tr>\n",
       "      <th>2016-07-18</th>\n",
       "      <td>9.40</td>\n",
       "      <td>8.103448</td>\n",
       "    </tr>\n",
       "    <tr>\n",
       "      <th>...</th>\n",
       "      <td>...</td>\n",
       "      <td>...</td>\n",
       "    </tr>\n",
       "    <tr>\n",
       "      <th>2019-11-04</th>\n",
       "      <td>8.93</td>\n",
       "      <td>10.383721</td>\n",
       "    </tr>\n",
       "    <tr>\n",
       "      <th>2019-11-11</th>\n",
       "      <td>8.86</td>\n",
       "      <td>10.302326</td>\n",
       "    </tr>\n",
       "    <tr>\n",
       "      <th>2019-11-18</th>\n",
       "      <td>9.58</td>\n",
       "      <td>11.139535</td>\n",
       "    </tr>\n",
       "    <tr>\n",
       "      <th>2019-11-25</th>\n",
       "      <td>10.43</td>\n",
       "      <td>12.127907</td>\n",
       "    </tr>\n",
       "    <tr>\n",
       "      <th>2019-12-16</th>\n",
       "      <td>13.03</td>\n",
       "      <td>14.640449</td>\n",
       "    </tr>\n",
       "  </tbody>\n",
       "</table>\n",
       "<p>120 rows × 2 columns</p>\n",
       "</div>"
      ],
      "text/plain": [
       "            P_PRICE  org_price\n",
       "REG_DATE                      \n",
       "2016-05-16     7.75   6.567797\n",
       "2016-06-06     7.00   5.982906\n",
       "2016-07-04     7.60   6.551724\n",
       "2016-07-11    12.71  10.956897\n",
       "2016-07-18     9.40   8.103448\n",
       "...             ...        ...\n",
       "2019-11-04     8.93  10.383721\n",
       "2019-11-11     8.86  10.302326\n",
       "2019-11-18     9.58  11.139535\n",
       "2019-11-25    10.43  12.127907\n",
       "2019-12-16    13.03  14.640449\n",
       "\n",
       "[120 rows x 2 columns]"
      ]
     },
     "execution_count": 123,
     "metadata": {},
     "output_type": "execute_result"
    }
   ],
   "source": [
    "# 오징어 \n",
    "squid_p  # 페루 \n",
    "squid_r  # 칠레\n",
    "squid_c # 중국\n",
    "# 새우 \n",
    "shrimp_b # 베트남 \n",
    "shrimp_t  #  태국\n",
    "shrimp_c   # 중국\n",
    "shrimp_i # 인도 \n",
    "shrimp_m # 말레이시아 \n",
    "market_shrimp_e # 에콰도르 \n",
    "# 연어 \n",
    "salmon_n # 노르웨이 \n",
    "salmon_b  # 영국"
   ]
  },
  {
   "cell_type": "code",
   "execution_count": 124,
   "id": "d4dc3bdb",
   "metadata": {},
   "outputs": [],
   "source": [
    "#squid_index = pd.to_datetime(squid_c.index)"
   ]
  },
  {
   "cell_type": "code",
   "execution_count": 125,
   "id": "b971f5e1",
   "metadata": {},
   "outputs": [],
   "source": [
    "squid_c1 = squid_c.rename_axis('REG_DATE').reset_index()"
   ]
  },
  {
   "cell_type": "code",
   "execution_count": 126,
   "id": "2a6206b3",
   "metadata": {},
   "outputs": [
    {
     "data": {
      "text/html": [
       "<div>\n",
       "<style scoped>\n",
       "    .dataframe tbody tr th:only-of-type {\n",
       "        vertical-align: middle;\n",
       "    }\n",
       "\n",
       "    .dataframe tbody tr th {\n",
       "        vertical-align: top;\n",
       "    }\n",
       "\n",
       "    .dataframe thead th {\n",
       "        text-align: right;\n",
       "    }\n",
       "</style>\n",
       "<table border=\"1\" class=\"dataframe\">\n",
       "  <thead>\n",
       "    <tr style=\"text-align: right;\">\n",
       "      <th></th>\n",
       "      <th>REG_DATE</th>\n",
       "      <th>P_PRICE</th>\n",
       "      <th>org_price</th>\n",
       "    </tr>\n",
       "  </thead>\n",
       "  <tbody>\n",
       "    <tr>\n",
       "      <th>0</th>\n",
       "      <td>2015-12-28</td>\n",
       "      <td>0.790000</td>\n",
       "      <td>0.849462</td>\n",
       "    </tr>\n",
       "    <tr>\n",
       "      <th>1</th>\n",
       "      <td>2016-01-11</td>\n",
       "      <td>1.150000</td>\n",
       "      <td>1.185567</td>\n",
       "    </tr>\n",
       "    <tr>\n",
       "      <th>2</th>\n",
       "      <td>2016-01-18</td>\n",
       "      <td>1.255000</td>\n",
       "      <td>1.293814</td>\n",
       "    </tr>\n",
       "    <tr>\n",
       "      <th>3</th>\n",
       "      <td>2016-02-01</td>\n",
       "      <td>5.163333</td>\n",
       "      <td>5.378472</td>\n",
       "    </tr>\n",
       "    <tr>\n",
       "      <th>4</th>\n",
       "      <td>2016-02-15</td>\n",
       "      <td>2.970000</td>\n",
       "      <td>3.093750</td>\n",
       "    </tr>\n",
       "    <tr>\n",
       "      <th>...</th>\n",
       "      <td>...</td>\n",
       "      <td>...</td>\n",
       "      <td>...</td>\n",
       "    </tr>\n",
       "    <tr>\n",
       "      <th>186</th>\n",
       "      <td>2019-12-02</td>\n",
       "      <td>2.820000</td>\n",
       "      <td>2.473684</td>\n",
       "    </tr>\n",
       "    <tr>\n",
       "      <th>187</th>\n",
       "      <td>2019-12-09</td>\n",
       "      <td>3.505000</td>\n",
       "      <td>3.074561</td>\n",
       "    </tr>\n",
       "    <tr>\n",
       "      <th>188</th>\n",
       "      <td>2019-12-16</td>\n",
       "      <td>2.885000</td>\n",
       "      <td>2.530702</td>\n",
       "    </tr>\n",
       "    <tr>\n",
       "      <th>189</th>\n",
       "      <td>2019-12-23</td>\n",
       "      <td>6.886667</td>\n",
       "      <td>6.040936</td>\n",
       "    </tr>\n",
       "    <tr>\n",
       "      <th>190</th>\n",
       "      <td>2019-12-30</td>\n",
       "      <td>3.202500</td>\n",
       "      <td>2.809211</td>\n",
       "    </tr>\n",
       "  </tbody>\n",
       "</table>\n",
       "<p>191 rows × 3 columns</p>\n",
       "</div>"
      ],
      "text/plain": [
       "       REG_DATE   P_PRICE  org_price\n",
       "0    2015-12-28  0.790000   0.849462\n",
       "1    2016-01-11  1.150000   1.185567\n",
       "2    2016-01-18  1.255000   1.293814\n",
       "3    2016-02-01  5.163333   5.378472\n",
       "4    2016-02-15  2.970000   3.093750\n",
       "..          ...       ...        ...\n",
       "186  2019-12-02  2.820000   2.473684\n",
       "187  2019-12-09  3.505000   3.074561\n",
       "188  2019-12-16  2.885000   2.530702\n",
       "189  2019-12-23  6.886667   6.040936\n",
       "190  2019-12-30  3.202500   2.809211\n",
       "\n",
       "[191 rows x 3 columns]"
      ]
     },
     "execution_count": 126,
     "metadata": {},
     "output_type": "execute_result"
    }
   ],
   "source": [
    "squid_c1"
   ]
  },
  {
   "cell_type": "code",
   "execution_count": 127,
   "id": "b41f74d9",
   "metadata": {},
   "outputs": [],
   "source": [
    "squid_c1 = squid_c1.iloc[0:,0:2]"
   ]
  },
  {
   "cell_type": "code",
   "execution_count": 128,
   "id": "5c8d4cee",
   "metadata": {},
   "outputs": [
    {
     "data": {
      "text/html": [
       "<div>\n",
       "<style scoped>\n",
       "    .dataframe tbody tr th:only-of-type {\n",
       "        vertical-align: middle;\n",
       "    }\n",
       "\n",
       "    .dataframe tbody tr th {\n",
       "        vertical-align: top;\n",
       "    }\n",
       "\n",
       "    .dataframe thead th {\n",
       "        text-align: right;\n",
       "    }\n",
       "</style>\n",
       "<table border=\"1\" class=\"dataframe\">\n",
       "  <thead>\n",
       "    <tr style=\"text-align: right;\">\n",
       "      <th></th>\n",
       "      <th>REG_DATE</th>\n",
       "      <th>P_PRICE</th>\n",
       "    </tr>\n",
       "  </thead>\n",
       "  <tbody>\n",
       "    <tr>\n",
       "      <th>0</th>\n",
       "      <td>2015-12-28</td>\n",
       "      <td>0.790000</td>\n",
       "    </tr>\n",
       "    <tr>\n",
       "      <th>1</th>\n",
       "      <td>2016-01-11</td>\n",
       "      <td>1.150000</td>\n",
       "    </tr>\n",
       "    <tr>\n",
       "      <th>2</th>\n",
       "      <td>2016-01-18</td>\n",
       "      <td>1.255000</td>\n",
       "    </tr>\n",
       "    <tr>\n",
       "      <th>3</th>\n",
       "      <td>2016-02-01</td>\n",
       "      <td>5.163333</td>\n",
       "    </tr>\n",
       "    <tr>\n",
       "      <th>4</th>\n",
       "      <td>2016-02-15</td>\n",
       "      <td>2.970000</td>\n",
       "    </tr>\n",
       "    <tr>\n",
       "      <th>...</th>\n",
       "      <td>...</td>\n",
       "      <td>...</td>\n",
       "    </tr>\n",
       "    <tr>\n",
       "      <th>186</th>\n",
       "      <td>2019-12-02</td>\n",
       "      <td>2.820000</td>\n",
       "    </tr>\n",
       "    <tr>\n",
       "      <th>187</th>\n",
       "      <td>2019-12-09</td>\n",
       "      <td>3.505000</td>\n",
       "    </tr>\n",
       "    <tr>\n",
       "      <th>188</th>\n",
       "      <td>2019-12-16</td>\n",
       "      <td>2.885000</td>\n",
       "    </tr>\n",
       "    <tr>\n",
       "      <th>189</th>\n",
       "      <td>2019-12-23</td>\n",
       "      <td>6.886667</td>\n",
       "    </tr>\n",
       "    <tr>\n",
       "      <th>190</th>\n",
       "      <td>2019-12-30</td>\n",
       "      <td>3.202500</td>\n",
       "    </tr>\n",
       "  </tbody>\n",
       "</table>\n",
       "<p>191 rows × 2 columns</p>\n",
       "</div>"
      ],
      "text/plain": [
       "       REG_DATE   P_PRICE\n",
       "0    2015-12-28  0.790000\n",
       "1    2016-01-11  1.150000\n",
       "2    2016-01-18  1.255000\n",
       "3    2016-02-01  5.163333\n",
       "4    2016-02-15  2.970000\n",
       "..          ...       ...\n",
       "186  2019-12-02  2.820000\n",
       "187  2019-12-09  3.505000\n",
       "188  2019-12-16  2.885000\n",
       "189  2019-12-23  6.886667\n",
       "190  2019-12-30  3.202500\n",
       "\n",
       "[191 rows x 2 columns]"
      ]
     },
     "execution_count": 128,
     "metadata": {},
     "output_type": "execute_result"
    }
   ],
   "source": [
    "squid_c1"
   ]
  },
  {
   "cell_type": "code",
   "execution_count": 129,
   "id": "8b15e2ee",
   "metadata": {},
   "outputs": [
    {
     "name": "stdout",
     "output_type": "stream",
     "text": [
      "162 29\n"
     ]
    }
   ],
   "source": [
    "train_size = int(0.85 * len(squid_c1))\n",
    "test_size = len(squid_c1) - train_size\n",
    "\n",
    "univariate_df = squid_c1[['REG_DATE', 'P_PRICE']].copy()\n",
    "univariate_df.columns = ['ds', 'y']\n",
    "\n",
    "train = univariate_df.iloc[:train_size, :]\n",
    "\n",
    "\n",
    "x_train, y_train = pd.DataFrame(univariate_df.iloc[:train_size, 0]), pd.DataFrame(univariate_df.iloc[:train_size, 1])\n",
    "x_valid, y_valid = pd.DataFrame(univariate_df.iloc[train_size:, 0]), pd.DataFrame(univariate_df.iloc[train_size:, 1])\n",
    "\n",
    "print(len(train), len(x_valid))"
   ]
  },
  {
   "cell_type": "code",
   "execution_count": 130,
   "id": "36136bf9",
   "metadata": {},
   "outputs": [],
   "source": [
    "train = squid_c1.iloc[:-train_size,:]"
   ]
  },
  {
   "cell_type": "code",
   "execution_count": 131,
   "id": "2c3eca70",
   "metadata": {},
   "outputs": [
    {
     "data": {
      "text/html": [
       "<div>\n",
       "<style scoped>\n",
       "    .dataframe tbody tr th:only-of-type {\n",
       "        vertical-align: middle;\n",
       "    }\n",
       "\n",
       "    .dataframe tbody tr th {\n",
       "        vertical-align: top;\n",
       "    }\n",
       "\n",
       "    .dataframe thead th {\n",
       "        text-align: right;\n",
       "    }\n",
       "</style>\n",
       "<table border=\"1\" class=\"dataframe\">\n",
       "  <thead>\n",
       "    <tr style=\"text-align: right;\">\n",
       "      <th></th>\n",
       "      <th>REG_DATE</th>\n",
       "    </tr>\n",
       "  </thead>\n",
       "  <tbody>\n",
       "    <tr>\n",
       "      <th>0</th>\n",
       "      <td>2015-12-28</td>\n",
       "    </tr>\n",
       "    <tr>\n",
       "      <th>1</th>\n",
       "      <td>2016-01-11</td>\n",
       "    </tr>\n",
       "    <tr>\n",
       "      <th>2</th>\n",
       "      <td>2016-01-18</td>\n",
       "    </tr>\n",
       "    <tr>\n",
       "      <th>3</th>\n",
       "      <td>2016-02-01</td>\n",
       "    </tr>\n",
       "    <tr>\n",
       "      <th>4</th>\n",
       "      <td>2016-02-15</td>\n",
       "    </tr>\n",
       "    <tr>\n",
       "      <th>...</th>\n",
       "      <td>...</td>\n",
       "    </tr>\n",
       "    <tr>\n",
       "      <th>157</th>\n",
       "      <td>2019-05-13</td>\n",
       "    </tr>\n",
       "    <tr>\n",
       "      <th>158</th>\n",
       "      <td>2019-05-20</td>\n",
       "    </tr>\n",
       "    <tr>\n",
       "      <th>159</th>\n",
       "      <td>2019-05-27</td>\n",
       "    </tr>\n",
       "    <tr>\n",
       "      <th>160</th>\n",
       "      <td>2019-06-03</td>\n",
       "    </tr>\n",
       "    <tr>\n",
       "      <th>161</th>\n",
       "      <td>2019-06-10</td>\n",
       "    </tr>\n",
       "  </tbody>\n",
       "</table>\n",
       "<p>162 rows × 1 columns</p>\n",
       "</div>"
      ],
      "text/plain": [
       "       REG_DATE\n",
       "0    2015-12-28\n",
       "1    2016-01-11\n",
       "2    2016-01-18\n",
       "3    2016-02-01\n",
       "4    2016-02-15\n",
       "..          ...\n",
       "157  2019-05-13\n",
       "158  2019-05-20\n",
       "159  2019-05-27\n",
       "160  2019-06-03\n",
       "161  2019-06-10\n",
       "\n",
       "[162 rows x 1 columns]"
      ]
     },
     "execution_count": 131,
     "metadata": {},
     "output_type": "execute_result"
    }
   ],
   "source": [
    "pd.DataFrame(squid_c1.iloc[:train_size, 0])"
   ]
  },
  {
   "cell_type": "code",
   "execution_count": 132,
   "id": "6cda3b25",
   "metadata": {},
   "outputs": [],
   "source": [
    "#train = train.rename_axis('').reset_index()"
   ]
  },
  {
   "cell_type": "code",
   "execution_count": 2,
   "id": "4b1b5671",
   "metadata": {},
   "outputs": [],
   "source": [
    "from sklearn.metrics import mean_absolute_error, mean_squared_error\n",
    "import math"
   ]
  },
  {
   "cell_type": "code",
   "execution_count": 137,
   "id": "7a63c547",
   "metadata": {},
   "outputs": [],
   "source": [
    "train1 = train.copy()"
   ]
  },
  {
   "cell_type": "code",
   "execution_count": 138,
   "id": "29dc19fa",
   "metadata": {},
   "outputs": [],
   "source": [
    "train1.columns = ['ds','y']"
   ]
  },
  {
   "cell_type": "code",
   "execution_count": null,
   "id": "ed58d3ac",
   "metadata": {
    "scrolled": false
   },
   "outputs": [],
   "source": [
    "test_size = 20 \n",
    "x_train = squid_c['P_PRICE'][:-test_size]\n",
    "x_test = squid_c['P_PRICE'][-test_size:]"
   ]
  },
  {
   "cell_type": "code",
   "execution_count": null,
   "id": "977a004d",
   "metadata": {},
   "outputs": [],
   "source": [
    "x_train"
   ]
  },
  {
   "cell_type": "code",
   "execution_count": null,
   "id": "4f48496e",
   "metadata": {},
   "outputs": [],
   "source": [
    "x_train = np.reshape(x_train, (x_train.shape[0], 1, x_train.shape[1]))\n",
    "x_test = np.reshape(x_test, (x_test.shape[0], 1, x_test.shape[1]))"
   ]
  },
  {
   "cell_type": "code",
   "execution_count": 1,
   "id": "eb71fd5a",
   "metadata": {},
   "outputs": [
    {
     "ename": "NameError",
     "evalue": "name 'Sequential' is not defined",
     "output_type": "error",
     "traceback": [
      "\u001b[1;31m---------------------------------------------------------------------------\u001b[0m",
      "\u001b[1;31mNameError\u001b[0m                                 Traceback (most recent call last)",
      "\u001b[1;32m~\\AppData\\Local\\Temp/ipykernel_28832/1009055922.py\u001b[0m in \u001b[0;36m<module>\u001b[1;34m\u001b[0m\n\u001b[1;32m----> 1\u001b[1;33m \u001b[0mmodel\u001b[0m \u001b[1;33m=\u001b[0m \u001b[0mSequential\u001b[0m\u001b[1;33m(\u001b[0m\u001b[1;33m)\u001b[0m\u001b[1;33m\u001b[0m\u001b[1;33m\u001b[0m\u001b[0m\n\u001b[0m\u001b[0;32m      2\u001b[0m \u001b[0mmodel\u001b[0m\u001b[1;33m.\u001b[0m\u001b[0madd\u001b[0m\u001b[1;33m(\u001b[0m\u001b[0mLSTM\u001b[0m\u001b[1;33m(\u001b[0m\u001b[1;36m4\u001b[0m\u001b[1;33m,\u001b[0m \u001b[0minput_shape\u001b[0m\u001b[1;33m=\u001b[0m\u001b[1;33m(\u001b[0m\u001b[1;36m1\u001b[0m\u001b[1;33m,\u001b[0m \u001b[1;36m1\u001b[0m\u001b[1;33m)\u001b[0m\u001b[1;33m)\u001b[0m\u001b[1;33m)\u001b[0m\u001b[1;33m\u001b[0m\u001b[1;33m\u001b[0m\u001b[0m\n\u001b[0;32m      3\u001b[0m \u001b[0mmodel\u001b[0m\u001b[1;33m.\u001b[0m\u001b[0madd\u001b[0m\u001b[1;33m(\u001b[0m\u001b[0mDense\u001b[0m\u001b[1;33m(\u001b[0m\u001b[1;36m1\u001b[0m\u001b[1;33m)\u001b[0m\u001b[1;33m)\u001b[0m\u001b[1;33m\u001b[0m\u001b[1;33m\u001b[0m\u001b[0m\n\u001b[0;32m      4\u001b[0m \u001b[0mmodel\u001b[0m\u001b[1;33m.\u001b[0m\u001b[0mcompile\u001b[0m\u001b[1;33m(\u001b[0m\u001b[0mloss\u001b[0m\u001b[1;33m=\u001b[0m\u001b[1;34m'mean_squared_error'\u001b[0m\u001b[1;33m,\u001b[0m \u001b[0moptimizer\u001b[0m\u001b[1;33m=\u001b[0m\u001b[1;34m'adam'\u001b[0m\u001b[1;33m)\u001b[0m\u001b[1;33m\u001b[0m\u001b[1;33m\u001b[0m\u001b[0m\n\u001b[0;32m      5\u001b[0m \u001b[0mmodel\u001b[0m\u001b[1;33m.\u001b[0m\u001b[0mfit\u001b[0m\u001b[1;33m(\u001b[0m\u001b[0mtrain\u001b[0m\u001b[1;33m,\u001b[0m \u001b[0mtest\u001b[0m\u001b[1;33m,\u001b[0m \u001b[0mepochs\u001b[0m\u001b[1;33m=\u001b[0m\u001b[1;36m100\u001b[0m\u001b[1;33m,\u001b[0m \u001b[0mbatch_size\u001b[0m\u001b[1;33m=\u001b[0m\u001b[1;36m1\u001b[0m\u001b[1;33m)\u001b[0m\u001b[1;33m\u001b[0m\u001b[1;33m\u001b[0m\u001b[0m\n",
      "\u001b[1;31mNameError\u001b[0m: name 'Sequential' is not defined"
     ]
    }
   ],
   "source": [
    "model = Sequential()\n",
    "model.add(LSTM(4, input_shape=(1, 1)))\n",
    "model.add(Dense(1))\n",
    "model.compile(loss='mean_squared_error', optimizer='adam')\n",
    "model.fit(train, test, epochs=100, batch_size=1)\n",
    "# 질문 : 데이터가 200개 밖에 없느데 가능할까 ?"
   ]
  },
  {
   "cell_type": "code",
   "execution_count": null,
   "id": "b8c16c1f",
   "metadata": {},
   "outputs": [],
   "source": [
    "odel.compile(loss='mean_squared_error', optimizer='adam')\n",
    "early_stop = EarlyStopping(monitor='val_loss', patience=5)\n",
    "\n",
    "model_path = 'model'\n",
    "filename = os.path.join(model_path, 'tmp_checkpoint.h5')\n",
    "checkpoint = ModelCheckpoint(filename, monitor='val_loss', verbose=1, save_best_only=True, mode='auto')\n",
    "\n",
    "history = model.fit(x_train, y_train, \n",
    "                                    epochs=200, \n",
    "                                    batch_size=16,\n",
    "                                    validation_data=(x_valid, y_valid), \n",
    "                                    callbacks=[early_stop, checkpoint])"
   ]
  }
 ],
 "metadata": {
  "kernelspec": {
   "display_name": "Python 3 (ipykernel)",
   "language": "python",
   "name": "python3"
  },
  "language_info": {
   "codemirror_mode": {
    "name": "ipython",
    "version": 3
   },
   "file_extension": ".py",
   "mimetype": "text/x-python",
   "name": "python",
   "nbconvert_exporter": "python",
   "pygments_lexer": "ipython3",
   "version": "3.9.7"
  }
 },
 "nbformat": 4,
 "nbformat_minor": 5
}
