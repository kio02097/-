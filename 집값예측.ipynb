{
 "cells": [
  {
   "cell_type": "code",
   "execution_count": 2,
   "id": "7a217597",
   "metadata": {},
   "outputs": [],
   "source": [
    "import pandas as pd\n",
    "import numpy as np\n",
    "import matplotlib.pyplot as plt\n",
    "from collections import Counter\n",
    "import seaborn as sns\n",
    "import matplotlib.font_manager as fm"
   ]
  },
  {
   "cell_type": "code",
   "execution_count": 3,
   "id": "e8b2e7fc",
   "metadata": {
    "scrolled": true
   },
   "outputs": [],
   "source": [
    "df = pd.read_csv('D:/data/housing/train.csv')"
   ]
  },
  {
   "cell_type": "code",
   "execution_count": 4,
   "id": "aea7b874",
   "metadata": {},
   "outputs": [
    {
     "data": {
      "text/html": [
       "<div>\n",
       "<style scoped>\n",
       "    .dataframe tbody tr th:only-of-type {\n",
       "        vertical-align: middle;\n",
       "    }\n",
       "\n",
       "    .dataframe tbody tr th {\n",
       "        vertical-align: top;\n",
       "    }\n",
       "\n",
       "    .dataframe thead th {\n",
       "        text-align: right;\n",
       "    }\n",
       "</style>\n",
       "<table border=\"1\" class=\"dataframe\">\n",
       "  <thead>\n",
       "    <tr style=\"text-align: right;\">\n",
       "      <th></th>\n",
       "      <th>id</th>\n",
       "      <th>Overall Qual</th>\n",
       "      <th>Gr Liv Area</th>\n",
       "      <th>Exter Qual</th>\n",
       "      <th>Garage Cars</th>\n",
       "      <th>Garage Area</th>\n",
       "      <th>Kitchen Qual</th>\n",
       "      <th>Total Bsmt SF</th>\n",
       "      <th>1st Flr SF</th>\n",
       "      <th>Bsmt Qual</th>\n",
       "      <th>Full Bath</th>\n",
       "      <th>Year Built</th>\n",
       "      <th>Year Remod/Add</th>\n",
       "      <th>Garage Yr Blt</th>\n",
       "      <th>target</th>\n",
       "    </tr>\n",
       "  </thead>\n",
       "  <tbody>\n",
       "    <tr>\n",
       "      <th>0</th>\n",
       "      <td>1</td>\n",
       "      <td>10</td>\n",
       "      <td>2392</td>\n",
       "      <td>Ex</td>\n",
       "      <td>3</td>\n",
       "      <td>968</td>\n",
       "      <td>Ex</td>\n",
       "      <td>2392</td>\n",
       "      <td>2392</td>\n",
       "      <td>Ex</td>\n",
       "      <td>2</td>\n",
       "      <td>2003</td>\n",
       "      <td>2003</td>\n",
       "      <td>2003</td>\n",
       "      <td>386250</td>\n",
       "    </tr>\n",
       "    <tr>\n",
       "      <th>1</th>\n",
       "      <td>2</td>\n",
       "      <td>7</td>\n",
       "      <td>1352</td>\n",
       "      <td>Gd</td>\n",
       "      <td>2</td>\n",
       "      <td>466</td>\n",
       "      <td>Gd</td>\n",
       "      <td>1352</td>\n",
       "      <td>1352</td>\n",
       "      <td>Ex</td>\n",
       "      <td>2</td>\n",
       "      <td>2006</td>\n",
       "      <td>2007</td>\n",
       "      <td>2006</td>\n",
       "      <td>194000</td>\n",
       "    </tr>\n",
       "    <tr>\n",
       "      <th>2</th>\n",
       "      <td>3</td>\n",
       "      <td>5</td>\n",
       "      <td>900</td>\n",
       "      <td>TA</td>\n",
       "      <td>1</td>\n",
       "      <td>288</td>\n",
       "      <td>TA</td>\n",
       "      <td>864</td>\n",
       "      <td>900</td>\n",
       "      <td>TA</td>\n",
       "      <td>1</td>\n",
       "      <td>1967</td>\n",
       "      <td>1967</td>\n",
       "      <td>1967</td>\n",
       "      <td>123000</td>\n",
       "    </tr>\n",
       "    <tr>\n",
       "      <th>3</th>\n",
       "      <td>4</td>\n",
       "      <td>5</td>\n",
       "      <td>1174</td>\n",
       "      <td>TA</td>\n",
       "      <td>2</td>\n",
       "      <td>576</td>\n",
       "      <td>Gd</td>\n",
       "      <td>680</td>\n",
       "      <td>680</td>\n",
       "      <td>TA</td>\n",
       "      <td>1</td>\n",
       "      <td>1900</td>\n",
       "      <td>2006</td>\n",
       "      <td>2000</td>\n",
       "      <td>135000</td>\n",
       "    </tr>\n",
       "    <tr>\n",
       "      <th>4</th>\n",
       "      <td>5</td>\n",
       "      <td>7</td>\n",
       "      <td>1958</td>\n",
       "      <td>Gd</td>\n",
       "      <td>3</td>\n",
       "      <td>936</td>\n",
       "      <td>Gd</td>\n",
       "      <td>1026</td>\n",
       "      <td>1026</td>\n",
       "      <td>Gd</td>\n",
       "      <td>2</td>\n",
       "      <td>2005</td>\n",
       "      <td>2005</td>\n",
       "      <td>2005</td>\n",
       "      <td>250000</td>\n",
       "    </tr>\n",
       "    <tr>\n",
       "      <th>...</th>\n",
       "      <td>...</td>\n",
       "      <td>...</td>\n",
       "      <td>...</td>\n",
       "      <td>...</td>\n",
       "      <td>...</td>\n",
       "      <td>...</td>\n",
       "      <td>...</td>\n",
       "      <td>...</td>\n",
       "      <td>...</td>\n",
       "      <td>...</td>\n",
       "      <td>...</td>\n",
       "      <td>...</td>\n",
       "      <td>...</td>\n",
       "      <td>...</td>\n",
       "      <td>...</td>\n",
       "    </tr>\n",
       "    <tr>\n",
       "      <th>1345</th>\n",
       "      <td>1346</td>\n",
       "      <td>6</td>\n",
       "      <td>1756</td>\n",
       "      <td>Gd</td>\n",
       "      <td>2</td>\n",
       "      <td>422</td>\n",
       "      <td>TA</td>\n",
       "      <td>872</td>\n",
       "      <td>888</td>\n",
       "      <td>Ex</td>\n",
       "      <td>2</td>\n",
       "      <td>1996</td>\n",
       "      <td>1997</td>\n",
       "      <td>1996</td>\n",
       "      <td>204000</td>\n",
       "    </tr>\n",
       "    <tr>\n",
       "      <th>1346</th>\n",
       "      <td>1347</td>\n",
       "      <td>9</td>\n",
       "      <td>2748</td>\n",
       "      <td>Gd</td>\n",
       "      <td>3</td>\n",
       "      <td>850</td>\n",
       "      <td>Ex</td>\n",
       "      <td>1850</td>\n",
       "      <td>1850</td>\n",
       "      <td>Ex</td>\n",
       "      <td>2</td>\n",
       "      <td>2006</td>\n",
       "      <td>2006</td>\n",
       "      <td>2006</td>\n",
       "      <td>390000</td>\n",
       "    </tr>\n",
       "    <tr>\n",
       "      <th>1347</th>\n",
       "      <td>1348</td>\n",
       "      <td>5</td>\n",
       "      <td>1214</td>\n",
       "      <td>TA</td>\n",
       "      <td>1</td>\n",
       "      <td>318</td>\n",
       "      <td>TA</td>\n",
       "      <td>1214</td>\n",
       "      <td>1214</td>\n",
       "      <td>TA</td>\n",
       "      <td>2</td>\n",
       "      <td>1967</td>\n",
       "      <td>1967</td>\n",
       "      <td>1967</td>\n",
       "      <td>143000</td>\n",
       "    </tr>\n",
       "    <tr>\n",
       "      <th>1348</th>\n",
       "      <td>1349</td>\n",
       "      <td>5</td>\n",
       "      <td>894</td>\n",
       "      <td>TA</td>\n",
       "      <td>2</td>\n",
       "      <td>440</td>\n",
       "      <td>TA</td>\n",
       "      <td>864</td>\n",
       "      <td>894</td>\n",
       "      <td>Gd</td>\n",
       "      <td>1</td>\n",
       "      <td>1974</td>\n",
       "      <td>1974</td>\n",
       "      <td>1974</td>\n",
       "      <td>131000</td>\n",
       "    </tr>\n",
       "    <tr>\n",
       "      <th>1349</th>\n",
       "      <td>1350</td>\n",
       "      <td>5</td>\n",
       "      <td>907</td>\n",
       "      <td>TA</td>\n",
       "      <td>1</td>\n",
       "      <td>343</td>\n",
       "      <td>TA</td>\n",
       "      <td>907</td>\n",
       "      <td>907</td>\n",
       "      <td>Gd</td>\n",
       "      <td>1</td>\n",
       "      <td>1978</td>\n",
       "      <td>1978</td>\n",
       "      <td>1978</td>\n",
       "      <td>140000</td>\n",
       "    </tr>\n",
       "  </tbody>\n",
       "</table>\n",
       "<p>1350 rows × 15 columns</p>\n",
       "</div>"
      ],
      "text/plain": [
       "        id  Overall Qual  Gr Liv Area Exter Qual  Garage Cars  Garage Area  \\\n",
       "0        1            10         2392         Ex            3          968   \n",
       "1        2             7         1352         Gd            2          466   \n",
       "2        3             5          900         TA            1          288   \n",
       "3        4             5         1174         TA            2          576   \n",
       "4        5             7         1958         Gd            3          936   \n",
       "...    ...           ...          ...        ...          ...          ...   \n",
       "1345  1346             6         1756         Gd            2          422   \n",
       "1346  1347             9         2748         Gd            3          850   \n",
       "1347  1348             5         1214         TA            1          318   \n",
       "1348  1349             5          894         TA            2          440   \n",
       "1349  1350             5          907         TA            1          343   \n",
       "\n",
       "     Kitchen Qual  Total Bsmt SF  1st Flr SF Bsmt Qual  Full Bath  Year Built  \\\n",
       "0              Ex           2392        2392        Ex          2        2003   \n",
       "1              Gd           1352        1352        Ex          2        2006   \n",
       "2              TA            864         900        TA          1        1967   \n",
       "3              Gd            680         680        TA          1        1900   \n",
       "4              Gd           1026        1026        Gd          2        2005   \n",
       "...           ...            ...         ...       ...        ...         ...   \n",
       "1345           TA            872         888        Ex          2        1996   \n",
       "1346           Ex           1850        1850        Ex          2        2006   \n",
       "1347           TA           1214        1214        TA          2        1967   \n",
       "1348           TA            864         894        Gd          1        1974   \n",
       "1349           TA            907         907        Gd          1        1978   \n",
       "\n",
       "      Year Remod/Add  Garage Yr Blt  target  \n",
       "0               2003           2003  386250  \n",
       "1               2007           2006  194000  \n",
       "2               1967           1967  123000  \n",
       "3               2006           2000  135000  \n",
       "4               2005           2005  250000  \n",
       "...              ...            ...     ...  \n",
       "1345            1997           1996  204000  \n",
       "1346            2006           2006  390000  \n",
       "1347            1967           1967  143000  \n",
       "1348            1974           1974  131000  \n",
       "1349            1978           1978  140000  \n",
       "\n",
       "[1350 rows x 15 columns]"
      ]
     },
     "execution_count": 4,
     "metadata": {},
     "output_type": "execute_result"
    }
   ],
   "source": [
    "df"
   ]
  },
  {
   "cell_type": "code",
   "execution_count": 5,
   "id": "e2644a11",
   "metadata": {
    "scrolled": false
   },
   "outputs": [
    {
     "name": "stdout",
     "output_type": "stream",
     "text": [
      "<class 'pandas.core.frame.DataFrame'>\n",
      "RangeIndex: 1350 entries, 0 to 1349\n",
      "Data columns (total 15 columns):\n",
      " #   Column          Non-Null Count  Dtype \n",
      "---  ------          --------------  ----- \n",
      " 0   id              1350 non-null   int64 \n",
      " 1   Overall Qual    1350 non-null   int64 \n",
      " 2   Gr Liv Area     1350 non-null   int64 \n",
      " 3   Exter Qual      1350 non-null   object\n",
      " 4   Garage Cars     1350 non-null   int64 \n",
      " 5   Garage Area     1350 non-null   int64 \n",
      " 6   Kitchen Qual    1350 non-null   object\n",
      " 7   Total Bsmt SF   1350 non-null   int64 \n",
      " 8   1st Flr SF      1350 non-null   int64 \n",
      " 9   Bsmt Qual       1350 non-null   object\n",
      " 10  Full Bath       1350 non-null   int64 \n",
      " 11  Year Built      1350 non-null   int64 \n",
      " 12  Year Remod/Add  1350 non-null   int64 \n",
      " 13  Garage Yr Blt   1350 non-null   int64 \n",
      " 14  target          1350 non-null   int64 \n",
      "dtypes: int64(12), object(3)\n",
      "memory usage: 158.3+ KB\n"
     ]
    }
   ],
   "source": [
    "df.info()"
   ]
  },
  {
   "cell_type": "code",
   "execution_count": 6,
   "id": "d1032254",
   "metadata": {},
   "outputs": [
    {
     "name": "stdout",
     "output_type": "stream",
     "text": [
      "[10  7  5  8  6  3  4  9  2]\n",
      "1513.5422222222223\n",
      "1445.5\n",
      "4476\n",
      "480\n"
     ]
    }
   ],
   "source": [
    "# 전반전 재료와 마감 품질\n",
    "print(df['Overall Qual'].unique())\n",
    "#지상층 생활 면적(이상치가 월등하게 있다.)\n",
    "print(np.mean(df['Gr Liv Area']))\n",
    "print(np.median(df['Gr Liv Area']))\n",
    "print(np.max(df['Gr Liv Area']))\n",
    "print(np.min(df['Gr Liv Area']))"
   ]
  },
  {
   "cell_type": "code",
   "execution_count": 7,
   "id": "33da862f",
   "metadata": {},
   "outputs": [
    {
     "name": "stdout",
     "output_type": "stream",
     "text": [
      "502.0148148148148\n",
      "484.0\n",
      "1488\n",
      "100\n",
      "1082.6444444444444\n",
      "1009.0\n",
      "2660\n",
      "105\n",
      "1167.474074074074\n",
      "1092.5\n",
      "2898\n",
      "480\n",
      "186406.31259259259\n",
      "165375.0\n",
      "745000\n",
      "12789\n"
     ]
    }
   ],
   "source": [
    "# 차고 면적(이상치가 있다.) \n",
    "print(np.mean(df['Garage Area']))\n",
    "print(np.median(df['Garage Area']))\n",
    "print(np.max(df['Garage Area']))\n",
    "print(np.min(df['Garage Area']))\n",
    "# 지하실 면적(이상치 존재 그나마 양호)\n",
    "print(np.mean(df['Total Bsmt SF']))   \n",
    "print(np.median(df['Total Bsmt SF']))\n",
    "print(np.max(df['Total Bsmt SF']))\n",
    "print(np.min(df['Total Bsmt SF']))\n",
    "# 1층 면적 구간( 1층이랑 지상면적구간이 비슷한 곳이 있다(?) 확인 )\n",
    "print(np.mean(df['1st Flr SF']))   \n",
    "print(np.median(df['1st Flr SF']))\n",
    "print(np.max(df['1st Flr SF']))\n",
    "print(np.min(df['1st Flr SF']))\n",
    "# 가격 (비싼곳과 싼곳의 차이는 월등하다.)\n",
    "print(np.mean(df['target']))   \n",
    "print(np.median(df['target']))\n",
    "print(np.max(df['target']))\n",
    "print(np.min(df['target']))"
   ]
  },
  {
   "cell_type": "code",
   "execution_count": 8,
   "id": "4850612f",
   "metadata": {
    "scrolled": true
   },
   "outputs": [
    {
     "name": "stdout",
     "output_type": "stream",
     "text": [
      "['Ex' 'Gd' 'TA' 'Fa']\n",
      "[3 2 1 4 5]\n",
      "['Ex' 'Gd' 'TA' 'Fa']\n",
      "[2 1 3 0 4]\n",
      "[1880, 1882, 1885, 1890, 1892, 1893, 1900, 1908, 1910, 1912, 1913, 1914, 1915, 1916, 1917, 1918, 1919, 1920, 1921, 1922, 1923, 1924, 1925, 1926, 1927, 1928, 1929, 1930, 1931, 1932, 1934, 1935, 1936, 1937, 1938, 1939, 1940, 1941, 1942, 1945, 1946, 1947, 1948, 1949, 1950, 1951, 1952, 1953, 1954, 1955, 1956, 1957, 1958, 1959, 1960, 1961, 1962, 1963, 1964, 1965, 1966, 1967, 1968, 1969, 1970, 1971, 1972, 1973, 1974, 1975, 1976, 1977, 1978, 1979, 1980, 1981, 1982, 1983, 1984, 1985, 1986, 1987, 1988, 1989, 1990, 1991, 1992, 1993, 1994, 1995, 1996, 1997, 1998, 1999, 2000, 2001, 2002, 2003, 2004, 2005, 2006, 2007, 2008, 2009, 2010]\n",
      "[1900, 1910, 1914, 1915, 1916, 1918, 1919, 1920, 1921, 1922, 1923, 1924, 1925, 1926, 1927, 1928, 1929, 1930, 1931, 1932, 1934, 1935, 1936, 1937, 1938, 1939, 1940, 1941, 1942, 1943, 1945, 1946, 1947, 1948, 1949, 1950, 1951, 1952, 1953, 1954, 1955, 1956, 1957, 1958, 1959, 1960, 1961, 1962, 1963, 1964, 1965, 1966, 1967, 1968, 1969, 1970, 1971, 1972, 1973, 1974, 1975, 1976, 1977, 1978, 1979, 1980, 1981, 1982, 1983, 1984, 1985, 1986, 1987, 1988, 1989, 1990, 1991, 1992, 1993, 1994, 1995, 1996, 1997, 1998, 1999, 2000, 2001, 2002, 2003, 2004, 2005, 2006, 2007, 2008, 2009, 2010, 2207]\n",
      "[1950, 1951, 1952, 1953, 1954, 1955, 1956, 1957, 1958, 1959, 1960, 1961, 1962, 1963, 1964, 1965, 1966, 1967, 1968, 1969, 1970, 1971, 1972, 1973, 1974, 1975, 1976, 1977, 1978, 1979, 1980, 1981, 1982, 1983, 1984, 1985, 1986, 1987, 1988, 1989, 1990, 1991, 1992, 1993, 1994, 1995, 1996, 1997, 1998, 1999, 2000, 2001, 2002, 2003, 2004, 2005, 2006, 2007, 2008, 2009, 2010]\n"
     ]
    }
   ],
   "source": [
    "#외관재료 품질 ,차고자리개수, 부엌품질, 화장실 개수\n",
    "print(df['Exter Qual'].unique())\n",
    "print(df['Garage Cars'].unique())  # 5대가 끝\n",
    "print(df['Kitchen Qual'].unique())\n",
    "print(df['Full Bath'].unique())# 0에서 4개까지 \n",
    "print(sorted( df['Year Built'].unique()))\n",
    "print(sorted( df['Garage Yr Blt'].unique())) # 2207이 있네..... 2007년으로 바꾸자\n",
    "print(sorted( df['Year Remod/Add'].unique())) "
   ]
  },
  {
   "cell_type": "code",
   "execution_count": 9,
   "id": "0d808eeb",
   "metadata": {
    "scrolled": true
   },
   "outputs": [],
   "source": [
    "df['Garage Yr Blt'] = df['Garage Yr Blt'].replace([2207],[2007] ) # 2207을 2007로 "
   ]
  },
  {
   "cell_type": "code",
   "execution_count": 10,
   "id": "e4cebd6e",
   "metadata": {},
   "outputs": [
    {
     "data": {
      "text/html": [
       "<div>\n",
       "<style scoped>\n",
       "    .dataframe tbody tr th:only-of-type {\n",
       "        vertical-align: middle;\n",
       "    }\n",
       "\n",
       "    .dataframe tbody tr th {\n",
       "        vertical-align: top;\n",
       "    }\n",
       "\n",
       "    .dataframe thead th {\n",
       "        text-align: right;\n",
       "    }\n",
       "</style>\n",
       "<table border=\"1\" class=\"dataframe\">\n",
       "  <thead>\n",
       "    <tr style=\"text-align: right;\">\n",
       "      <th></th>\n",
       "      <th>id</th>\n",
       "      <th>Overall Qual</th>\n",
       "      <th>Gr Liv Area</th>\n",
       "      <th>Exter Qual</th>\n",
       "      <th>Garage Cars</th>\n",
       "      <th>Garage Area</th>\n",
       "      <th>Kitchen Qual</th>\n",
       "      <th>Total Bsmt SF</th>\n",
       "      <th>1st Flr SF</th>\n",
       "      <th>Bsmt Qual</th>\n",
       "      <th>Full Bath</th>\n",
       "      <th>Year Built</th>\n",
       "      <th>Year Remod/Add</th>\n",
       "      <th>Garage Yr Blt</th>\n",
       "      <th>target</th>\n",
       "    </tr>\n",
       "  </thead>\n",
       "  <tbody>\n",
       "  </tbody>\n",
       "</table>\n",
       "</div>"
      ],
      "text/plain": [
       "Empty DataFrame\n",
       "Columns: [id, Overall Qual, Gr Liv Area, Exter Qual, Garage Cars, Garage Area, Kitchen Qual, Total Bsmt SF, 1st Flr SF, Bsmt Qual, Full Bath, Year Built, Year Remod/Add, Garage Yr Blt, target]\n",
       "Index: []"
      ]
     },
     "execution_count": 10,
     "metadata": {},
     "output_type": "execute_result"
    }
   ],
   "source": [
    "df[df['Garage Yr Blt'] == 2207] # 2207이 있는지 확인"
   ]
  },
  {
   "cell_type": "code",
   "execution_count": 11,
   "id": "b9cd254b",
   "metadata": {},
   "outputs": [
    {
     "name": "stderr",
     "output_type": "stream",
     "text": [
      "C:\\ProgramData\\Anaconda3\\lib\\site-packages\\seaborn\\_decorators.py:36: FutureWarning: Pass the following variable as a keyword arg: x. From version 0.12, the only valid positional argument will be `data`, and passing other arguments without an explicit keyword will result in an error or misinterpretation.\n",
      "  warnings.warn(\n"
     ]
    },
    {
     "data": {
      "text/plain": [
       "<AxesSubplot:xlabel='Exter Qual', ylabel='count'>"
      ]
     },
     "execution_count": 11,
     "metadata": {},
     "output_type": "execute_result"
    },
    {
     "data": {
      "image/png": "[encoded data removed]",
      "text/plain": [
       "<Figure size 432x288 with 1 Axes>"
      ]
     },
     "metadata": {
      "needs_background": "light"
     },
     "output_type": "display_data"
    }
   ],
   "source": [
    "sns.countplot( df['Exter Qual'], data = df)"
   ]
  },
  {
   "cell_type": "code",
   "execution_count": 12,
   "id": "3959c767",
   "metadata": {},
   "outputs": [
    {
     "name": "stderr",
     "output_type": "stream",
     "text": [
      "C:\\ProgramData\\Anaconda3\\lib\\site-packages\\seaborn\\_decorators.py:36: FutureWarning: Pass the following variable as a keyword arg: x. From version 0.12, the only valid positional argument will be `data`, and passing other arguments without an explicit keyword will result in an error or misinterpretation.\n",
      "  warnings.warn(\n"
     ]
    },
    {
     "data": {
      "text/plain": [
       "<AxesSubplot:xlabel='Kitchen Qual', ylabel='count'>"
      ]
     },
     "execution_count": 12,
     "metadata": {},
     "output_type": "execute_result"
    },
    {
     "data": {
      "image/png": "[encoded data removed]",
      "text/plain": [
       "<Figure size 432x288 with 1 Axes>"
      ]
     },
     "metadata": {
      "needs_background": "light"
     },
     "output_type": "display_data"
    }
   ],
   "source": [
    "sns.countplot(df['Kitchen Qual'],data = df)"
   ]
  },
  {
   "cell_type": "code",
   "execution_count": 13,
   "id": "80c2df49",
   "metadata": {},
   "outputs": [
    {
     "name": "stderr",
     "output_type": "stream",
     "text": [
      "C:\\ProgramData\\Anaconda3\\lib\\site-packages\\seaborn\\_decorators.py:36: FutureWarning: Pass the following variable as a keyword arg: x. From version 0.12, the only valid positional argument will be `data`, and passing other arguments without an explicit keyword will result in an error or misinterpretation.\n",
      "  warnings.warn(\n"
     ]
    },
    {
     "data": {
      "text/plain": [
       "<AxesSubplot:xlabel='Overall Qual', ylabel='count'>"
      ]
     },
     "execution_count": 13,
     "metadata": {},
     "output_type": "execute_result"
    },
    {
     "data": {
      "image/png": "[encoded data removed]",
      "text/plain": [
       "<Figure size 432x288 with 1 Axes>"
      ]
     },
     "metadata": {
      "needs_background": "light"
     },
     "output_type": "display_data"
    }
   ],
   "source": [
    "sns.countplot(df['Overall Qual'],data = df)"
   ]
  },
  {
   "cell_type": "code",
   "execution_count": 14,
   "id": "c033b047",
   "metadata": {},
   "outputs": [
    {
     "name": "stderr",
     "output_type": "stream",
     "text": [
      "C:\\ProgramData\\Anaconda3\\lib\\site-packages\\seaborn\\_decorators.py:36: FutureWarning: Pass the following variable as a keyword arg: x. From version 0.12, the only valid positional argument will be `data`, and passing other arguments without an explicit keyword will result in an error or misinterpretation.\n",
      "  warnings.warn(\n"
     ]
    },
    {
     "data": {
      "text/plain": [
       "<AxesSubplot:xlabel='Bsmt Qual', ylabel='count'>"
      ]
     },
     "execution_count": 14,
     "metadata": {},
     "output_type": "execute_result"
    },
    {
     "data": {
      "image/png": "[encoded data removed]",
      "text/plain": [
       "<Figure size 432x288 with 1 Axes>"
      ]
     },
     "metadata": {
      "needs_background": "light"
     },
     "output_type": "display_data"
    }
   ],
   "source": [
    "sns.countplot(df['Bsmt Qual'],data = df) # po 가 하나 더 있네..."
   ]
  },
  {
   "cell_type": "code",
   "execution_count": 15,
   "id": "9195ef20",
   "metadata": {},
   "outputs": [
    {
     "name": "stderr",
     "output_type": "stream",
     "text": [
      "C:\\ProgramData\\Anaconda3\\lib\\site-packages\\seaborn\\_decorators.py:36: FutureWarning: Pass the following variable as a keyword arg: x. From version 0.12, the only valid positional argument will be `data`, and passing other arguments without an explicit keyword will result in an error or misinterpretation.\n",
      "  warnings.warn(\n"
     ]
    },
    {
     "data": {
      "text/plain": [
       "<AxesSubplot:xlabel='Garage Cars', ylabel='count'>"
      ]
     },
     "execution_count": 15,
     "metadata": {},
     "output_type": "execute_result"
    },
    {
     "data": {
      "image/png": "[encoded data removed]",
      "text/plain": [
       "<Figure size 432x288 with 1 Axes>"
      ]
     },
     "metadata": {
      "needs_background": "light"
     },
     "output_type": "display_data"
    }
   ],
   "source": [
    "sns.countplot(df['Garage Cars'],data = df) # 2대가 가장 많다."
   ]
  },
  {
   "cell_type": "code",
   "execution_count": 16,
   "id": "ff7e3f0d",
   "metadata": {},
   "outputs": [
    {
     "name": "stderr",
     "output_type": "stream",
     "text": [
      "C:\\ProgramData\\Anaconda3\\lib\\site-packages\\seaborn\\_decorators.py:36: FutureWarning: Pass the following variable as a keyword arg: x. From version 0.12, the only valid positional argument will be `data`, and passing other arguments without an explicit keyword will result in an error or misinterpretation.\n",
      "  warnings.warn(\n"
     ]
    },
    {
     "data": {
      "text/plain": [
       "<AxesSubplot:xlabel='Full Bath', ylabel='count'>"
      ]
     },
     "execution_count": 16,
     "metadata": {},
     "output_type": "execute_result"
    },
    {
     "data": {
      "image/png": "[encoded data removed]",
      "text/plain": [
       "<Figure size 432x288 with 1 Axes>"
      ]
     },
     "metadata": {
      "needs_background": "light"
     },
     "output_type": "display_data"
    }
   ],
   "source": [
    "sns.countplot(df['Full Bath'],data = df) # 화장실 2개가 많다."
   ]
  },
  {
   "cell_type": "code",
   "execution_count": 17,
   "id": "8d5e9f4c",
   "metadata": {},
   "outputs": [
    {
     "name": "stderr",
     "output_type": "stream",
     "text": [
      "C:\\ProgramData\\Anaconda3\\lib\\site-packages\\seaborn\\_decorators.py:36: FutureWarning: Pass the following variable as a keyword arg: x. From version 0.12, the only valid positional argument will be `data`, and passing other arguments without an explicit keyword will result in an error or misinterpretation.\n",
      "  warnings.warn(\n"
     ]
    },
    {
     "data": {
      "text/plain": [
       "<AxesSubplot:xlabel='Garage Yr Blt', ylabel='count'>"
      ]
     },
     "execution_count": 17,
     "metadata": {},
     "output_type": "execute_result"
    },
    {
     "data": {
      "image/png": "[encoded data removed]",
      "text/plain": [
       "<Figure size 432x288 with 1 Axes>"
      ]
     },
     "metadata": {
      "needs_background": "light"
     },
     "output_type": "display_data"
    }
   ],
   "source": [
    "plt.xticks(rotation = -90)\n",
    "plt.rcParams['figure.figsize'] = [20, 5]\n",
    "sns.countplot(df['Garage Yr Blt'],data = df) #Year Built,Year Remod/Add ,Garage Yr Blt\n",
    "#  year bult 규칙적이게 발생 remov/add 2004~2007 1990 garage yr blt 규칙적인데 year blt 보다는 아니다. "
   ]
  },
  {
   "cell_type": "code",
   "execution_count": 19,
   "id": "3c797b21",
   "metadata": {},
   "outputs": [
    {
     "data": {
      "text/plain": [
       "<AxesSubplot:xlabel='Full Bath', ylabel='target'>"
      ]
     },
     "execution_count": 19,
     "metadata": {},
     "output_type": "execute_result"
    },
    {
     "data": {
      "image/png": "[encoded data removed]",
      "text/plain": [
       "<Figure size 1440x360 with 1 Axes>"
      ]
     },
     "metadata": {
      "needs_background": "light"
     },
     "output_type": "display_data"
    }
   ],
   "source": [
    "sns.boxplot(x = 'Full Bath', y = 'target',data = df)"
   ]
  },
  {
   "cell_type": "code",
   "execution_count": 20,
   "id": "ba1eec16",
   "metadata": {},
   "outputs": [
    {
     "data": {
      "text/plain": [
       "<AxesSubplot:xlabel='Bsmt Qual', ylabel='target'>"
      ]
     },
     "execution_count": 20,
     "metadata": {},
     "output_type": "execute_result"
    },
    {
     "data": {
      "image/png": "[encoded data removed]",
      "text/plain": [
       "<Figure size 1440x360 with 1 Axes>"
      ]
     },
     "metadata": {
      "needs_background": "light"
     },
     "output_type": "display_data"
    }
   ],
   "source": [
    "sns.boxplot(x = 'Bsmt Qual', y = 'target',data = df)  # bstm 만 빼고 ex > gd >ta 순으로 좋다. 지하실은 앞에 것보단 적게 영향력을 끼침"
   ]
  },
  {
   "cell_type": "code",
   "execution_count": 21,
   "id": "eca4edef",
   "metadata": {},
   "outputs": [
    {
     "data": {
      "text/plain": [
       "<AxesSubplot:xlabel='Year Built', ylabel='target'>"
      ]
     },
     "execution_count": 21,
     "metadata": {},
     "output_type": "execute_result"
    },
    {
     "data": {
      "image/png": "[encoded data removed]",
      "text/plain": [
       "<Figure size 1440x360 with 1 Axes>"
      ]
     },
     "metadata": {
      "needs_background": "light"
     },
     "output_type": "display_data"
    }
   ],
   "source": [
    "plt.xticks(rotation = -90)\n",
    "sns.boxplot(x = 'Year Built', y = 'target',data = df)"
   ]
  },
  {
   "cell_type": "code",
   "execution_count": 25,
   "id": "e2d7ab7d",
   "metadata": {},
   "outputs": [
    {
     "data": {
      "text/plain": [
       "<AxesSubplot:xlabel='target', ylabel='Density'>"
      ]
     },
     "execution_count": 25,
     "metadata": {},
     "output_type": "execute_result"
    },
    {
     "data": {
      "image/png": "[encoded data removed]",
      "text/plain": [
       "<Figure size 1440x360 with 1 Axes>"
      ]
     },
     "metadata": {
      "needs_background": "light"
     },
     "output_type": "display_data"
    }
   ],
   "source": [
    "sns.kdeplot(df['target'])  # 너무 한쪽에 편중이 되어있다."
   ]
  },
  {
   "cell_type": "code",
   "execution_count": 26,
   "id": "783d72c3",
   "metadata": {},
   "outputs": [
    {
     "ename": "SyntaxError",
     "evalue": "unexpected EOF while parsing (Temp/ipykernel_19688/3424595194.py, line 1)",
     "output_type": "error",
     "traceback": [
      "\u001b[1;36m  File \u001b[1;32m\"C:\\Users\\kio02\\AppData\\Local\\Temp/ipykernel_19688/3424595194.py\"\u001b[1;36m, line \u001b[1;32m1\u001b[0m\n\u001b[1;33m    sns.kdeplot(log(df['target'])\u001b[0m\n\u001b[1;37m                                 ^\u001b[0m\n\u001b[1;31mSyntaxError\u001b[0m\u001b[1;31m:\u001b[0m unexpected EOF while parsing\n"
     ]
    }
   ],
   "source": [
    "sns.kdeplot(log(df['target']))"
   ]
  },
  {
   "cell_type": "code",
   "execution_count": null,
   "id": "dbaff734",
   "metadata": {},
   "outputs": [],
   "source": [
    "df1_corr = df1.corr()"
   ]
  },
  {
   "cell_type": "code",
   "execution_count": 16,
   "id": "529b888e",
   "metadata": {},
   "outputs": [
    {
     "data": {
      "text/plain": [
       "<AxesSubplot:>"
      ]
     },
     "execution_count": 16,
     "metadata": {},
     "output_type": "execute_result"
    },
    {
     "data": {
      "image/png": "[encoded data removed]",
      "text/plain": [
       "<Figure size 1440x360 with 2 Axes>"
      ]
     },
     "metadata": {
      "needs_background": "light"
     },
     "output_type": "display_data"
    }
   ],
   "source": [
    "sns.heatmap(df1_corr,annot =True) # Garcar - Gar are total Bsmtsf - 1st fir sf yearbult-yearrm garyrblt yearbult  "
   ]
  },
  {
   "cell_type": "code",
   "execution_count": 13,
   "id": "2aebbcc2",
   "metadata": {},
   "outputs": [],
   "source": [
    "import statsmodels.api  as sm\n",
    "import statsmodels.formula.api as smf\n",
    "from sklearn.linear_model import LinearRegression , Ridge, Lasso\n",
    "from sklearn.model_selection import train_test_split\n",
    "from sklearn.ensemble import RandomForestRegressor\n",
    "from sklearn.metrics import r2_score"
   ]
  },
  {
   "cell_type": "markdown",
   "id": "609f164a",
   "metadata": {},
   "source": [
    "# 회귀분석 , 랜덤포래스트 "
   ]
  },
  {
   "cell_type": "code",
   "execution_count": 12,
   "id": "1c7eec25",
   "metadata": {},
   "outputs": [],
   "source": [
    "df1 = df.copy()"
   ]
  },
  {
   "cell_type": "code",
   "execution_count": 14,
   "id": "1475dec9",
   "metadata": {},
   "outputs": [],
   "source": [
    "df1 = df1.apply(lambda x : x.replace('Ex',5))\n",
    "df1 = df1.apply(lambda x : x.replace('Gd',4))\n",
    "df1 = df1.apply(lambda x : x.replace('TA',3))\n",
    "df1 = df1.apply(lambda x : x.replace('Fa',2))\n",
    "df1 = df1.apply(lambda x : x.replace('Po',1)) # ex,Gd,Ta"
   ]
  },
  {
   "cell_type": "code",
   "execution_count": 9,
   "id": "66112609",
   "metadata": {},
   "outputs": [],
   "source": [
    "df2 = df1.copy()"
   ]
  },
  {
   "cell_type": "markdown",
   "id": "dfa03d48",
   "metadata": {},
   "source": [
    "# train-test"
   ]
  },
  {
   "cell_type": "code",
   "execution_count": 10,
   "id": "cb73d2e1",
   "metadata": {},
   "outputs": [],
   "source": [
    "X = df1.drop('target',axis =1)\n",
    "Y = np.log(df2['target'])"
   ]
  },
  {
   "cell_type": "code",
   "execution_count": 11,
   "id": "e44b651a",
   "metadata": {},
   "outputs": [],
   "source": [
    "x_train,x_test,y_train,y_test = train_test_split(X,Y,test_size = 0.2 ,shuffle = True)"
   ]
  },
  {
   "cell_type": "markdown",
   "id": "19c22bd1",
   "metadata": {},
   "source": [
    "# 회귀분석 ( Linear,Ridge,Lasso)"
   ]
  },
  {
   "cell_type": "code",
   "execution_count": 12,
   "id": "922bb6b6",
   "metadata": {},
   "outputs": [],
   "source": [
    "lr = LinearRegression()\n",
    "ridge = Ridge()\n",
    "lasso = Lasso()"
   ]
  },
  {
   "cell_type": "code",
   "execution_count": 13,
   "id": "87653027",
   "metadata": {},
   "outputs": [
    {
     "data": {
      "text/plain": [
       "Lasso()"
      ]
     },
     "execution_count": 13,
     "metadata": {},
     "output_type": "execute_result"
    }
   ],
   "source": [
    "lr.fit(x_train,y_train)\n",
    "ridge.fit(x_train,y_train)\n",
    "lasso.fit(x_train,y_train)"
   ]
  },
  {
   "cell_type": "code",
   "execution_count": 14,
   "id": "c2fd6d4a",
   "metadata": {},
   "outputs": [
    {
     "name": "stdout",
     "output_type": "stream",
     "text": [
      "0.8325877881820338\n",
      "0.8326833257933446\n",
      "0.7618840199919599\n"
     ]
    }
   ],
   "source": [
    "lr_rsquare = lr.score(x_test,y_test)\n",
    "ridge_rsquare = ridge.score(x_test,y_test)\n",
    "lasso_rsquare = lasso.score(x_test,y_test)\n",
    "print(lr_rsquare)\n",
    "print(ridge_rsquare)\n",
    "print(lasso_rsquare)"
   ]
  },
  {
   "cell_type": "code",
   "execution_count": 23,
   "id": "98a0bffc",
   "metadata": {},
   "outputs": [],
   "source": [
    "import numpy as np\n",
    "\n",
    "def NMAE(true, pred):\n",
    "    mae = np.mean(np.abs(true-pred))\n",
    "    score = mae / np.mean(np.abs(true))\n",
    "    return score"
   ]
  },
  {
   "cell_type": "code",
   "execution_count": 24,
   "id": "76145011",
   "metadata": {},
   "outputs": [],
   "source": [
    "from sklearn.metrics import mean_squared_error"
   ]
  },
  {
   "cell_type": "code",
   "execution_count": 25,
   "id": "3bf9b783",
   "metadata": {},
   "outputs": [],
   "source": [
    "y_lr_pred = lr.predict(x_test)"
   ]
  },
  {
   "cell_type": "code",
   "execution_count": 26,
   "id": "d1a627b0",
   "metadata": {},
   "outputs": [
    {
     "name": "stdout",
     "output_type": "stream",
     "text": [
      "0.008889679116107926\n",
      "0.008887109963440306\n"
     ]
    }
   ],
   "source": [
    "print(NMAE(y_test,y_lr_pred))\n",
    "print(NMAE(y_test,ridge.predict(x_test)))"
   ]
  },
  {
   "cell_type": "markdown",
   "id": "d3e681a0",
   "metadata": {},
   "source": [
    "# RandomForest"
   ]
  },
  {
   "cell_type": "code",
   "execution_count": 27,
   "id": "3e57e25b",
   "metadata": {},
   "outputs": [],
   "source": [
    "rf = RandomForestRegressor(n_estimators =1000,\n",
    "                          criterion = 'mse')"
   ]
  },
  {
   "cell_type": "code",
   "execution_count": 127,
   "id": "bec87500",
   "metadata": {},
   "outputs": [
    {
     "name": "stderr",
     "output_type": "stream",
     "text": [
      "C:\\Users\\kio02\\anaconda3\\lib\\site-packages\\sklearn\\ensemble\\_forest.py:388: FutureWarning: Criterion 'mse' was deprecated in v1.0 and will be removed in version 1.2. Use `criterion='squared_error'` which is equivalent.\n",
      "  warn(\n"
     ]
    },
    {
     "data": {
      "text/plain": [
       "RandomForestRegressor(criterion='mse', n_estimators=1000)"
      ]
     },
     "execution_count": 127,
     "metadata": {},
     "output_type": "execute_result"
    }
   ],
   "source": [
    "rf.fit(x_train,y_train)"
   ]
  },
  {
   "cell_type": "code",
   "execution_count": 128,
   "id": "f9cf90f6",
   "metadata": {
    "scrolled": true
   },
   "outputs": [
    {
     "name": "stdout",
     "output_type": "stream",
     "text": [
      "훈련:0.978,테스트:0.872\n",
      "0.003326400801028647\n",
      "0.015577049565867725\n"
     ]
    }
   ],
   "source": [
    "rf_train_pred = rf.predict(x_train)\n",
    "rt_test_pred = rf.predict(x_test)\n",
    "print('훈련:%.3f,테스트:%.3f' %(r2_score(y_train,rf_train_pred),r2_score(y_test,rt_test_pred)))\n",
    "print(mean_squared_error(y_train,rf_train_pred))\n",
    "print(mean_squared_error(y_test,rt_test_pred))"
   ]
  },
  {
   "cell_type": "code",
   "execution_count": 1,
   "id": "c39531aa",
   "metadata": {},
   "outputs": [
    {
     "ename": "NameError",
     "evalue": "name 'plt' is not defined",
     "output_type": "error",
     "traceback": [
      "\u001b[1;31m---------------------------------------------------------------------------\u001b[0m",
      "\u001b[1;31mNameError\u001b[0m                                 Traceback (most recent call last)",
      "\u001b[1;32m~\\AppData\\Local\\Temp/ipykernel_17596/4172307247.py\u001b[0m in \u001b[0;36m<module>\u001b[1;34m\u001b[0m\n\u001b[1;32m----> 1\u001b[1;33m \u001b[0mplt\u001b[0m\u001b[1;33m.\u001b[0m\u001b[0mscatter\u001b[0m\u001b[1;33m(\u001b[0m\u001b[0my_test\u001b[0m\u001b[1;33m.\u001b[0m\u001b[0mindex\u001b[0m\u001b[1;33m,\u001b[0m\u001b[0mrt_test_pred\u001b[0m\u001b[1;33m)\u001b[0m\u001b[1;33m\u001b[0m\u001b[1;33m\u001b[0m\u001b[0m\n\u001b[0m\u001b[0;32m      2\u001b[0m \u001b[0mplt\u001b[0m\u001b[1;33m.\u001b[0m\u001b[0mscatter\u001b[0m\u001b[1;33m(\u001b[0m\u001b[0my_test\u001b[0m\u001b[1;33m.\u001b[0m\u001b[0mindex\u001b[0m\u001b[1;33m,\u001b[0m\u001b[0my_test\u001b[0m\u001b[1;33m,\u001b[0m\u001b[0mcolor\u001b[0m \u001b[1;33m=\u001b[0m \u001b[1;34m'red'\u001b[0m\u001b[1;33m)\u001b[0m\u001b[1;33m\u001b[0m\u001b[1;33m\u001b[0m\u001b[0m\n\u001b[0;32m      3\u001b[0m \u001b[0mplt\u001b[0m\u001b[1;33m.\u001b[0m\u001b[0mlegend\u001b[0m\u001b[1;33m(\u001b[0m\u001b[1;33m)\u001b[0m\u001b[1;33m\u001b[0m\u001b[1;33m\u001b[0m\u001b[0m\n\u001b[0;32m      4\u001b[0m \u001b[0mplt\u001b[0m\u001b[1;33m.\u001b[0m\u001b[0mshow\u001b[0m\u001b[1;33m(\u001b[0m\u001b[1;33m)\u001b[0m \u001b[1;31m# 그림을 그려서 얼마나 예측하였는지 확인\u001b[0m\u001b[1;33m\u001b[0m\u001b[1;33m\u001b[0m\u001b[0m\n",
      "\u001b[1;31mNameError\u001b[0m: name 'plt' is not defined"
     ]
    }
   ],
   "source": [
    "plt.scatter(y_test.index,rt_test_pred)\n",
    "plt.scatter(y_test.index,y_test,color = 'red')\n",
    "plt.legend()\n",
    "plt.show() # 그림을 그려서 얼마나 예측하였는지 확인"
   ]
  },
  {
   "cell_type": "code",
   "execution_count": 130,
   "id": "26030072",
   "metadata": {},
   "outputs": [
    {
     "data": {
      "text/plain": [
       "0.007694089226615172"
      ]
     },
     "execution_count": 130,
     "metadata": {},
     "output_type": "execute_result"
    }
   ],
   "source": [
    "NMAE(y_test,rt_test_pred)"
   ]
  },
  {
   "cell_type": "markdown",
   "id": "b8d78e00",
   "metadata": {},
   "source": [
    "## randomforest 의 NMAE 값이 가장 작다"
   ]
  },
  {
   "cell_type": "code",
   "execution_count": 53,
   "id": "f25632e4",
   "metadata": {},
   "outputs": [],
   "source": [
    "test_df = pd.read_csv('E:/data/housing/test.csv')"
   ]
  },
  {
   "cell_type": "code",
   "execution_count": 54,
   "id": "be39f774",
   "metadata": {},
   "outputs": [
    {
     "data": {
      "text/html": [
       "<div>\n",
       "<style scoped>\n",
       "    .dataframe tbody tr th:only-of-type {\n",
       "        vertical-align: middle;\n",
       "    }\n",
       "\n",
       "    .dataframe tbody tr th {\n",
       "        vertical-align: top;\n",
       "    }\n",
       "\n",
       "    .dataframe thead th {\n",
       "        text-align: right;\n",
       "    }\n",
       "</style>\n",
       "<table border=\"1\" class=\"dataframe\">\n",
       "  <thead>\n",
       "    <tr style=\"text-align: right;\">\n",
       "      <th></th>\n",
       "      <th>id</th>\n",
       "      <th>Overall Qual</th>\n",
       "      <th>Gr Liv Area</th>\n",
       "      <th>Exter Qual</th>\n",
       "      <th>Garage Cars</th>\n",
       "      <th>Garage Area</th>\n",
       "      <th>Kitchen Qual</th>\n",
       "      <th>Total Bsmt SF</th>\n",
       "      <th>1st Flr SF</th>\n",
       "      <th>Bsmt Qual</th>\n",
       "      <th>Full Bath</th>\n",
       "      <th>Year Built</th>\n",
       "      <th>Year Remod/Add</th>\n",
       "      <th>Garage Yr Blt</th>\n",
       "    </tr>\n",
       "  </thead>\n",
       "  <tbody>\n",
       "    <tr>\n",
       "      <th>0</th>\n",
       "      <td>1</td>\n",
       "      <td>9</td>\n",
       "      <td>1800</td>\n",
       "      <td>Gd</td>\n",
       "      <td>2</td>\n",
       "      <td>702</td>\n",
       "      <td>Ex</td>\n",
       "      <td>1800</td>\n",
       "      <td>1800</td>\n",
       "      <td>Ex</td>\n",
       "      <td>2</td>\n",
       "      <td>2007</td>\n",
       "      <td>2007</td>\n",
       "      <td>2007</td>\n",
       "    </tr>\n",
       "    <tr>\n",
       "      <th>1</th>\n",
       "      <td>2</td>\n",
       "      <td>6</td>\n",
       "      <td>1082</td>\n",
       "      <td>TA</td>\n",
       "      <td>1</td>\n",
       "      <td>240</td>\n",
       "      <td>TA</td>\n",
       "      <td>1082</td>\n",
       "      <td>1082</td>\n",
       "      <td>TA</td>\n",
       "      <td>1</td>\n",
       "      <td>1948</td>\n",
       "      <td>1950</td>\n",
       "      <td>1948</td>\n",
       "    </tr>\n",
       "    <tr>\n",
       "      <th>2</th>\n",
       "      <td>3</td>\n",
       "      <td>6</td>\n",
       "      <td>1573</td>\n",
       "      <td>Gd</td>\n",
       "      <td>2</td>\n",
       "      <td>440</td>\n",
       "      <td>Gd</td>\n",
       "      <td>756</td>\n",
       "      <td>769</td>\n",
       "      <td>Gd</td>\n",
       "      <td>2</td>\n",
       "      <td>2000</td>\n",
       "      <td>2000</td>\n",
       "      <td>2000</td>\n",
       "    </tr>\n",
       "    <tr>\n",
       "      <th>3</th>\n",
       "      <td>4</td>\n",
       "      <td>6</td>\n",
       "      <td>2443</td>\n",
       "      <td>Gd</td>\n",
       "      <td>3</td>\n",
       "      <td>744</td>\n",
       "      <td>Gd</td>\n",
       "      <td>1158</td>\n",
       "      <td>1158</td>\n",
       "      <td>Gd</td>\n",
       "      <td>2</td>\n",
       "      <td>2004</td>\n",
       "      <td>2004</td>\n",
       "      <td>2004</td>\n",
       "    </tr>\n",
       "    <tr>\n",
       "      <th>4</th>\n",
       "      <td>5</td>\n",
       "      <td>5</td>\n",
       "      <td>1040</td>\n",
       "      <td>TA</td>\n",
       "      <td>2</td>\n",
       "      <td>686</td>\n",
       "      <td>TA</td>\n",
       "      <td>1040</td>\n",
       "      <td>1040</td>\n",
       "      <td>TA</td>\n",
       "      <td>1</td>\n",
       "      <td>1968</td>\n",
       "      <td>1968</td>\n",
       "      <td>1991</td>\n",
       "    </tr>\n",
       "    <tr>\n",
       "      <th>...</th>\n",
       "      <td>...</td>\n",
       "      <td>...</td>\n",
       "      <td>...</td>\n",
       "      <td>...</td>\n",
       "      <td>...</td>\n",
       "      <td>...</td>\n",
       "      <td>...</td>\n",
       "      <td>...</td>\n",
       "      <td>...</td>\n",
       "      <td>...</td>\n",
       "      <td>...</td>\n",
       "      <td>...</td>\n",
       "      <td>...</td>\n",
       "      <td>...</td>\n",
       "    </tr>\n",
       "    <tr>\n",
       "      <th>1345</th>\n",
       "      <td>1346</td>\n",
       "      <td>8</td>\n",
       "      <td>1932</td>\n",
       "      <td>Ex</td>\n",
       "      <td>3</td>\n",
       "      <td>774</td>\n",
       "      <td>Ex</td>\n",
       "      <td>1932</td>\n",
       "      <td>1932</td>\n",
       "      <td>Ex</td>\n",
       "      <td>2</td>\n",
       "      <td>2008</td>\n",
       "      <td>2008</td>\n",
       "      <td>2008</td>\n",
       "    </tr>\n",
       "    <tr>\n",
       "      <th>1346</th>\n",
       "      <td>1347</td>\n",
       "      <td>5</td>\n",
       "      <td>912</td>\n",
       "      <td>TA</td>\n",
       "      <td>1</td>\n",
       "      <td>288</td>\n",
       "      <td>TA</td>\n",
       "      <td>912</td>\n",
       "      <td>912</td>\n",
       "      <td>TA</td>\n",
       "      <td>1</td>\n",
       "      <td>1964</td>\n",
       "      <td>1964</td>\n",
       "      <td>1964</td>\n",
       "    </tr>\n",
       "    <tr>\n",
       "      <th>1347</th>\n",
       "      <td>1348</td>\n",
       "      <td>4</td>\n",
       "      <td>861</td>\n",
       "      <td>TA</td>\n",
       "      <td>2</td>\n",
       "      <td>288</td>\n",
       "      <td>TA</td>\n",
       "      <td>861</td>\n",
       "      <td>861</td>\n",
       "      <td>Fa</td>\n",
       "      <td>1</td>\n",
       "      <td>1920</td>\n",
       "      <td>1950</td>\n",
       "      <td>1920</td>\n",
       "    </tr>\n",
       "    <tr>\n",
       "      <th>1348</th>\n",
       "      <td>1349</td>\n",
       "      <td>5</td>\n",
       "      <td>1430</td>\n",
       "      <td>TA</td>\n",
       "      <td>2</td>\n",
       "      <td>624</td>\n",
       "      <td>Gd</td>\n",
       "      <td>1430</td>\n",
       "      <td>1430</td>\n",
       "      <td>Ex</td>\n",
       "      <td>2</td>\n",
       "      <td>2004</td>\n",
       "      <td>2005</td>\n",
       "      <td>2004</td>\n",
       "    </tr>\n",
       "    <tr>\n",
       "      <th>1349</th>\n",
       "      <td>1350</td>\n",
       "      <td>5</td>\n",
       "      <td>2337</td>\n",
       "      <td>TA</td>\n",
       "      <td>2</td>\n",
       "      <td>560</td>\n",
       "      <td>TA</td>\n",
       "      <td>662</td>\n",
       "      <td>1422</td>\n",
       "      <td>TA</td>\n",
       "      <td>2</td>\n",
       "      <td>1900</td>\n",
       "      <td>1950</td>\n",
       "      <td>1945</td>\n",
       "    </tr>\n",
       "  </tbody>\n",
       "</table>\n",
       "<p>1350 rows × 14 columns</p>\n",
       "</div>"
      ],
      "text/plain": [
       "        id  Overall Qual  Gr Liv Area Exter Qual  Garage Cars  Garage Area  \\\n",
       "0        1             9         1800         Gd            2          702   \n",
       "1        2             6         1082         TA            1          240   \n",
       "2        3             6         1573         Gd            2          440   \n",
       "3        4             6         2443         Gd            3          744   \n",
       "4        5             5         1040         TA            2          686   \n",
       "...    ...           ...          ...        ...          ...          ...   \n",
       "1345  1346             8         1932         Ex            3          774   \n",
       "1346  1347             5          912         TA            1          288   \n",
       "1347  1348             4          861         TA            2          288   \n",
       "1348  1349             5         1430         TA            2          624   \n",
       "1349  1350             5         2337         TA            2          560   \n",
       "\n",
       "     Kitchen Qual  Total Bsmt SF  1st Flr SF Bsmt Qual  Full Bath  Year Built  \\\n",
       "0              Ex           1800        1800        Ex          2        2007   \n",
       "1              TA           1082        1082        TA          1        1948   \n",
       "2              Gd            756         769        Gd          2        2000   \n",
       "3              Gd           1158        1158        Gd          2        2004   \n",
       "4              TA           1040        1040        TA          1        1968   \n",
       "...           ...            ...         ...       ...        ...         ...   \n",
       "1345           Ex           1932        1932        Ex          2        2008   \n",
       "1346           TA            912         912        TA          1        1964   \n",
       "1347           TA            861         861        Fa          1        1920   \n",
       "1348           Gd           1430        1430        Ex          2        2004   \n",
       "1349           TA            662        1422        TA          2        1900   \n",
       "\n",
       "      Year Remod/Add  Garage Yr Blt  \n",
       "0               2007           2007  \n",
       "1               1950           1948  \n",
       "2               2000           2000  \n",
       "3               2004           2004  \n",
       "4               1968           1991  \n",
       "...              ...            ...  \n",
       "1345            2008           2008  \n",
       "1346            1964           1964  \n",
       "1347            1950           1920  \n",
       "1348            2005           2004  \n",
       "1349            1950           1945  \n",
       "\n",
       "[1350 rows x 14 columns]"
      ]
     },
     "execution_count": 54,
     "metadata": {},
     "output_type": "execute_result"
    }
   ],
   "source": [
    "test_df"
   ]
  },
  {
   "cell_type": "code",
   "execution_count": 55,
   "id": "4cc5071d",
   "metadata": {},
   "outputs": [],
   "source": [
    "test_df = test_df.apply(lambda x : x.replace('Ex',5))\n",
    "test_df= test_df.apply(lambda x : x.replace('Gd',4))\n",
    "test_df= test_df.apply(lambda x : x.replace('TA',3))\n",
    "test_df= test_df.apply(lambda x : x.replace('Fa',2))\n",
    "test_df= test_df.apply(lambda x : x.replace('Po',1))"
   ]
  },
  {
   "cell_type": "code",
   "execution_count": 56,
   "id": "19891acd",
   "metadata": {},
   "outputs": [],
   "source": [
    "testdf1 = test_df.copy()"
   ]
  },
  {
   "cell_type": "code",
   "execution_count": 46,
   "id": "d6824eaf",
   "metadata": {},
   "outputs": [
    {
     "name": "stderr",
     "output_type": "stream",
     "text": [
      "C:\\Users\\kio02\\anaconda3\\lib\\site-packages\\sklearn\\ensemble\\_forest.py:388: FutureWarning: Criterion 'mse' was deprecated in v1.0 and will be removed in version 1.2. Use `criterion='squared_error'` which is equivalent.\n",
      "  warn(\n"
     ]
    },
    {
     "data": {
      "text/plain": [
       "RandomForestRegressor(criterion='mse', n_estimators=1000)"
      ]
     },
     "execution_count": 46,
     "metadata": {},
     "output_type": "execute_result"
    }
   ],
   "source": [
    "rf.fit(X,Y)"
   ]
  },
  {
   "cell_type": "code",
   "execution_count": 57,
   "id": "f64dd699",
   "metadata": {},
   "outputs": [
    {
     "data": {
      "text/plain": [
       "Ridge()"
      ]
     },
     "execution_count": 57,
     "metadata": {},
     "output_type": "execute_result"
    }
   ],
   "source": [
    "ridge.fit(X,Y)"
   ]
  },
  {
   "cell_type": "code",
   "execution_count": 58,
   "id": "b416e9c5",
   "metadata": {},
   "outputs": [],
   "source": [
    "ridge_predict = ridge.predict(testdf1)"
   ]
  },
  {
   "cell_type": "code",
   "execution_count": 59,
   "id": "12a968e3",
   "metadata": {},
   "outputs": [],
   "source": [
    "final_rd = np.exp(ridge_predict)"
   ]
  },
  {
   "cell_type": "code",
   "execution_count": 61,
   "id": "dfcefc59",
   "metadata": {},
   "outputs": [],
   "source": [
    "testdf1['target'] = final_rd"
   ]
  },
  {
   "cell_type": "code",
   "execution_count": 29,
   "id": "0fda3fee",
   "metadata": {},
   "outputs": [],
   "source": [
    "test_predict = rf.predict(test_df)"
   ]
  },
  {
   "cell_type": "code",
   "execution_count": 30,
   "id": "a4bf0296",
   "metadata": {},
   "outputs": [],
   "source": [
    "final_predict = np.exp(test_predict) # 예측한 값을 제곱하여 원래 값으로 돌려준다."
   ]
  },
  {
   "cell_type": "code",
   "execution_count": 31,
   "id": "d43ccf9e",
   "metadata": {},
   "outputs": [],
   "source": [
    "test_df['target'] = final_predict"
   ]
  },
  {
   "cell_type": "code",
   "execution_count": 63,
   "id": "af84c0fa",
   "metadata": {},
   "outputs": [],
   "source": [
    "submission1 = testdf1[['id','target']]"
   ]
  },
  {
   "cell_type": "code",
   "execution_count": 32,
   "id": "738ffadd",
   "metadata": {},
   "outputs": [],
   "source": [
    "submission = test_df[['id','target']]"
   ]
  },
  {
   "cell_type": "code",
   "execution_count": 33,
   "id": "f1e4aedb",
   "metadata": {},
   "outputs": [
    {
     "data": {
      "text/html": [
       "<div>\n",
       "<style scoped>\n",
       "    .dataframe tbody tr th:only-of-type {\n",
       "        vertical-align: middle;\n",
       "    }\n",
       "\n",
       "    .dataframe tbody tr th {\n",
       "        vertical-align: top;\n",
       "    }\n",
       "\n",
       "    .dataframe thead th {\n",
       "        text-align: right;\n",
       "    }\n",
       "</style>\n",
       "<table border=\"1\" class=\"dataframe\">\n",
       "  <thead>\n",
       "    <tr style=\"text-align: right;\">\n",
       "      <th></th>\n",
       "      <th>id</th>\n",
       "      <th>target</th>\n",
       "    </tr>\n",
       "  </thead>\n",
       "  <tbody>\n",
       "    <tr>\n",
       "      <th>0</th>\n",
       "      <td>1</td>\n",
       "      <td>330505.475753</td>\n",
       "    </tr>\n",
       "    <tr>\n",
       "      <th>1</th>\n",
       "      <td>2</td>\n",
       "      <td>129527.549083</td>\n",
       "    </tr>\n",
       "    <tr>\n",
       "      <th>2</th>\n",
       "      <td>3</td>\n",
       "      <td>178869.160224</td>\n",
       "    </tr>\n",
       "    <tr>\n",
       "      <th>3</th>\n",
       "      <td>4</td>\n",
       "      <td>223897.787829</td>\n",
       "    </tr>\n",
       "    <tr>\n",
       "      <th>4</th>\n",
       "      <td>5</td>\n",
       "      <td>133753.547681</td>\n",
       "    </tr>\n",
       "  </tbody>\n",
       "</table>\n",
       "</div>"
      ],
      "text/plain": [
       "   id         target\n",
       "0   1  330505.475753\n",
       "1   2  129527.549083\n",
       "2   3  178869.160224\n",
       "3   4  223897.787829\n",
       "4   5  133753.547681"
      ]
     },
     "execution_count": 33,
     "metadata": {},
     "output_type": "execute_result"
    }
   ],
   "source": [
    "submission.head()"
   ]
  },
  {
   "cell_type": "code",
   "execution_count": 35,
   "id": "ced475a9",
   "metadata": {},
   "outputs": [],
   "source": [
    "submission.to_csv('E:/data/housing/submission.csv',index = False)"
   ]
  },
  {
   "cell_type": "code",
   "execution_count": 64,
   "id": "43753b25",
   "metadata": {},
   "outputs": [],
   "source": [
    "submission1.to_csv('E:/data/housing/submission1.csv',index = False)"
   ]
  },
  {
   "cell_type": "code",
   "execution_count": null,
   "id": "43e4a497",
   "metadata": {},
   "outputs": [],
   "source": []
  }
 ],
 "metadata": {
  "kernelspec": {
   "display_name": "Python 3 (ipykernel)",
   "language": "python",
   "name": "python3"
  },
  "language_info": {
   "codemirror_mode": {
    "name": "ipython",
    "version": 3
   },
   "file_extension": ".py",
   "mimetype": "text/x-python",
   "name": "python",
   "nbconvert_exporter": "python",
   "pygments_lexer": "ipython3",
   "version": "3.9.7"
  }
 },
 "nbformat": 4,
 "nbformat_minor": 5
}
